{
 "cells": [
  {
   "cell_type": "markdown",
   "id": "4f5eb25f",
   "metadata": {},
   "source": [
    "## Control Flow"
   ]
  },
  {
   "cell_type": "code",
   "execution_count": 12,
   "id": "1e3dfa5c",
   "metadata": {},
   "outputs": [
    {
     "name": "stdout",
     "output_type": "stream",
     "text": [
      "Greater than 10\n"
     ]
    }
   ],
   "source": [
    "## selection\n",
    "## if satetement\n",
    "\n",
    "var = 11\n",
    "\n",
    "## condition\n",
    "if var >= 10:\n",
    "    ## statements\n",
    "    print(\"Greater than 10\")\n",
    "else:\n",
    "    ## statements\n",
    "    print(\"Less than 10.\")"
   ]
  },
  {
   "cell_type": "code",
   "execution_count": 11,
   "id": "c396dff8",
   "metadata": {},
   "outputs": [
    {
     "data": {
      "text/plain": [
       "True"
      ]
     },
     "execution_count": 11,
     "metadata": {},
     "output_type": "execute_result"
    }
   ],
   "source": [
    "var >= 10"
   ]
  },
  {
   "cell_type": "code",
   "execution_count": 9,
   "id": "6a535a5b",
   "metadata": {},
   "outputs": [
    {
     "data": {
      "text/plain": [
       "False"
      ]
     },
     "execution_count": 9,
     "metadata": {},
     "output_type": "execute_result"
    }
   ],
   "source": [
    "var >= 10"
   ]
  },
  {
   "cell_type": "code",
   "execution_count": 14,
   "id": "d21db540",
   "metadata": {},
   "outputs": [
    {
     "name": "stdout",
     "output_type": "stream",
     "text": [
      "Not greater than 100\n"
     ]
    }
   ],
   "source": [
    "var = 1\n",
    "\n",
    "## condition\n",
    "if var >= 10 and var > 100:\n",
    "    ## statements\n",
    "    print(\"Greater than 10 and greater than 100\")\n",
    "elif var > 100:\n",
    "    print(\"Grater than 100.\")\n",
    "else:\n",
    "    ## statements\n",
    "    print(\"Not greater than 100\")"
   ]
  },
  {
   "cell_type": "code",
   "execution_count": null,
   "id": "4dffb135",
   "metadata": {},
   "outputs": [],
   "source": [
    "# func()\n",
    "# {\n",
    "#     ## line of code\n",
    "# }"
   ]
  },
  {
   "cell_type": "code",
   "execution_count": null,
   "id": "c635950c",
   "metadata": {},
   "outputs": [],
   "source": [
    "## condition\n",
    "if var >= 10 and var > 100:\n",
    "    ## statements\n",
    "    print(\"Greater than 10 and greater than 100\")\n",
    "else:\n",
    "    print(\"Something\")"
   ]
  },
  {
   "cell_type": "code",
   "execution_count": null,
   "id": "9ecd4f3f",
   "metadata": {},
   "outputs": [],
   "source": []
  },
  {
   "cell_type": "code",
   "execution_count": null,
   "id": "4c369a93",
   "metadata": {},
   "outputs": [],
   "source": []
  },
  {
   "cell_type": "code",
   "execution_count": null,
   "id": "10846adc",
   "metadata": {},
   "outputs": [],
   "source": []
  },
  {
   "cell_type": "code",
   "execution_count": 30,
   "id": "c0e60ab5",
   "metadata": {},
   "outputs": [
    {
     "name": "stdout",
     "output_type": "stream",
     "text": [
      "1\n",
      "2\n",
      "3\n",
      "5\n",
      "10\n",
      "50\n",
      "1\n",
      "2\n",
      "3\n",
      "5\n",
      "10\n",
      "50\n"
     ]
    },
    {
     "ename": "IndexError",
     "evalue": "list index out of range",
     "output_type": "error",
     "traceback": [
      "\u001b[1;31m---------------------------------------------------------------------------\u001b[0m",
      "\u001b[1;31mIndexError\u001b[0m                                Traceback (most recent call last)",
      "Cell \u001b[1;32mIn[30], line 21\u001b[0m\n\u001b[0;32m     14\u001b[0m \u001b[38;5;66;03m# print(range(len(lst)))\u001b[39;00m\n\u001b[0;32m     15\u001b[0m \u001b[38;5;66;03m# # 0 to n-1\u001b[39;00m\n\u001b[0;32m     16\u001b[0m \u001b[38;5;66;03m# # from 0 to 5\u001b[39;00m\n\u001b[0;32m     19\u001b[0m \u001b[38;5;28;01mfor\u001b[39;00m i \u001b[38;5;129;01min\u001b[39;00m \u001b[38;5;28mrange\u001b[39m(\u001b[38;5;241m10\u001b[39m):\n\u001b[0;32m     20\u001b[0m \u001b[38;5;66;03m#     print(i)\u001b[39;00m\n\u001b[1;32m---> 21\u001b[0m     \u001b[38;5;28mprint\u001b[39m(\u001b[43mlst\u001b[49m\u001b[43m[\u001b[49m\u001b[43mi\u001b[49m\u001b[43m]\u001b[49m)\n",
      "\u001b[1;31mIndexError\u001b[0m: list index out of range"
     ]
    }
   ],
   "source": [
    "## loops\n",
    "lst = [1, 2, 3, 5, 10, 50]\n",
    "# var = 10\n",
    "# print(lst[0])\n",
    "# print(lst[1])\n",
    "# print(lst[2])\n",
    "# print(lst[3])\n",
    "# print(lst[4])\n",
    "# print(lst[5])\n",
    "\n",
    "for i in lst:\n",
    "    print(i)\n",
    "    \n",
    "# print(range(len(lst)))\n",
    "# # 0 to n-1\n",
    "# # from 0 to 5\n",
    "\n",
    "\n",
    "for i in range(10):\n",
    "#     print(i)\n",
    "    print(lst[i])"
   ]
  },
  {
   "cell_type": "code",
   "execution_count": 28,
   "id": "9bd6a4e5",
   "metadata": {},
   "outputs": [
    {
     "name": "stdout",
     "output_type": "stream",
     "text": [
      "[1, 2, 3, 5, 10, 50, 1, 2, 3, 5, 10, 50, 1, 2, 3, 5, 10, 50]\n"
     ]
    }
   ],
   "source": [
    "lst = [1, 2, 3, 5, 10, 50]\n",
    "print(lst*3)"
   ]
  },
  {
   "cell_type": "code",
   "execution_count": 27,
   "id": "4bdfd5fa",
   "metadata": {},
   "outputs": [
    {
     "name": "stdout",
     "output_type": "stream",
     "text": [
      "Python\n",
      "Python\n",
      "Python\n",
      "Python\n",
      "Python\n",
      "Python\n",
      "Python\n",
      "Python\n",
      "Python\n",
      "Python\n"
     ]
    }
   ],
   "source": [
    "for i in range(10):\n",
    "    print(\"Python\")"
   ]
  },
  {
   "cell_type": "code",
   "execution_count": null,
   "id": "d22f1cd3",
   "metadata": {},
   "outputs": [],
   "source": [
    "# range(len(lst))\n",
    "# 0 to n-1, step"
   ]
  },
  {
   "cell_type": "code",
   "execution_count": 26,
   "id": "72c6de81",
   "metadata": {},
   "outputs": [
    {
     "name": "stdout",
     "output_type": "stream",
     "text": [
      "0\n",
      "5\n",
      "10\n",
      "15\n",
      "20\n",
      "25\n",
      "30\n",
      "35\n",
      "40\n",
      "45\n",
      "50\n",
      "55\n",
      "60\n",
      "65\n",
      "70\n",
      "75\n",
      "80\n",
      "85\n",
      "90\n",
      "95\n"
     ]
    }
   ],
   "source": [
    "## range(start, stop, step)\n",
    "## will go grom start to end - 1\n",
    "\n",
    "for i in range(0, 100, 5):\n",
    "    print(i)\n",
    "\n",
    "## 0, 2, 4, 6, 8"
   ]
  },
  {
   "cell_type": "code",
   "execution_count": null,
   "id": "b7009636",
   "metadata": {},
   "outputs": [],
   "source": []
  },
  {
   "cell_type": "code",
   "execution_count": 31,
   "id": "64cf4480",
   "metadata": {},
   "outputs": [
    {
     "name": "stdout",
     "output_type": "stream",
     "text": [
      "0\n",
      "1\n",
      "2\n",
      "3\n",
      "4\n",
      "5\n",
      "6\n",
      "7\n",
      "8\n",
      "9\n"
     ]
    }
   ],
   "source": [
    "## while loop\n",
    "i = 0\n",
    "while (i < 10):\n",
    "    print(i)\n",
    "#     i += 1\n",
    "    i = i + 1"
   ]
  },
  {
   "cell_type": "code",
   "execution_count": null,
   "id": "6796c6bc",
   "metadata": {},
   "outputs": [],
   "source": [
    "# while True:\n",
    "#     print(\"Python\")"
   ]
  },
  {
   "cell_type": "code",
   "execution_count": 1,
   "id": "2388c782",
   "metadata": {},
   "outputs": [
    {
     "name": "stdout",
     "output_type": "stream",
     "text": [
      "while loop\n",
      "0\n",
      "1\n",
      "2\n",
      "3\n",
      "4\n",
      "5\n"
     ]
    }
   ],
   "source": [
    "## break and continue\n",
    "## break\n",
    "lst = [1, 2, 3, 5, 10, 50]\n",
    "\n",
    "# for i in lst:\n",
    "#     print(i)\n",
    "#     if i == 3:\n",
    "#         break\n",
    "\n",
    "        \n",
    "# i = 0\n",
    "# while (i < 10):\n",
    "#     print(i)\n",
    "#     if i == 3:\n",
    "#         break\n",
    "#     i = i + 1\n",
    "    \n",
    "\n",
    "## continue\n",
    "# print('For loop')\n",
    "# for i in lst:\n",
    "#     if i == 3:\n",
    "#         continue\n",
    "#     print(i)\n",
    "\n",
    "print('while loop')  \n",
    "i = 0\n",
    "while (i < 6):\n",
    "    print(i)\n",
    "#     i = i + 1\n",
    "    if i == 3:\n",
    "        i = i + 1\n",
    "        continue\n",
    "    i = i + 1\n",
    "    "
   ]
  },
  {
   "cell_type": "code",
   "execution_count": 2,
   "id": "eb481c5e",
   "metadata": {},
   "outputs": [
    {
     "name": "stdout",
     "output_type": "stream",
     "text": [
      "[1, 2, 4]\n",
      "1\n",
      "2\n",
      "4\n",
      "[2, 4, 8]\n",
      "2\n",
      "4\n",
      "8\n",
      "[9, 5, 7]\n",
      "9\n",
      "5\n",
      "7\n"
     ]
    }
   ],
   "source": [
    "## nested loops\n",
    "\n",
    "lst = [[1,2,4], [2,4,8], [9,5,7]]\n",
    "\n",
    "for list_element in lst:\n",
    "    print(list_element)\n",
    "    for le in list_element:\n",
    "        print(le)"
   ]
  },
  {
   "cell_type": "code",
   "execution_count": null,
   "id": "3e84d4fe",
   "metadata": {},
   "outputs": [],
   "source": []
  },
  {
   "cell_type": "code",
   "execution_count": null,
   "id": "963a8d16",
   "metadata": {},
   "outputs": [],
   "source": []
  }
 ],
 "metadata": {
  "kernelspec": {
   "display_name": "Python 3 (ipykernel)",
   "language": "python",
   "name": "python3"
  },
  "language_info": {
   "codemirror_mode": {
    "name": "ipython",
    "version": 3
   },
   "file_extension": ".py",
   "mimetype": "text/x-python",
   "name": "python",
   "nbconvert_exporter": "python",
   "pygments_lexer": "ipython3",
   "version": "3.11.1"
  }
 },
 "nbformat": 4,
 "nbformat_minor": 5
}
