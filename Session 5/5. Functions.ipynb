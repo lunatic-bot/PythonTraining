{
 "cells": [
  {
   "cell_type": "markdown",
   "id": "73395671",
   "metadata": {},
   "source": [
    "## Functions"
   ]
  },
  {
   "cell_type": "code",
   "execution_count": 1,
   "id": "1ea72b2f",
   "metadata": {},
   "outputs": [],
   "source": [
    "## group of instructions"
   ]
  },
  {
   "cell_type": "code",
   "execution_count": 34,
   "id": "f3aa259e",
   "metadata": {},
   "outputs": [],
   "source": [
    "## defining the function\n",
    "def add(num1, num2):\n",
    "    num3 = num1 + num2\n",
    "    return num3"
   ]
  },
  {
   "cell_type": "code",
   "execution_count": null,
   "id": "ba39ab66",
   "metadata": {},
   "outputs": [],
   "source": [
    "# if i < 10:\n",
    "#     ptint()"
   ]
  },
  {
   "cell_type": "code",
   "execution_count": 4,
   "id": "17c2d188",
   "metadata": {},
   "outputs": [
    {
     "name": "stdout",
     "output_type": "stream",
     "text": [
      "30\n"
     ]
    }
   ],
   "source": [
    "a, b = 10, 20\n",
    "## calling the function\n",
    "sum_of_numbers = add(10, 20)\n",
    "print(sum_of_numbers)"
   ]
  },
  {
   "cell_type": "code",
   "execution_count": 6,
   "id": "ba47ca9a",
   "metadata": {},
   "outputs": [
    {
     "name": "stdout",
     "output_type": "stream",
     "text": [
      "11\n"
     ]
    }
   ],
   "source": [
    "print(round(10.9))"
   ]
  },
  {
   "cell_type": "code",
   "execution_count": 32,
   "id": "e6680cf5",
   "metadata": {},
   "outputs": [],
   "source": [
    "## defining the function\n",
    "def divide(num1 = 10,num2 = 1):\n",
    "    num3 = num1/num2\n",
    "    print('Num3  : ',num3)\n",
    "#     return num3"
   ]
  },
  {
   "cell_type": "code",
   "execution_count": 33,
   "id": "8ec8db4a",
   "metadata": {},
   "outputs": [
    {
     "name": "stdout",
     "output_type": "stream",
     "text": [
      "Num3  :  10.0\n"
     ]
    }
   ],
   "source": [
    "val1 = 10\n",
    "val2 = 2\n",
    "## calling the function\n",
    "divide()\n",
    "# sum_of_numbers = divide()\n",
    "# print(sum_of_numbers)"
   ]
  },
  {
   "cell_type": "code",
   "execution_count": null,
   "id": "788624d7",
   "metadata": {},
   "outputs": [],
   "source": []
  },
  {
   "cell_type": "code",
   "execution_count": null,
   "id": "22bcbb34",
   "metadata": {},
   "outputs": [],
   "source": [
    "## defining the function\n",
    "def add(num1, num2):\n",
    "    num3 = num1 + num2\n",
    "    return num3\n",
    "\n",
    "\n",
    "a, b = 10, 20\n",
    "## calling the function\n",
    "sum_of_numbers = add(10, 20)\n",
    "print(sum_of_numbers)"
   ]
  },
  {
   "cell_type": "code",
   "execution_count": null,
   "id": "daa97595",
   "metadata": {},
   "outputs": [],
   "source": []
  },
  {
   "cell_type": "code",
   "execution_count": null,
   "id": "37972e94",
   "metadata": {},
   "outputs": [],
   "source": [
    "## scope"
   ]
  },
  {
   "cell_type": "code",
   "execution_count": 36,
   "id": "4b8eced0",
   "metadata": {},
   "outputs": [
    {
     "name": "stdout",
     "output_type": "stream",
     "text": [
      "10 20\n",
      "30\n"
     ]
    },
    {
     "ename": "NameError",
     "evalue": "name 'num3' is not defined",
     "output_type": "error",
     "traceback": [
      "\u001b[1;31m---------------------------------------------------------------------------\u001b[0m",
      "\u001b[1;31mNameError\u001b[0m                                 Traceback (most recent call last)",
      "Cell \u001b[1;32mIn[36], line 13\u001b[0m\n\u001b[0;32m     11\u001b[0m sum_of_numbers \u001b[38;5;241m=\u001b[39m add(\u001b[38;5;241m10\u001b[39m, \u001b[38;5;241m20\u001b[39m)\n\u001b[0;32m     12\u001b[0m \u001b[38;5;28mprint\u001b[39m(sum_of_numbers)\n\u001b[1;32m---> 13\u001b[0m \u001b[38;5;28mprint\u001b[39m(\u001b[43mnum3\u001b[49m)\n",
      "\u001b[1;31mNameError\u001b[0m: name 'num3' is not defined"
     ]
    }
   ],
   "source": [
    "## defining the function\n",
    "def add(num1, num2):\n",
    "    ## local to the function\n",
    "    num3 = num1 + num2\n",
    "    print(a, b)\n",
    "    return num3\n",
    "\n",
    "\n",
    "## defining the function\n",
    "def subract(num1, num2):\n",
    "    ## local to the function\n",
    "    num3 = num1 - num2\n",
    "    print(a, b)\n",
    "    return num3\n",
    "\n",
    "## global\n",
    "a, b = 10, 20\n",
    "## calling the function\n",
    "sum_of_numbers = add(10, 20)\n",
    "print(sum_of_numbers)\n",
    "print(num3)"
   ]
  },
  {
   "cell_type": "code",
   "execution_count": null,
   "id": "21ab5e3f",
   "metadata": {},
   "outputs": [],
   "source": []
  },
  {
   "cell_type": "code",
   "execution_count": 39,
   "id": "872d1fb4",
   "metadata": {},
   "outputs": [
    {
     "name": "stdout",
     "output_type": "stream",
     "text": [
      "10\n"
     ]
    }
   ],
   "source": [
    "## bulit in modules\n",
    "## import keyword\n",
    "\n",
    "# import math \n",
    "from math import floor\n",
    "\n",
    "# mfloor = math.floor(10.8)\n",
    "mfloor = floor(10.8)\n",
    "\n",
    "print(mfloor)"
   ]
  },
  {
   "cell_type": "code",
   "execution_count": null,
   "id": "270b9041",
   "metadata": {},
   "outputs": [],
   "source": [
    "## banking.py\n",
    "\n",
    "# import banking\n",
    "# banking.ac_creation()"
   ]
  },
  {
   "cell_type": "code",
   "execution_count": null,
   "id": "8606a7bb",
   "metadata": {},
   "outputs": [],
   "source": []
  },
  {
   "cell_type": "code",
   "execution_count": null,
   "id": "8bbc8ec3",
   "metadata": {},
   "outputs": [],
   "source": []
  },
  {
   "cell_type": "code",
   "execution_count": null,
   "id": "96af9e14",
   "metadata": {},
   "outputs": [],
   "source": []
  },
  {
   "cell_type": "code",
   "execution_count": null,
   "id": "b86bb1e0",
   "metadata": {},
   "outputs": [],
   "source": []
  },
  {
   "cell_type": "code",
   "execution_count": null,
   "id": "89681a07",
   "metadata": {},
   "outputs": [],
   "source": []
  }
 ],
 "metadata": {
  "kernelspec": {
   "display_name": "Python 3 (ipykernel)",
   "language": "python",
   "name": "python3"
  },
  "language_info": {
   "codemirror_mode": {
    "name": "ipython",
    "version": 3
   },
   "file_extension": ".py",
   "mimetype": "text/x-python",
   "name": "python",
   "nbconvert_exporter": "python",
   "pygments_lexer": "ipython3",
   "version": "3.11.1"
  }
 },
 "nbformat": 4,
 "nbformat_minor": 5
}
