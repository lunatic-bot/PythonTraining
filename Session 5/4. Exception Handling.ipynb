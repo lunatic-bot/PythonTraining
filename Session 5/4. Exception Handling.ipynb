{
 "cells": [
  {
   "cell_type": "markdown",
   "id": "61f8cd01",
   "metadata": {},
   "source": [
    "## Exception handling in Python"
   ]
  },
  {
   "cell_type": "code",
   "execution_count": 1,
   "id": "f6e3a621",
   "metadata": {},
   "outputs": [
    {
     "ename": "IndexError",
     "evalue": "list index out of range",
     "output_type": "error",
     "traceback": [
      "\u001b[1;31m---------------------------------------------------------------------------\u001b[0m",
      "\u001b[1;31mIndexError\u001b[0m                                Traceback (most recent call last)",
      "Cell \u001b[1;32mIn[1], line 2\u001b[0m\n\u001b[0;32m      1\u001b[0m lst \u001b[38;5;241m=\u001b[39m [\u001b[38;5;241m4\u001b[39m, \u001b[38;5;241m9\u001b[39m, \u001b[38;5;241m1\u001b[39m, \u001b[38;5;241m10\u001b[39m, \u001b[38;5;241m50\u001b[39m]\n\u001b[1;32m----> 2\u001b[0m \u001b[43mlst\u001b[49m\u001b[43m[\u001b[49m\u001b[38;5;241;43m6\u001b[39;49m\u001b[43m]\u001b[49m\n",
      "\u001b[1;31mIndexError\u001b[0m: list index out of range"
     ]
    }
   ],
   "source": [
    "lst = [4, 9, 1, 10, 50]\n",
    "lst[6]"
   ]
  },
  {
   "cell_type": "code",
   "execution_count": 5,
   "id": "6c2797ef",
   "metadata": {},
   "outputs": [
    {
     "ename": "ValueError",
     "evalue": "invalid literal for int() with base 10: 'string'",
     "output_type": "error",
     "traceback": [
      "\u001b[1;31m---------------------------------------------------------------------------\u001b[0m",
      "\u001b[1;31mValueError\u001b[0m                                Traceback (most recent call last)",
      "Cell \u001b[1;32mIn[5], line 3\u001b[0m\n\u001b[0;32m      1\u001b[0m string \u001b[38;5;241m=\u001b[39m \u001b[38;5;124m\"\u001b[39m\u001b[38;5;124mstring\u001b[39m\u001b[38;5;124m\"\u001b[39m\n\u001b[0;32m      2\u001b[0m \u001b[38;5;66;03m# string = \"1234\"\u001b[39;00m\n\u001b[1;32m----> 3\u001b[0m \u001b[38;5;28mprint\u001b[39m(\u001b[38;5;28;43mint\u001b[39;49m\u001b[43m(\u001b[49m\u001b[43mstring\u001b[49m\u001b[43m)\u001b[49m)\n",
      "\u001b[1;31mValueError\u001b[0m: invalid literal for int() with base 10: 'string'"
     ]
    }
   ],
   "source": [
    "string = \"string\"\n",
    "# string = \"1234\"\n",
    "print(int(string))"
   ]
  },
  {
   "cell_type": "code",
   "execution_count": 6,
   "id": "c804dffc",
   "metadata": {},
   "outputs": [
    {
     "ename": "ZeroDivisionError",
     "evalue": "division by zero",
     "output_type": "error",
     "traceback": [
      "\u001b[1;31m---------------------------------------------------------------------------\u001b[0m",
      "\u001b[1;31mZeroDivisionError\u001b[0m                         Traceback (most recent call last)",
      "Cell \u001b[1;32mIn[6], line 1\u001b[0m\n\u001b[1;32m----> 1\u001b[0m \u001b[38;5;241;43m1\u001b[39;49m\u001b[38;5;241;43m/\u001b[39;49m\u001b[38;5;241;43m0\u001b[39;49m\n",
      "\u001b[1;31mZeroDivisionError\u001b[0m: division by zero"
     ]
    }
   ],
   "source": [
    "1/0"
   ]
  },
  {
   "cell_type": "code",
   "execution_count": 7,
   "id": "8a648b5d",
   "metadata": {},
   "outputs": [
    {
     "ename": "NameError",
     "evalue": "name 'var2' is not defined",
     "output_type": "error",
     "traceback": [
      "\u001b[1;31m---------------------------------------------------------------------------\u001b[0m",
      "\u001b[1;31mNameError\u001b[0m                                 Traceback (most recent call last)",
      "Cell \u001b[1;32mIn[7], line 2\u001b[0m\n\u001b[0;32m      1\u001b[0m var \u001b[38;5;241m=\u001b[39m \u001b[38;5;241m10\u001b[39m\n\u001b[1;32m----> 2\u001b[0m \u001b[38;5;28mprint\u001b[39m(\u001b[43mvar2\u001b[49m)\n",
      "\u001b[1;31mNameError\u001b[0m: name 'var2' is not defined"
     ]
    }
   ],
   "source": [
    "var = 10\n",
    "print(var2)"
   ]
  },
  {
   "cell_type": "code",
   "execution_count": 10,
   "id": "35fbb265",
   "metadata": {},
   "outputs": [
    {
     "ename": "IndentationError",
     "evalue": "expected an indented block after 'for' statement on line 1 (3979827255.py, line 2)",
     "output_type": "error",
     "traceback": [
      "\u001b[1;36m  Cell \u001b[1;32mIn[10], line 2\u001b[1;36m\u001b[0m\n\u001b[1;33m    print(i)\u001b[0m\n\u001b[1;37m    ^\u001b[0m\n\u001b[1;31mIndentationError\u001b[0m\u001b[1;31m:\u001b[0m expected an indented block after 'for' statement on line 1\n"
     ]
    }
   ],
   "source": [
    "for i in range(10):\n",
    "print(i)"
   ]
  },
  {
   "cell_type": "code",
   "execution_count": 13,
   "id": "63d5abf3",
   "metadata": {},
   "outputs": [
    {
     "ename": "Exception",
     "evalue": "Value is not correct",
     "output_type": "error",
     "traceback": [
      "\u001b[1;31m---------------------------------------------------------------------------\u001b[0m",
      "\u001b[1;31mException\u001b[0m                                 Traceback (most recent call last)",
      "Cell \u001b[1;32mIn[13], line 5\u001b[0m\n\u001b[0;32m      3\u001b[0m     \u001b[38;5;28mprint\u001b[39m(\u001b[38;5;124m\"\u001b[39m\u001b[38;5;124mValue is greater than 10\u001b[39m\u001b[38;5;124m\"\u001b[39m)\n\u001b[0;32m      4\u001b[0m \u001b[38;5;28;01melse\u001b[39;00m:\n\u001b[1;32m----> 5\u001b[0m     \u001b[38;5;28;01mraise\u001b[39;00m \u001b[38;5;167;01mException\u001b[39;00m(\u001b[38;5;124m\"\u001b[39m\u001b[38;5;124mValue is not correct\u001b[39m\u001b[38;5;124m\"\u001b[39m)\n",
      "\u001b[1;31mException\u001b[0m: Value is not correct"
     ]
    }
   ],
   "source": [
    "val = 8\n",
    "if val > 10:\n",
    "    print(\"Value is greater than 10\")\n",
    "else:\n",
    "    raise Exception(\"Value is not correct\")"
   ]
  },
  {
   "cell_type": "code",
   "execution_count": null,
   "id": "8aa600ac",
   "metadata": {},
   "outputs": [],
   "source": [
    "# import pandas as pd"
   ]
  },
  {
   "cell_type": "code",
   "execution_count": 15,
   "id": "ead90243",
   "metadata": {},
   "outputs": [
    {
     "name": "stdout",
     "output_type": "stream",
     "text": [
      "50.0\n",
      "Division performed successfully\n"
     ]
    }
   ],
   "source": [
    "numerator = 50\n",
    "denom = 1\n",
    "try:\n",
    "    quotient=(numerator/denom)\n",
    "    print(quotient)\n",
    "    print (\"Division performed successfully\")\n",
    "except Exception as es:\n",
    "    print(es)\n",
    "    print (\"Denominator as ZERO.... not allowed\")\n",
    "    print(\"OUTSIDE try..except block\")"
   ]
  },
  {
   "cell_type": "code",
   "execution_count": null,
   "id": "b58b72f9",
   "metadata": {},
   "outputs": [],
   "source": []
  },
  {
   "cell_type": "code",
   "execution_count": 18,
   "id": "e152bda1",
   "metadata": {},
   "outputs": [
    {
     "name": "stdout",
     "output_type": "stream",
     "text": [
      "Enter the denominator: string\n",
      "Only INTEGERS should be entered\n"
     ]
    }
   ],
   "source": [
    "try:\n",
    "    numerator=50\n",
    "    denom=int(input(\"Enter the denominator: \"))\n",
    "    print (numerator/denom)\n",
    "    print (\"Division performed successfully\")\n",
    "except ZeroDivisionError:\n",
    "    print (\"Denominator as ZERO is not allowed\")\n",
    "except ValueError:\n",
    "    print (\"Only INTEGERS should be entered\")"
   ]
  },
  {
   "cell_type": "code",
   "execution_count": null,
   "id": "f1ba752e",
   "metadata": {},
   "outputs": [],
   "source": []
  },
  {
   "cell_type": "code",
   "execution_count": 21,
   "id": "d810fa80",
   "metadata": {},
   "outputs": [
    {
     "name": "stdout",
     "output_type": "stream",
     "text": [
      "Enter the denominator: 5\n",
      "Division performed successfully\n",
      "The result of division operation is  10.0\n"
     ]
    }
   ],
   "source": [
    "try:\n",
    "    numerator=50\n",
    "    denom=int(input(\"Enter the denominator: \"))\n",
    "    quotient=(numerator/denom)\n",
    "    print (\"Division performed successfully\")\n",
    "except ZeroDivisionError:\n",
    "    print (\"Denominator as ZERO is not allowed\")\n",
    "except ValueError:\n",
    "    print (\"Only INTEGERS should be entered\")\n",
    "else:\n",
    "    print (\"The result of division operation is \", quotient)"
   ]
  },
  {
   "cell_type": "code",
   "execution_count": null,
   "id": "b852f186",
   "metadata": {},
   "outputs": [],
   "source": []
  },
  {
   "cell_type": "code",
   "execution_count": 24,
   "id": "5d72e816",
   "metadata": {},
   "outputs": [
    {
     "name": "stdout",
     "output_type": "stream",
     "text": [
      "Enter the denominator: string\n",
      "Only INTEGERS should be entered\n",
      "OVER AND OUT\n"
     ]
    }
   ],
   "source": [
    "try:\n",
    "    numerator=50\n",
    "    denom=int(input(\"Enter the denominator: \"))\n",
    "    quotient=(numerator/denom)\n",
    "    print (\"Division performed successfully\")\n",
    "except ZeroDivisionError:\n",
    "    print (\"Denominator as ZERO is not allowed\")\n",
    "except ValueError:\n",
    "    print (\"Only INTEGERS should be entered\")\n",
    "else:\n",
    "    print (\"The result of division operation is \", quotient)\n",
    "finally:\n",
    "    print (\"OVER AND OUT\") "
   ]
  },
  {
   "cell_type": "code",
   "execution_count": null,
   "id": "c4b4de56",
   "metadata": {},
   "outputs": [],
   "source": []
  },
  {
   "cell_type": "code",
   "execution_count": null,
   "id": "80ad34e5",
   "metadata": {},
   "outputs": [],
   "source": []
  }
 ],
 "metadata": {
  "kernelspec": {
   "display_name": "Python 3 (ipykernel)",
   "language": "python",
   "name": "python3"
  },
  "language_info": {
   "codemirror_mode": {
    "name": "ipython",
    "version": 3
   },
   "file_extension": ".py",
   "mimetype": "text/x-python",
   "name": "python",
   "nbconvert_exporter": "python",
   "pygments_lexer": "ipython3",
   "version": "3.11.1"
  }
 },
 "nbformat": 4,
 "nbformat_minor": 5
}
