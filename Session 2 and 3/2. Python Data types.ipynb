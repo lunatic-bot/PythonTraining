{
 "cells": [
  {
   "cell_type": "markdown",
   "id": "b663654d",
   "metadata": {},
   "source": [
    "# Python Data Types\n",
    "05, 06 July 2023"
   ]
  },
  {
   "cell_type": "markdown",
   "id": "7d705686",
   "metadata": {},
   "source": [
    "###### It represents the kind of value that tells what operations can be performed on a particular data."
   ]
  },
  {
   "cell_type": "markdown",
   "id": "60ed58c4",
   "metadata": {},
   "source": [
    "### int"
   ]
  },
  {
   "cell_type": "code",
   "execution_count": 2,
   "id": "24ca54c3",
   "metadata": {},
   "outputs": [
    {
     "name": "stdout",
     "output_type": "stream",
     "text": [
      "<class 'int'>\n"
     ]
    }
   ],
   "source": [
    "i = 10\n",
    "print(type(i))"
   ]
  },
  {
   "cell_type": "code",
   "execution_count": 3,
   "id": "add05661",
   "metadata": {},
   "outputs": [
    {
     "name": "stdout",
     "output_type": "stream",
     "text": [
      "<class 'int'>\n"
     ]
    }
   ],
   "source": [
    "var = -20\n",
    "print(type(i))"
   ]
  },
  {
   "cell_type": "code",
   "execution_count": 5,
   "id": "9a443356",
   "metadata": {},
   "outputs": [
    {
     "name": "stdout",
     "output_type": "stream",
     "text": [
      "<class 'float'>\n"
     ]
    }
   ],
   "source": [
    "var = 1.0\n",
    "print(type(var))"
   ]
  },
  {
   "cell_type": "code",
   "execution_count": 6,
   "id": "c4992a56",
   "metadata": {},
   "outputs": [
    {
     "name": "stdout",
     "output_type": "stream",
     "text": [
      "<class 'list'>\n"
     ]
    }
   ],
   "source": [
    "lst = [1, 2, 3, 4, 5]\n",
    "print(type(lst))"
   ]
  },
  {
   "cell_type": "code",
   "execution_count": 7,
   "id": "5d3b3c01",
   "metadata": {},
   "outputs": [
    {
     "name": "stdout",
     "output_type": "stream",
     "text": [
      "<class 'NoneType'>\n"
     ]
    }
   ],
   "source": [
    "none = None\n",
    "print(type(none))"
   ]
  },
  {
   "cell_type": "code",
   "execution_count": 9,
   "id": "ba4fd415",
   "metadata": {},
   "outputs": [
    {
     "name": "stdout",
     "output_type": "stream",
     "text": [
      "Can not change.\n"
     ]
    }
   ],
   "source": [
    "var = 10\n",
    "var = 20\n",
    "srting = \"System\"\n",
    "try:\n",
    "    string[1] = 'k'\n",
    "    print('value changed.')\n",
    "except:\n",
    "    print('Can not change.')"
   ]
  },
  {
   "cell_type": "code",
   "execution_count": 13,
   "id": "9b177c7a",
   "metadata": {},
   "outputs": [
    {
     "ename": "TypeError",
     "evalue": "'str' object does not support item assignment",
     "output_type": "error",
     "traceback": [
      "\u001b[1;31m---------------------------------------------------------------------------\u001b[0m",
      "\u001b[1;31mTypeError\u001b[0m                                 Traceback (most recent call last)",
      "Cell \u001b[1;32mIn[13], line 2\u001b[0m\n\u001b[0;32m      1\u001b[0m string \u001b[38;5;241m=\u001b[39m \u001b[38;5;124m\"\u001b[39m\u001b[38;5;124mSystem\u001b[39m\u001b[38;5;124m\"\u001b[39m\n\u001b[1;32m----> 2\u001b[0m \u001b[43mstring\u001b[49m\u001b[43m[\u001b[49m\u001b[38;5;241;43m1\u001b[39;49m\u001b[43m]\u001b[49m \u001b[38;5;241m=\u001b[39m \u001b[38;5;124m'\u001b[39m\u001b[38;5;124mk\u001b[39m\u001b[38;5;124m'\u001b[39m\n",
      "\u001b[1;31mTypeError\u001b[0m: 'str' object does not support item assignment"
     ]
    }
   ],
   "source": [
    "## when you try to update a string character, it gives you error because str is immutable\n",
    "string = \"System\"\n",
    "string[1] = 'k'"
   ]
  },
  {
   "cell_type": "markdown",
   "id": "ad402a6a",
   "metadata": {},
   "source": [
    "### float"
   ]
  },
  {
   "cell_type": "code",
   "execution_count": 117,
   "id": "60f55d69",
   "metadata": {},
   "outputs": [
    {
     "name": "stdout",
     "output_type": "stream",
     "text": [
      "<class 'float'>\n"
     ]
    }
   ],
   "source": [
    "flot = 3.24\n",
    "print(type(flot))"
   ]
  },
  {
   "cell_type": "code",
   "execution_count": 119,
   "id": "d787b3d7",
   "metadata": {},
   "outputs": [
    {
     "name": "stdout",
     "output_type": "stream",
     "text": [
      "<class 'int'>\n"
     ]
    }
   ],
   "source": [
    "flot = 3\n",
    "print(type(flot))"
   ]
  },
  {
   "cell_type": "code",
   "execution_count": 120,
   "id": "8f86d1cc",
   "metadata": {},
   "outputs": [
    {
     "name": "stdout",
     "output_type": "stream",
     "text": [
      "<class 'float'>\n"
     ]
    }
   ],
   "source": [
    "flot = 3.14\n",
    "print(type(flot))"
   ]
  },
  {
   "cell_type": "code",
   "execution_count": null,
   "id": "01589d66",
   "metadata": {},
   "outputs": [],
   "source": []
  },
  {
   "cell_type": "markdown",
   "id": "bee1834d",
   "metadata": {},
   "source": [
    "### Strings"
   ]
  },
  {
   "cell_type": "code",
   "execution_count": 14,
   "id": "16ce209c",
   "metadata": {},
   "outputs": [],
   "source": [
    "st = 'a'\n",
    "st2 = 'ab'\n",
    "st3 = \"ab\"\n",
    "st4 = \"\"\"this is a multi \n",
    "line string\"\"\""
   ]
  },
  {
   "cell_type": "code",
   "execution_count": 15,
   "id": "0bc42c43",
   "metadata": {},
   "outputs": [
    {
     "name": "stdout",
     "output_type": "stream",
     "text": [
      "<class 'str'>\n"
     ]
    }
   ],
   "source": [
    "print(type(st))"
   ]
  },
  {
   "cell_type": "code",
   "execution_count": 16,
   "id": "9b3ea8a4",
   "metadata": {},
   "outputs": [
    {
     "name": "stdout",
     "output_type": "stream",
     "text": [
      "<class 'str'>\n"
     ]
    }
   ],
   "source": [
    "print(type(st2))"
   ]
  },
  {
   "cell_type": "code",
   "execution_count": 17,
   "id": "0684ccb9",
   "metadata": {},
   "outputs": [
    {
     "name": "stdout",
     "output_type": "stream",
     "text": [
      "<class 'str'>\n"
     ]
    }
   ],
   "source": [
    "print(type(st3))"
   ]
  },
  {
   "cell_type": "code",
   "execution_count": 18,
   "id": "325890f9",
   "metadata": {},
   "outputs": [
    {
     "name": "stdout",
     "output_type": "stream",
     "text": [
      "<class 'str'>\n"
     ]
    }
   ],
   "source": [
    "print(type(st4))"
   ]
  },
  {
   "cell_type": "code",
   "execution_count": 24,
   "id": "c1090310",
   "metadata": {},
   "outputs": [
    {
     "ename": "IndexError",
     "evalue": "string index out of range",
     "output_type": "error",
     "traceback": [
      "\u001b[1;31m---------------------------------------------------------------------------\u001b[0m",
      "\u001b[1;31mIndexError\u001b[0m                                Traceback (most recent call last)",
      "Cell \u001b[1;32mIn[24], line 8\u001b[0m\n\u001b[0;32m      2\u001b[0m \u001b[38;5;28mlen\u001b[39m(string)\n\u001b[0;32m      3\u001b[0m \u001b[38;5;66;03m# string[0]\u001b[39;00m\n\u001b[0;32m      4\u001b[0m \u001b[38;5;66;03m# string[1]\u001b[39;00m\n\u001b[0;32m      5\u001b[0m \u001b[38;5;66;03m# string[2]\u001b[39;00m\n\u001b[0;32m      6\u001b[0m \u001b[38;5;66;03m# string[3]\u001b[39;00m\n\u001b[0;32m      7\u001b[0m \u001b[38;5;66;03m# string[-1]\u001b[39;00m\n\u001b[1;32m----> 8\u001b[0m \u001b[43mstring\u001b[49m\u001b[43m[\u001b[49m\u001b[38;5;241;43m6\u001b[39;49m\u001b[43m]\u001b[49m\n",
      "\u001b[1;31mIndexError\u001b[0m: string index out of range"
     ]
    }
   ],
   "source": [
    "string = \"Python\"\n",
    "len(string)\n",
    "# string[0]\n",
    "# string[1]\n",
    "# string[2]\n",
    "# string[3]\n",
    "# string[-1]\n",
    "string[6]"
   ]
  },
  {
   "cell_type": "code",
   "execution_count": 26,
   "id": "94f4fc27",
   "metadata": {},
   "outputs": [
    {
     "name": "stdout",
     "output_type": "stream",
     "text": [
      "Hello World\n"
     ]
    }
   ],
   "source": [
    "## concatenation\n",
    "str1 = \"Hello\"\n",
    "str2 = \"World\"\n",
    "str3 = str1 + ' ' + str2\n",
    "print(str3)"
   ]
  },
  {
   "cell_type": "code",
   "execution_count": 27,
   "id": "41c82f0b",
   "metadata": {},
   "outputs": [
    {
     "name": "stdout",
     "output_type": "stream",
     "text": [
      "HelloHelloHello\n"
     ]
    }
   ],
   "source": [
    "## Repetition\n",
    "str1 = \"Hello\"\n",
    "str2 = str1*3\n",
    "print(str2)"
   ]
  },
  {
   "cell_type": "code",
   "execution_count": 31,
   "id": "ddf378cd",
   "metadata": {},
   "outputs": [
    {
     "data": {
      "text/plain": [
       "False"
      ]
     },
     "execution_count": 31,
     "metadata": {},
     "output_type": "execute_result"
    }
   ],
   "source": [
    "## membership\n",
    "str1 = \"Hello World\"\n",
    "\n",
    "## in, not in\n",
    "\n",
    "str2 = \"Hello\"\n",
    "\n",
    "str2 not in str1\n"
   ]
  },
  {
   "cell_type": "code",
   "execution_count": 38,
   "id": "0307bb77",
   "metadata": {},
   "outputs": [
    {
     "data": {
      "text/plain": [
       "'l o'"
      ]
     },
     "execution_count": 38,
     "metadata": {},
     "output_type": "execute_result"
    }
   ],
   "source": [
    "## slicing\n",
    "str1 = \"Hello World\"\n",
    "\n",
    "## str[m:n] from m to n-1\n",
    "## by default m is 0.\n",
    "## by default n is n-1\n",
    "## by default step is 1\n",
    "\n",
    "str1[3:-3:2]\n",
    "\n",
    "\n",
    "\n"
   ]
  },
  {
   "cell_type": "code",
   "execution_count": 48,
   "id": "bd8b3950",
   "metadata": {},
   "outputs": [
    {
     "data": {
      "text/plain": [
       "7"
      ]
     },
     "execution_count": 48,
     "metadata": {},
     "output_type": "execute_result"
    }
   ],
   "source": [
    "## built in functions for strings\n",
    "\n",
    "string = \"Python1\"\n",
    "## length of string\n",
    "len(string)"
   ]
  },
  {
   "cell_type": "code",
   "execution_count": 43,
   "id": "da0aae0d",
   "metadata": {},
   "outputs": [
    {
     "data": {
      "text/plain": [
       "'PYTHON'"
      ]
     },
     "execution_count": 43,
     "metadata": {},
     "output_type": "execute_result"
    }
   ],
   "source": [
    "## convert all chars to upper case\n",
    "string.upper()"
   ]
  },
  {
   "cell_type": "code",
   "execution_count": 44,
   "id": "7cb60756",
   "metadata": {},
   "outputs": [
    {
     "data": {
      "text/plain": [
       "'python'"
      ]
     },
     "execution_count": 44,
     "metadata": {},
     "output_type": "execute_result"
    }
   ],
   "source": [
    "## convert all chars to lower case\n",
    "string.lower()"
   ]
  },
  {
   "cell_type": "code",
   "execution_count": 49,
   "id": "e678acb7",
   "metadata": {},
   "outputs": [
    {
     "data": {
      "text/plain": [
       "False"
      ]
     },
     "execution_count": 49,
     "metadata": {},
     "output_type": "execute_result"
    }
   ],
   "source": [
    "## check if all chars are alphabets\n",
    "string.isalpha()"
   ]
  },
  {
   "cell_type": "code",
   "execution_count": 50,
   "id": "76218e85",
   "metadata": {},
   "outputs": [
    {
     "data": {
      "text/plain": [
       "True"
      ]
     },
     "execution_count": 50,
     "metadata": {},
     "output_type": "execute_result"
    }
   ],
   "source": [
    "## check if all chars are alphabets or numeric\n",
    "string.isalnum()"
   ]
  },
  {
   "cell_type": "code",
   "execution_count": 51,
   "id": "f4a15ecd",
   "metadata": {},
   "outputs": [
    {
     "data": {
      "text/plain": [
       "False"
      ]
     },
     "execution_count": 51,
     "metadata": {},
     "output_type": "execute_result"
    }
   ],
   "source": [
    "## check if all chars are numeric\n",
    "string.isdigit()"
   ]
  },
  {
   "cell_type": "code",
   "execution_count": 52,
   "id": "ff8df3d3",
   "metadata": {},
   "outputs": [
    {
     "data": {
      "text/plain": [
       "2"
      ]
     },
     "execution_count": 52,
     "metadata": {},
     "output_type": "execute_result"
    }
   ],
   "source": [
    "## find a substring, retruns the index where substring is found\n",
    "string.find('thon')"
   ]
  },
  {
   "cell_type": "code",
   "execution_count": null,
   "id": "b9714db6",
   "metadata": {},
   "outputs": [],
   "source": []
  },
  {
   "cell_type": "markdown",
   "id": "e1b7eda2",
   "metadata": {},
   "source": [
    "##### Input Function in Python\n",
    "Python input() function is used to take user input. By default, it returns the user input in form of a string.\n",
    "\n",
    "str = input(prompt)\n",
    "\n",
    "prompt(optionsl): any string value to display as input message"
   ]
  },
  {
   "cell_type": "markdown",
   "id": "0a3eea13",
   "metadata": {},
   "source": [
    "### Problem 1"
   ]
  },
  {
   "cell_type": "markdown",
   "id": "d078f972",
   "metadata": {},
   "source": [
    "Write a program to input line(s) of text from the user until enter is pressed. Count the total number of characters in the text (including white spaces),total number of alphabets, total number of digits, total number of special symbols and total number of \n",
    "words in the given text. (Assume that each word is separated by one space)."
   ]
  },
  {
   "cell_type": "code",
   "execution_count": null,
   "id": "db61f482",
   "metadata": {},
   "outputs": [],
   "source": []
  },
  {
   "cell_type": "code",
   "execution_count": null,
   "id": "9fe79637",
   "metadata": {},
   "outputs": [],
   "source": []
  },
  {
   "cell_type": "code",
   "execution_count": null,
   "id": "55801dac",
   "metadata": {},
   "outputs": [],
   "source": []
  },
  {
   "cell_type": "markdown",
   "id": "5739bea5",
   "metadata": {},
   "source": [
    "### List"
   ]
  },
  {
   "cell_type": "code",
   "execution_count": 58,
   "id": "6463c1f8",
   "metadata": {},
   "outputs": [
    {
     "name": "stdout",
     "output_type": "stream",
     "text": [
      "<class 'list'>\n",
      "<class 'list'>\n"
     ]
    }
   ],
   "source": [
    "## indices always starts from 0 and goes till lenth - 1\n",
    "lst = [5, \"New Delhi\", 3.24, \"abac\", 60, [1,2,3], 5]\n",
    "arry = [5, 10, 20, 25, 50]\n",
    "\n",
    "print(type(lst))\n",
    "print(type(arry))"
   ]
  },
  {
   "cell_type": "code",
   "execution_count": 60,
   "id": "0a12bb78",
   "metadata": {},
   "outputs": [
    {
     "data": {
      "text/plain": [
       "3.24"
      ]
     },
     "execution_count": 60,
     "metadata": {},
     "output_type": "execute_result"
    }
   ],
   "source": [
    "lst[2]"
   ]
  },
  {
   "cell_type": "code",
   "execution_count": 61,
   "id": "d257ca0a",
   "metadata": {},
   "outputs": [],
   "source": [
    "lst[2] = 5.94"
   ]
  },
  {
   "cell_type": "code",
   "execution_count": 62,
   "id": "45b84529",
   "metadata": {},
   "outputs": [
    {
     "data": {
      "text/plain": [
       "[5, 'New Delhi', 5.94, 'abac', 60, [1, 2, 3], 5]"
      ]
     },
     "execution_count": 62,
     "metadata": {},
     "output_type": "execute_result"
    }
   ],
   "source": [
    "lst"
   ]
  },
  {
   "cell_type": "code",
   "execution_count": 64,
   "id": "5ec88d3c",
   "metadata": {},
   "outputs": [
    {
     "name": "stdout",
     "output_type": "stream",
     "text": [
      "[5, 'New Delhi', 3.24, 'abac', 60, [1, 2, 3], 5, 5, 10, 20, 25, 50]\n"
     ]
    }
   ],
   "source": [
    "## concatenation\n",
    "lst = [5, \"New Delhi\", 3.24, \"abac\", 60, [1,2,3], 5]\n",
    "arry = [5, 10, 20, 25, 50]\n",
    "print(lst + arry)"
   ]
  },
  {
   "cell_type": "code",
   "execution_count": 65,
   "id": "9ac216ca",
   "metadata": {},
   "outputs": [
    {
     "name": "stdout",
     "output_type": "stream",
     "text": [
      "[5, 10, 20, 25, 50, 5, 10, 20, 25, 50, 5, 10, 20, 25, 50]\n"
     ]
    }
   ],
   "source": [
    "## Repetition\n",
    "arry = [5, 10, 20, 25, 50]\n",
    "print(arry*3)"
   ]
  },
  {
   "cell_type": "code",
   "execution_count": 67,
   "id": "3fc7f675",
   "metadata": {},
   "outputs": [
    {
     "data": {
      "text/plain": [
       "False"
      ]
     },
     "execution_count": 67,
     "metadata": {},
     "output_type": "execute_result"
    }
   ],
   "source": [
    "## Membership\n",
    "arry = [5, 10, 20, 25, 50]\n",
    "67 in arry"
   ]
  },
  {
   "cell_type": "code",
   "execution_count": 69,
   "id": "87ec0eb0",
   "metadata": {},
   "outputs": [
    {
     "data": {
      "text/plain": [
       "5"
      ]
     },
     "execution_count": 69,
     "metadata": {},
     "output_type": "execute_result"
    }
   ],
   "source": [
    "## Slicing\n",
    "arry = [5, 10, 20, 25, 50]\n",
    "# arry[0:3]\n",
    "len(arry)"
   ]
  },
  {
   "cell_type": "code",
   "execution_count": 71,
   "id": "8a0ace9c",
   "metadata": {},
   "outputs": [
    {
     "name": "stdout",
     "output_type": "stream",
     "text": [
      "['P', 'y', 't', 'h', 'o', 'n']\n"
     ]
    }
   ],
   "source": [
    "string = \"Python\"\n",
    "lst = list(string)\n",
    "# type(lst)\n",
    "print(lst)"
   ]
  },
  {
   "cell_type": "code",
   "execution_count": 77,
   "id": "16f8d8bc",
   "metadata": {},
   "outputs": [
    {
     "data": {
      "text/plain": [
       "[5, 10, 20, 25, 50, [1, 2, 4]]"
      ]
     },
     "execution_count": 77,
     "metadata": {},
     "output_type": "execute_result"
    }
   ],
   "source": [
    "## append\n",
    "arry = [5, 10, 20, 25, 50]\n",
    "var = [1,2,4]\n",
    "arry.append(var)\n",
    "arry"
   ]
  },
  {
   "cell_type": "code",
   "execution_count": 76,
   "id": "84feaad1",
   "metadata": {},
   "outputs": [
    {
     "data": {
      "text/plain": [
       "[5, 10, 20, 25, 50, 1, 2, 4]"
      ]
     },
     "execution_count": 76,
     "metadata": {},
     "output_type": "execute_result"
    }
   ],
   "source": [
    "## extend\n",
    "arry = [5, 10, 20, 25, 50]\n",
    "var = [1,2,4]\n",
    "arry.extend(var)\n",
    "arry"
   ]
  },
  {
   "cell_type": "code",
   "execution_count": 81,
   "id": "15176fa1",
   "metadata": {},
   "outputs": [
    {
     "name": "stdout",
     "output_type": "stream",
     "text": [
      "[5, 100, 10, 20, 25, 50]\n"
     ]
    }
   ],
   "source": [
    "## insert\n",
    "arry = [5, 10, 20, 25, 50]\n",
    "## insert(index, value)\n",
    "arry.insert(1, 100)\n",
    "print(arry)"
   ]
  },
  {
   "cell_type": "code",
   "execution_count": 85,
   "id": "c11f23a6",
   "metadata": {},
   "outputs": [
    {
     "name": "stdout",
     "output_type": "stream",
     "text": [
      "3\n",
      "[5, 10, 20, 25, 50, 10, 10]\n"
     ]
    }
   ],
   "source": [
    "## count\n",
    "arry = [5, 10, 20, 25, 50, 10, 10]\n",
    "print(arry.count(10))\n",
    "print(arry)"
   ]
  },
  {
   "cell_type": "code",
   "execution_count": 90,
   "id": "5418134c",
   "metadata": {},
   "outputs": [
    {
     "name": "stdout",
     "output_type": "stream",
     "text": [
      "2\n"
     ]
    }
   ],
   "source": [
    "## index\n",
    "arry = [5, 10, 20, 25, 50, 10, 10]\n",
    "print(arry.index(20))\n",
    "# print(arry)"
   ]
  },
  {
   "cell_type": "code",
   "execution_count": 91,
   "id": "a319af3f",
   "metadata": {},
   "outputs": [
    {
     "name": "stdout",
     "output_type": "stream",
     "text": [
      "[5, 10, 25, 50, 10, 10]\n"
     ]
    }
   ],
   "source": [
    "## remove\n",
    "# remove(value)\n",
    "arry.remove(20)\n",
    "print(arry)"
   ]
  },
  {
   "cell_type": "code",
   "execution_count": 93,
   "id": "64f95626",
   "metadata": {},
   "outputs": [
    {
     "name": "stdout",
     "output_type": "stream",
     "text": [
      "[5, 10, 25, 50, 10, 10]\n"
     ]
    }
   ],
   "source": [
    "## pop\n",
    "# pop(index)\n",
    "arry = [5, 10, 20, 25, 50, 10, 10]\n",
    "arry.pop(2)\n",
    "print(arry)"
   ]
  },
  {
   "cell_type": "code",
   "execution_count": 103,
   "id": "4df7035d",
   "metadata": {},
   "outputs": [
    {
     "name": "stdout",
     "output_type": "stream",
     "text": [
      "[10, 10, 50, 25, 10, 5]\n"
     ]
    }
   ],
   "source": [
    "## reverse a list\n",
    "arry.reverse()\n",
    "print(arry)"
   ]
  },
  {
   "cell_type": "code",
   "execution_count": 104,
   "id": "11f65cdd",
   "metadata": {},
   "outputs": [
    {
     "data": {
      "text/plain": [
       "[5, 10, 10, 10, 25, 50]"
      ]
     },
     "execution_count": 104,
     "metadata": {},
     "output_type": "execute_result"
    }
   ],
   "source": [
    "# sorted() method sorts the given sequence as well as set and dictionary(which is not a sequence) \n",
    "# either in ascending order or in descending order(does unicode comparison for string char by char) \n",
    "# and always returns the a sorted list. \n",
    "sorted(arry) "
   ]
  },
  {
   "cell_type": "code",
   "execution_count": 105,
   "id": "6a4495e6",
   "metadata": {},
   "outputs": [
    {
     "name": "stdout",
     "output_type": "stream",
     "text": [
      "[5, 10, 10, 10, 25, 50]\n"
     ]
    }
   ],
   "source": [
    "# sort() function is very similar to sorted() but unlike sorted it returns nothing and \"makes changes to the original sequence\". \n",
    "# Moreover, sort() is a method of list class and \"can only be used with lists\". \n",
    "arry.sort()\n",
    "print(arry)"
   ]
  },
  {
   "cell_type": "code",
   "execution_count": 106,
   "id": "5f0ec532",
   "metadata": {},
   "outputs": [
    {
     "data": {
      "text/plain": [
       "5"
      ]
     },
     "execution_count": 106,
     "metadata": {},
     "output_type": "execute_result"
    }
   ],
   "source": [
    "## find minimum value from a list\n",
    "min(arry)"
   ]
  },
  {
   "cell_type": "code",
   "execution_count": 107,
   "id": "8c234578",
   "metadata": {},
   "outputs": [
    {
     "data": {
      "text/plain": [
       "50"
      ]
     },
     "execution_count": 107,
     "metadata": {},
     "output_type": "execute_result"
    }
   ],
   "source": [
    "## find maximum value from a list\n",
    "max(arry)"
   ]
  },
  {
   "cell_type": "code",
   "execution_count": 108,
   "id": "1acbe41d",
   "metadata": {},
   "outputs": [
    {
     "data": {
      "text/plain": [
       "110"
      ]
     },
     "execution_count": 108,
     "metadata": {},
     "output_type": "execute_result"
    }
   ],
   "source": [
    "## Sum of all the elements\n",
    "sum(arry)"
   ]
  },
  {
   "cell_type": "code",
   "execution_count": 115,
   "id": "d4cc3dc4",
   "metadata": {},
   "outputs": [
    {
     "name": "stdout",
     "output_type": "stream",
     "text": [
      "1\n"
     ]
    }
   ],
   "source": [
    "## nested list\n",
    "lst = [[1, 2, 4], \n",
    "       [3, 5, 8], \n",
    "       [2, 6, 21]]\n",
    "\n",
    "\n",
    "# print(len(lst))\n",
    "# lst[0][2]\n",
    "print(lst[0][0])\n"
   ]
  },
  {
   "cell_type": "code",
   "execution_count": 116,
   "id": "717c6e6a",
   "metadata": {},
   "outputs": [
    {
     "name": "stdout",
     "output_type": "stream",
     "text": [
      "[1, 2, 4]\n"
     ]
    }
   ],
   "source": [
    "lst = [1, 2, 4]\n",
    "lst2 = lst\n",
    "print(lst2)\n"
   ]
  },
  {
   "cell_type": "code",
   "execution_count": 121,
   "id": "edaf3515",
   "metadata": {},
   "outputs": [],
   "source": [
    "## Inplace and Outplace sorting"
   ]
  },
  {
   "cell_type": "code",
   "execution_count": null,
   "id": "73c80d1d",
   "metadata": {},
   "outputs": [],
   "source": []
  },
  {
   "cell_type": "markdown",
   "id": "9a70eba7",
   "metadata": {},
   "source": [
    "### Problem 2"
   ]
  },
  {
   "cell_type": "markdown",
   "id": "50c86a5f",
   "metadata": {},
   "source": [
    "Write a program to read a list of n integers (positive as well as negative). Create two new lists, one having all positive numbers and the other having all negative numbers from the given list. Print all three lists."
   ]
  },
  {
   "cell_type": "code",
   "execution_count": null,
   "id": "58c95f12",
   "metadata": {},
   "outputs": [],
   "source": []
  },
  {
   "cell_type": "code",
   "execution_count": null,
   "id": "78806175",
   "metadata": {},
   "outputs": [],
   "source": []
  },
  {
   "cell_type": "code",
   "execution_count": null,
   "id": "86e00e42",
   "metadata": {},
   "outputs": [],
   "source": []
  },
  {
   "cell_type": "markdown",
   "id": "bd92a147",
   "metadata": {},
   "source": [
    "### Tuple"
   ]
  },
  {
   "cell_type": "code",
   "execution_count": 131,
   "id": "ceffe090",
   "metadata": {},
   "outputs": [
    {
     "name": "stdout",
     "output_type": "stream",
     "text": [
      "<class 'tuple'>\n",
      "<class 'int'>\n"
     ]
    }
   ],
   "source": [
    "## tuple\n",
    "val = (10,\"Python\", 3.14, 50, \"India\")\n",
    "val1 = (10,)\n",
    "val2 = (10)\n",
    "\n",
    "print(type(val1))\n",
    "print(type(val2))\n"
   ]
  },
  {
   "cell_type": "code",
   "execution_count": 132,
   "id": "4096d40e",
   "metadata": {},
   "outputs": [
    {
     "ename": "TypeError",
     "evalue": "'tuple' object does not support item assignment",
     "output_type": "error",
     "traceback": [
      "\u001b[1;31m---------------------------------------------------------------------------\u001b[0m",
      "\u001b[1;31mTypeError\u001b[0m                                 Traceback (most recent call last)",
      "Cell \u001b[1;32mIn[132], line 3\u001b[0m\n\u001b[0;32m      1\u001b[0m \u001b[38;5;66;03m## Immutability\u001b[39;00m\n\u001b[0;32m      2\u001b[0m vals \u001b[38;5;241m=\u001b[39m (\u001b[38;5;241m1\u001b[39m, \u001b[38;5;241m2\u001b[39m, \u001b[38;5;241m3\u001b[39m, \u001b[38;5;241m4\u001b[39m, \u001b[38;5;241m5\u001b[39m, \u001b[38;5;241m6\u001b[39m, \u001b[38;5;241m7\u001b[39m)\n\u001b[1;32m----> 3\u001b[0m \u001b[43mvals\u001b[49m\u001b[43m[\u001b[49m\u001b[38;5;241;43m2\u001b[39;49m\u001b[43m]\u001b[49m \u001b[38;5;241m=\u001b[39m \u001b[38;5;241m10\u001b[39m\n",
      "\u001b[1;31mTypeError\u001b[0m: 'tuple' object does not support item assignment"
     ]
    }
   ],
   "source": [
    "## Immutability\n",
    "vals = (1, 2, 3, 4, 5, 6, 7)\n",
    "vals[2] = 10"
   ]
  },
  {
   "cell_type": "code",
   "execution_count": 133,
   "id": "5bc9083f",
   "metadata": {},
   "outputs": [
    {
     "name": "stdout",
     "output_type": "stream",
     "text": [
      "(1, 2, 3, 4, 5, 6)\n"
     ]
    }
   ],
   "source": [
    "tup1 = (1, 2, 3)\n",
    "tup2 = (4, 5, 6)\n",
    "tup3 = tup1 + tup2\n",
    "print(tup3)"
   ]
  },
  {
   "cell_type": "code",
   "execution_count": 134,
   "id": "b93ae7dc",
   "metadata": {},
   "outputs": [
    {
     "name": "stdout",
     "output_type": "stream",
     "text": [
      "(4, 5, 6, 4, 5, 6, 4, 5, 6)\n"
     ]
    }
   ],
   "source": [
    "## repetition\n",
    "tup2 = (4, 5, 6)\n",
    "tup3 = tup2 *3\n",
    "print(tup3)"
   ]
  },
  {
   "cell_type": "code",
   "execution_count": 137,
   "id": "ab3b4aa1",
   "metadata": {},
   "outputs": [
    {
     "data": {
      "text/plain": [
       "False"
      ]
     },
     "execution_count": 137,
     "metadata": {},
     "output_type": "execute_result"
    }
   ],
   "source": [
    "## membership\n",
    "tup2 = (4, 5, 6)\n",
    "# 6 in tup2\n",
    "10 in tup2"
   ]
  },
  {
   "cell_type": "code",
   "execution_count": 138,
   "id": "0764c26b",
   "metadata": {},
   "outputs": [
    {
     "data": {
      "text/plain": [
       "3"
      ]
     },
     "execution_count": 138,
     "metadata": {},
     "output_type": "execute_result"
    }
   ],
   "source": [
    "# len(), tuple(), count(), max(), min(), sum(), sorted()\n",
    "\n",
    "len(tup2)"
   ]
  },
  {
   "cell_type": "code",
   "execution_count": 140,
   "id": "18138090",
   "metadata": {},
   "outputs": [
    {
     "name": "stdout",
     "output_type": "stream",
     "text": [
      "(1, 2, 3, 4, 5)\n",
      "<class 'tuple'>\n"
     ]
    }
   ],
   "source": [
    "lst = [1, 2, 3, 4, 5]\n",
    "tup = tuple(lst)\n",
    "print(tup)\n",
    "print(type(tup))"
   ]
  },
  {
   "cell_type": "code",
   "execution_count": 141,
   "id": "3692c026",
   "metadata": {},
   "outputs": [
    {
     "data": {
      "text/plain": [
       "1"
      ]
     },
     "execution_count": 141,
     "metadata": {},
     "output_type": "execute_result"
    }
   ],
   "source": [
    "tup.count(2)"
   ]
  },
  {
   "cell_type": "code",
   "execution_count": 142,
   "id": "cecf49e1",
   "metadata": {},
   "outputs": [
    {
     "data": {
      "text/plain": [
       "1"
      ]
     },
     "execution_count": 142,
     "metadata": {},
     "output_type": "execute_result"
    }
   ],
   "source": [
    "## min \n",
    "min(tup)"
   ]
  },
  {
   "cell_type": "code",
   "execution_count": 143,
   "id": "60c49868",
   "metadata": {},
   "outputs": [
    {
     "data": {
      "text/plain": [
       "5"
      ]
     },
     "execution_count": 143,
     "metadata": {},
     "output_type": "execute_result"
    }
   ],
   "source": [
    "max(tup)"
   ]
  },
  {
   "cell_type": "code",
   "execution_count": 144,
   "id": "7db53b80",
   "metadata": {},
   "outputs": [
    {
     "data": {
      "text/plain": [
       "15"
      ]
     },
     "execution_count": 144,
     "metadata": {},
     "output_type": "execute_result"
    }
   ],
   "source": [
    "sum(tup)"
   ]
  },
  {
   "cell_type": "code",
   "execution_count": 145,
   "id": "4ef0e91f",
   "metadata": {},
   "outputs": [
    {
     "data": {
      "text/plain": [
       "[1, 2, 3, 4, 5]"
      ]
     },
     "execution_count": 145,
     "metadata": {},
     "output_type": "execute_result"
    }
   ],
   "source": [
    "## sorted\n",
    "sorted(tup)"
   ]
  },
  {
   "cell_type": "code",
   "execution_count": null,
   "id": "f349320a",
   "metadata": {},
   "outputs": [],
   "source": []
  },
  {
   "cell_type": "markdown",
   "id": "bdb10b4b",
   "metadata": {},
   "source": [
    "### Problem 3"
   ]
  },
  {
   "cell_type": "markdown",
   "id": "a10ebb40",
   "metadata": {},
   "source": [
    "Write a program to input names of n students and store them in a tuple. Also, input a name from the user and find if \n",
    "this student is present in the tuple or not."
   ]
  },
  {
   "cell_type": "code",
   "execution_count": null,
   "id": "73db6d65",
   "metadata": {},
   "outputs": [],
   "source": []
  },
  {
   "cell_type": "markdown",
   "id": "769c34a2",
   "metadata": {},
   "source": [
    "### Sets"
   ]
  },
  {
   "cell_type": "code",
   "execution_count": 149,
   "id": "21d5622c",
   "metadata": {},
   "outputs": [
    {
     "name": "stdout",
     "output_type": "stream",
     "text": [
      "{'New Delhi', 1, 2, 3}\n",
      "<class 'set'>\n"
     ]
    }
   ],
   "source": [
    "## set\n",
    "st = {1, 2, 3, \"New Delhi\", 3}\n",
    "print(st)\n",
    "print(type(st))"
   ]
  },
  {
   "cell_type": "code",
   "execution_count": 150,
   "id": "e5336c7d",
   "metadata": {},
   "outputs": [
    {
     "ename": "TypeError",
     "evalue": "'set' object does not support item assignment",
     "output_type": "error",
     "traceback": [
      "\u001b[1;31m---------------------------------------------------------------------------\u001b[0m",
      "\u001b[1;31mTypeError\u001b[0m                                 Traceback (most recent call last)",
      "Cell \u001b[1;32mIn[150], line 1\u001b[0m\n\u001b[1;32m----> 1\u001b[0m \u001b[43mst\u001b[49m\u001b[43m[\u001b[49m\u001b[38;5;241;43m0\u001b[39;49m\u001b[43m]\u001b[49m \u001b[38;5;241m=\u001b[39m \u001b[38;5;241m50\u001b[39m\n",
      "\u001b[1;31mTypeError\u001b[0m: 'set' object does not support item assignment"
     ]
    }
   ],
   "source": [
    "## immutable\n",
    "st[0] = 50"
   ]
  },
  {
   "cell_type": "code",
   "execution_count": 153,
   "id": "c656301c",
   "metadata": {},
   "outputs": [
    {
     "name": "stdout",
     "output_type": "stream",
     "text": [
      "<class 'list'>\n",
      "<class 'set'>\n",
      "{1, 5, 10, 50, 90}\n"
     ]
    }
   ],
   "source": [
    "## conversion to set\n",
    "lst = [1, 5, 10, 50, 90, 90]\n",
    "print(type(lst))\n",
    "st = set(lst)\n",
    "print(type(st))\n",
    "print(st)"
   ]
  },
  {
   "cell_type": "code",
   "execution_count": null,
   "id": "9afa449f",
   "metadata": {},
   "outputs": [],
   "source": []
  },
  {
   "cell_type": "code",
   "execution_count": null,
   "id": "737ff268",
   "metadata": {},
   "outputs": [],
   "source": []
  },
  {
   "cell_type": "markdown",
   "id": "5358d046",
   "metadata": {},
   "source": [
    "### Problem 4"
   ]
  },
  {
   "cell_type": "markdown",
   "id": "e7c919e0",
   "metadata": {},
   "source": [
    "Write a program to find unique elements in a list. Create a list or take input from user. Progeam should print all the qunique values in the input list."
   ]
  },
  {
   "cell_type": "code",
   "execution_count": null,
   "id": "f0ccb00b",
   "metadata": {},
   "outputs": [],
   "source": []
  },
  {
   "cell_type": "markdown",
   "id": "32b403ca",
   "metadata": {},
   "source": [
    "### None"
   ]
  },
  {
   "cell_type": "code",
   "execution_count": 154,
   "id": "8ca395c3",
   "metadata": {},
   "outputs": [
    {
     "data": {
      "text/plain": [
       "NoneType"
      ]
     },
     "execution_count": 154,
     "metadata": {},
     "output_type": "execute_result"
    }
   ],
   "source": [
    "var = None\n",
    "type(var)"
   ]
  },
  {
   "cell_type": "code",
   "execution_count": 158,
   "id": "1ec0ae9c",
   "metadata": {},
   "outputs": [
    {
     "name": "stdout",
     "output_type": "stream",
     "text": [
      "<class 'bool'>\n"
     ]
    }
   ],
   "source": [
    "val = False\n",
    "print(type(val))"
   ]
  },
  {
   "cell_type": "code",
   "execution_count": null,
   "id": "30dc81ed",
   "metadata": {},
   "outputs": [],
   "source": []
  },
  {
   "cell_type": "markdown",
   "id": "431d1090",
   "metadata": {},
   "source": [
    "### Dictionary"
   ]
  },
  {
   "cell_type": "code",
   "execution_count": 159,
   "id": "8e616e30",
   "metadata": {},
   "outputs": [
    {
     "name": "stdout",
     "output_type": "stream",
     "text": [
      "<class 'dict'>\n"
     ]
    }
   ],
   "source": [
    "dct = {\"city\" : \"Delhi\",\n",
    "      \"Area\" : \"Hauz khas\",\n",
    "      \"Country\" : \"India\"}\n",
    "\n",
    "print(type(dct))"
   ]
  },
  {
   "cell_type": "code",
   "execution_count": 160,
   "id": "e64f9da2",
   "metadata": {},
   "outputs": [
    {
     "data": {
      "text/plain": [
       "'Hauz khas'"
      ]
     },
     "execution_count": 160,
     "metadata": {},
     "output_type": "execute_result"
    }
   ],
   "source": [
    "## accessing the element\n",
    "dct[\"Area\"]"
   ]
  },
  {
   "cell_type": "code",
   "execution_count": 165,
   "id": "f36d5ea2",
   "metadata": {},
   "outputs": [
    {
     "data": {
      "text/plain": [
       "{'city': 'Delhi', 'Area': 'New Delhi', 'Country': 'India'}"
      ]
     },
     "execution_count": 165,
     "metadata": {},
     "output_type": "execute_result"
    }
   ],
   "source": [
    "## modification\n",
    "dct[\"Area\"] = \"New Delhi\"\n",
    "dct"
   ]
  },
  {
   "cell_type": "code",
   "execution_count": 168,
   "id": "62bcffd3",
   "metadata": {},
   "outputs": [
    {
     "data": {
      "text/plain": [
       "{'city': 'Delhi', 'Area': 'New Delhi', 'Country': 'India', 'PIN': [2094, 3625]}"
      ]
     },
     "execution_count": 168,
     "metadata": {},
     "output_type": "execute_result"
    }
   ],
   "source": [
    "## adding a new key value pair\n",
    "dct[\"PIN\"] = [2094, 3625]\n",
    "dct"
   ]
  },
  {
   "cell_type": "code",
   "execution_count": null,
   "id": "3052549a",
   "metadata": {},
   "outputs": [],
   "source": []
  },
  {
   "cell_type": "code",
   "execution_count": 162,
   "id": "2dc02824",
   "metadata": {},
   "outputs": [
    {
     "name": "stdout",
     "output_type": "stream",
     "text": [
      "city Delhi\n",
      "Area Hauz khas\n",
      "Country India\n"
     ]
    }
   ],
   "source": [
    "# dct.items()\n",
    "for key, value in dct.items():\n",
    "    print(key, value)"
   ]
  },
  {
   "cell_type": "code",
   "execution_count": 163,
   "id": "1716e82b",
   "metadata": {},
   "outputs": [
    {
     "data": {
      "text/plain": [
       "dict_keys(['city', 'Area', 'Country'])"
      ]
     },
     "execution_count": 163,
     "metadata": {},
     "output_type": "execute_result"
    }
   ],
   "source": [
    "dct.keys()"
   ]
  },
  {
   "cell_type": "code",
   "execution_count": 164,
   "id": "1e1de786",
   "metadata": {},
   "outputs": [
    {
     "data": {
      "text/plain": [
       "dict_values(['Delhi', 'Hauz khas', 'India'])"
      ]
     },
     "execution_count": 164,
     "metadata": {},
     "output_type": "execute_result"
    }
   ],
   "source": [
    "dct.values()"
   ]
  },
  {
   "cell_type": "code",
   "execution_count": 170,
   "id": "aba54e57",
   "metadata": {},
   "outputs": [
    {
     "data": {
      "text/plain": [
       "False"
      ]
     },
     "execution_count": 170,
     "metadata": {},
     "output_type": "execute_result"
    }
   ],
   "source": [
    "## membership works only on keys\n",
    "# 'city' in dct\n",
    "\"Delhi\" in dct"
   ]
  },
  {
   "cell_type": "code",
   "execution_count": 171,
   "id": "6948566a",
   "metadata": {},
   "outputs": [
    {
     "data": {
      "text/plain": [
       "True"
      ]
     },
     "execution_count": 171,
     "metadata": {},
     "output_type": "execute_result"
    }
   ],
   "source": [
    "\"Delhi\" in dct.values()"
   ]
  },
  {
   "cell_type": "code",
   "execution_count": 172,
   "id": "0ff098f3",
   "metadata": {},
   "outputs": [
    {
     "data": {
      "text/plain": [
       "4"
      ]
     },
     "execution_count": 172,
     "metadata": {},
     "output_type": "execute_result"
    }
   ],
   "source": [
    "len(dct)"
   ]
  },
  {
   "cell_type": "code",
   "execution_count": 175,
   "id": "6153c0d4",
   "metadata": {},
   "outputs": [
    {
     "name": "stdout",
     "output_type": "stream",
     "text": [
      "<class 'dict'>\n",
      "{}\n",
      "<class 'dict'>\n"
     ]
    }
   ],
   "source": [
    "## defining a dictionary\n",
    "var1 = {}\n",
    "print(type(var1))\n",
    "var = dict()\n",
    "print(var)\n",
    "print(type(var))"
   ]
  },
  {
   "cell_type": "code",
   "execution_count": 176,
   "id": "074e9ac0",
   "metadata": {},
   "outputs": [
    {
     "data": {
      "text/plain": [
       "dict_items([('city', 'Delhi'), ('Area', 'New Delhi'), ('Country', 'India'), ('PIN', [2094, 3625])])"
      ]
     },
     "execution_count": 176,
     "metadata": {},
     "output_type": "execute_result"
    }
   ],
   "source": [
    "dct.items()"
   ]
  },
  {
   "cell_type": "code",
   "execution_count": 178,
   "id": "593085de",
   "metadata": {},
   "outputs": [
    {
     "data": {
      "text/plain": [
       "'Delhi'"
      ]
     },
     "execution_count": 178,
     "metadata": {},
     "output_type": "execute_result"
    }
   ],
   "source": [
    "## get\n",
    "# dct[\"city\"]\n",
    "dct.get(\"city\")"
   ]
  },
  {
   "cell_type": "code",
   "execution_count": 179,
   "id": "dbcb732f",
   "metadata": {},
   "outputs": [
    {
     "data": {
      "text/plain": [
       "{'city': 'Delhi',\n",
       " 'Area': 'New Delhi',\n",
       " 'Country': 'India',\n",
       " 'PIN': [2094, 3625],\n",
       " 'Name': 'Someone'}"
      ]
     },
     "execution_count": 179,
     "metadata": {},
     "output_type": "execute_result"
    }
   ],
   "source": [
    "## update\n",
    "kv = {\"Name\" : \"Someone\"}\n",
    "dct.update(kv)\n",
    "dct"
   ]
  },
  {
   "cell_type": "code",
   "execution_count": 183,
   "id": "66eea6ac",
   "metadata": {},
   "outputs": [
    {
     "data": {
      "text/plain": [
       "{'Area': 'New Delhi',\n",
       " 'Country': 'India',\n",
       " 'PIN': [2094, 3625],\n",
       " 'Name': 'Someone'}"
      ]
     },
     "execution_count": 183,
     "metadata": {},
     "output_type": "execute_result"
    }
   ],
   "source": [
    "# del(dct[\"city\"])\n",
    "dct"
   ]
  },
  {
   "cell_type": "code",
   "execution_count": 187,
   "id": "c6ce5489",
   "metadata": {},
   "outputs": [],
   "source": [
    "## clears all the elements\n",
    "dct.clear()"
   ]
  },
  {
   "cell_type": "code",
   "execution_count": 188,
   "id": "abb0c0cf",
   "metadata": {},
   "outputs": [
    {
     "data": {
      "text/plain": [
       "{}"
      ]
     },
     "execution_count": 188,
     "metadata": {},
     "output_type": "execute_result"
    }
   ],
   "source": [
    "dct"
   ]
  },
  {
   "cell_type": "code",
   "execution_count": 189,
   "id": "f7e59fda",
   "metadata": {},
   "outputs": [],
   "source": [
    "## delete the dictionary\n",
    "del dct"
   ]
  },
  {
   "cell_type": "code",
   "execution_count": 190,
   "id": "de8ebe2f",
   "metadata": {},
   "outputs": [
    {
     "ename": "NameError",
     "evalue": "name 'dct' is not defined",
     "output_type": "error",
     "traceback": [
      "\u001b[1;31m---------------------------------------------------------------------------\u001b[0m",
      "\u001b[1;31mNameError\u001b[0m                                 Traceback (most recent call last)",
      "Cell \u001b[1;32mIn[190], line 1\u001b[0m\n\u001b[1;32m----> 1\u001b[0m \u001b[43mdct\u001b[49m\n",
      "\u001b[1;31mNameError\u001b[0m: name 'dct' is not defined"
     ]
    }
   ],
   "source": [
    "dct"
   ]
  },
  {
   "cell_type": "code",
   "execution_count": 198,
   "id": "71bc36eb",
   "metadata": {},
   "outputs": [
    {
     "name": "stdout",
     "output_type": "stream",
     "text": [
      "Employee1  >> {'Name': 'Ankit', 'City': 'Raipur', 'Phone': 864327}\n",
      "Name Ankit\n",
      "City Raipur\n",
      "Phone 864327\n",
      "Employee2  >> {'Name': 'Ram', 'City': 'Delhi', 'Phone': 654092}\n",
      "Name Ram\n",
      "City Delhi\n",
      "Phone 654092\n",
      "Employee3  >> {'Name': 'Jhon', 'City': 'Pune', 'Phone': 985428}\n",
      "Name Jhon\n",
      "City Pune\n",
      "Phone 985428\n"
     ]
    }
   ],
   "source": [
    "## nested list\n",
    "lst = [\n",
    "        [1, 2, 4], \n",
    "       [3, 5, 8], \n",
    "       [2, 6, 21]\n",
    "        ]\n",
    "\n",
    "dct = {\n",
    "        \"Employee1\" : {\"Name\" : \"Ankit\",  \"City\" : \"Raipur\", \"Phone\" : 864327}, \n",
    "    \n",
    "       \"Employee2\" : {\"Name\" : \"Ram\",  \"City\" : \"Delhi\", \"Phone\" : 654092},\n",
    "    \n",
    "      \"Employee3\" : {\"Name\" : \"Jhon\",  \"City\" : \"Pune\", \"Phone\" : 985428}\n",
    "      }\n",
    "\n",
    "# dct[\"Employee2\"][\"City\"]\n",
    "# dct[\"Employee2\"][\"Phone\"]\n",
    "\n",
    "for key, val in dct.items():\n",
    "    print(key, \" >>\", val)\n",
    "    for key1, val1 in val.items():\n",
    "        print(key1, val1)\n",
    "    \n"
   ]
  },
  {
   "cell_type": "code",
   "execution_count": null,
   "id": "c4018247",
   "metadata": {},
   "outputs": [],
   "source": []
  },
  {
   "cell_type": "markdown",
   "id": "21fdbbbe",
   "metadata": {},
   "source": [
    "### Problem 5"
   ]
  },
  {
   "cell_type": "markdown",
   "id": "4a16d010",
   "metadata": {},
   "source": [
    "Write a program to input your friends’ names and their Phone Numbers and store them in the dictionary as the key-value pair. Perform the following operations on the dictionary:\n",
    "\n",
    "a) Display the name and phone number of all your friends\n",
    "\n",
    "b) Add a new key-value pair in this dictionary and display the modified dictionary\n",
    "\n",
    "c) Delete a particular friend from the dictionary\n",
    "\n",
    "d) Modify the phone number of an existing friend\n",
    "\n",
    "e) Check if a friend is present in the dictionary or not\n",
    "\n",
    "f) Display the dictionary in sorted order of names. [Hint : use sorted() method]"
   ]
  },
  {
   "cell_type": "code",
   "execution_count": null,
   "id": "9eb9ba26",
   "metadata": {},
   "outputs": [],
   "source": []
  },
  {
   "cell_type": "code",
   "execution_count": null,
   "id": "67df3ad4",
   "metadata": {},
   "outputs": [],
   "source": []
  }
 ],
 "metadata": {
  "kernelspec": {
   "display_name": "Python 3 (ipykernel)",
   "language": "python",
   "name": "python3"
  },
  "language_info": {
   "codemirror_mode": {
    "name": "ipython",
    "version": 3
   },
   "file_extension": ".py",
   "mimetype": "text/x-python",
   "name": "python",
   "nbconvert_exporter": "python",
   "pygments_lexer": "ipython3",
   "version": "3.11.1"
  }
 },
 "nbformat": 4,
 "nbformat_minor": 5
}
