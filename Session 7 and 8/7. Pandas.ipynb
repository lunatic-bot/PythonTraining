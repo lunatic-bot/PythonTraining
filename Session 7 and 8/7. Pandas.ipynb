{
 "cells": [
  {
   "cell_type": "markdown",
   "id": "0ffbb2cf",
   "metadata": {},
   "source": [
    "## Series"
   ]
  },
  {
   "cell_type": "markdown",
   "id": "4b48fc5a",
   "metadata": {},
   "source": [
    "### Creation of series"
   ]
  },
  {
   "cell_type": "code",
   "execution_count": 5,
   "id": "093e75d4",
   "metadata": {},
   "outputs": [],
   "source": [
    "import pandas as pd"
   ]
  },
  {
   "cell_type": "code",
   "execution_count": 7,
   "id": "d2662b36",
   "metadata": {},
   "outputs": [
    {
     "name": "stdout",
     "output_type": "stream",
     "text": [
      "0    10\n",
      "1    20\n",
      "2    30\n",
      "dtype: int64\n",
      "<class 'pandas.core.series.Series'>\n"
     ]
    }
   ],
   "source": [
    "# Creation of Series from Scalar Values\n",
    "series1 = pd.Series([10,20,30]) \n",
    "print(series1)\n",
    "print(type(series1))"
   ]
  },
  {
   "cell_type": "code",
   "execution_count": 9,
   "id": "c2af5b35",
   "metadata": {},
   "outputs": [
    {
     "data": {
      "text/plain": [
       "0    10\n",
       "1    20\n",
       "2    30\n",
       "dtype: object"
      ]
     },
     "execution_count": 9,
     "metadata": {},
     "output_type": "execute_result"
    }
   ],
   "source": [
    "series1 = pd.Series([\"10\",\"20\",\"30\"]) \n",
    "series1"
   ]
  },
  {
   "cell_type": "code",
   "execution_count": null,
   "id": "db177a3c",
   "metadata": {},
   "outputs": [],
   "source": []
  },
  {
   "cell_type": "code",
   "execution_count": 13,
   "id": "080b85ee",
   "metadata": {},
   "outputs": [
    {
     "name": "stdout",
     "output_type": "stream",
     "text": [
      "<class 'numpy.ndarray'>\n"
     ]
    },
    {
     "data": {
      "text/plain": [
       "0    10\n",
       "1    20\n",
       "2    30\n",
       "dtype: int32"
      ]
     },
     "execution_count": 13,
     "metadata": {},
     "output_type": "execute_result"
    }
   ],
   "source": [
    "# Creation of Series from NumPy Arrays\n",
    "import numpy as np\n",
    "array1 = np.array([10, 20, 30])\n",
    "print(type(array1))\n",
    "series1 = pd.Series(array1)\n",
    "series1"
   ]
  },
  {
   "cell_type": "code",
   "execution_count": 15,
   "id": "871b747e",
   "metadata": {},
   "outputs": [
    {
     "data": {
      "text/plain": [
       "10     India\n",
       "20    London\n",
       "30     Tokyo\n",
       "dtype: object"
      ]
     },
     "execution_count": 15,
     "metadata": {},
     "output_type": "execute_result"
    }
   ],
   "source": [
    "series1 = pd.Series([\"India\", \"London\", \"Tokyo\"], index=[10, 20, 30])\n",
    "series1"
   ]
  },
  {
   "cell_type": "code",
   "execution_count": 18,
   "id": "054a0123",
   "metadata": {},
   "outputs": [
    {
     "data": {
      "text/plain": [
       "'Tokyo'"
      ]
     },
     "execution_count": 18,
     "metadata": {},
     "output_type": "execute_result"
    }
   ],
   "source": [
    "series1[30]"
   ]
  },
  {
   "cell_type": "code",
   "execution_count": 19,
   "id": "0a17bfb8",
   "metadata": {},
   "outputs": [
    {
     "data": {
      "text/plain": [
       "India    NewDelhi\n",
       "UK         London\n",
       "Japan       Tokyo\n",
       "dtype: object"
      ]
     },
     "execution_count": 19,
     "metadata": {},
     "output_type": "execute_result"
    }
   ],
   "source": [
    "series1 = pd.Series([\"NewDelhi\", \"London\", \"Tokyo\"], index=[\"India\", \"UK\", \"Japan\"])\n",
    "series1"
   ]
  },
  {
   "cell_type": "code",
   "execution_count": null,
   "id": "8ab09e18",
   "metadata": {},
   "outputs": [],
   "source": []
  },
  {
   "cell_type": "code",
   "execution_count": 14,
   "id": "0e1f20a8",
   "metadata": {},
   "outputs": [
    {
     "data": {
      "text/plain": [
       "India    NewDelhi\n",
       "UK         London\n",
       "Japan       Tokyo\n",
       "dtype: object"
      ]
     },
     "execution_count": 14,
     "metadata": {},
     "output_type": "execute_result"
    }
   ],
   "source": [
    "# Creation of Series from Dictionary\n",
    "dict1 = {'India': 'NewDelhi', 'UK': 'London', 'Japan': 'Tokyo'}\n",
    "series1 = pd.Series(dict1)\n",
    "series1"
   ]
  },
  {
   "cell_type": "code",
   "execution_count": null,
   "id": "5af9ad85",
   "metadata": {},
   "outputs": [],
   "source": []
  },
  {
   "cell_type": "code",
   "execution_count": null,
   "id": "4956154b",
   "metadata": {},
   "outputs": [],
   "source": []
  },
  {
   "cell_type": "markdown",
   "id": "e56745c3",
   "metadata": {},
   "source": [
    "### Accessing Elements of a Series"
   ]
  },
  {
   "cell_type": "code",
   "execution_count": null,
   "id": "dcff292c",
   "metadata": {},
   "outputs": [],
   "source": [
    "# Indexing"
   ]
  },
  {
   "cell_type": "code",
   "execution_count": 26,
   "id": "6d103a5f",
   "metadata": {},
   "outputs": [
    {
     "data": {
      "text/plain": [
       "India     NewDelhi\n",
       "France       Peris\n",
       "USA             NY\n",
       "UK          London\n",
       "dtype: object"
      ]
     },
     "execution_count": 26,
     "metadata": {},
     "output_type": "execute_result"
    }
   ],
   "source": [
    "series1 = pd.Series(['NewDelhi', \"Peris\", \"NY\", \"London\"], index = [\"India\", \"France\", \"USA\", \"UK\"])\n",
    "series1"
   ]
  },
  {
   "cell_type": "code",
   "execution_count": 27,
   "id": "fe8ecc1d",
   "metadata": {},
   "outputs": [
    {
     "data": {
      "text/plain": [
       "India     NewDelhi\n",
       "France       Peris\n",
       "dtype: object"
      ]
     },
     "execution_count": 27,
     "metadata": {},
     "output_type": "execute_result"
    }
   ],
   "source": [
    "series1[[\"India\",\"France\"]]"
   ]
  },
  {
   "cell_type": "code",
   "execution_count": 28,
   "id": "3cd52266",
   "metadata": {},
   "outputs": [
    {
     "data": {
      "text/plain": [
       "India     NewDelhi\n",
       "France       Peris\n",
       "dtype: object"
      ]
     },
     "execution_count": 28,
     "metadata": {},
     "output_type": "execute_result"
    }
   ],
   "source": [
    "series1[[\"India\", \"France\"]]"
   ]
  },
  {
   "cell_type": "code",
   "execution_count": 29,
   "id": "f49bfd7b",
   "metadata": {},
   "outputs": [
    {
     "data": {
      "text/plain": [
       "10     India\n",
       "20    London\n",
       "30     Tokyo\n",
       "dtype: object"
      ]
     },
     "execution_count": 29,
     "metadata": {},
     "output_type": "execute_result"
    }
   ],
   "source": [
    "series1 = pd.Series([\"India\", \"London\", \"Tokyo\"], index=[10, 20, 30])\n",
    "series1"
   ]
  },
  {
   "cell_type": "code",
   "execution_count": 30,
   "id": "58df294b",
   "metadata": {},
   "outputs": [
    {
     "data": {
      "text/plain": [
       "100     India\n",
       "200    London\n",
       "300     Tokyo\n",
       "dtype: object"
      ]
     },
     "execution_count": 30,
     "metadata": {},
     "output_type": "execute_result"
    }
   ],
   "source": [
    "series1.index = [100, 200, 300]\n",
    "series1"
   ]
  },
  {
   "cell_type": "code",
   "execution_count": null,
   "id": "5a564d7b",
   "metadata": {},
   "outputs": [],
   "source": []
  },
  {
   "cell_type": "code",
   "execution_count": null,
   "id": "eb0e4b54",
   "metadata": {},
   "outputs": [],
   "source": [
    "# Slicing"
   ]
  },
  {
   "cell_type": "code",
   "execution_count": 31,
   "id": "3d233845",
   "metadata": {},
   "outputs": [
    {
     "data": {
      "text/plain": [
       "India     NewDelhi\n",
       "France       Peris\n",
       "USA             NY\n",
       "UK          London\n",
       "dtype: object"
      ]
     },
     "execution_count": 31,
     "metadata": {},
     "output_type": "execute_result"
    }
   ],
   "source": [
    "series2 = pd.Series(['NewDelhi', \"Peris\", \"NY\", \"London\"], index = [\"India\", \"France\", \"USA\", \"UK\"])\n",
    "series2"
   ]
  },
  {
   "cell_type": "code",
   "execution_count": 32,
   "id": "7ecb81c3",
   "metadata": {},
   "outputs": [
    {
     "data": {
      "text/plain": [
       "France    Peris\n",
       "USA          NY\n",
       "dtype: object"
      ]
     },
     "execution_count": 32,
     "metadata": {},
     "output_type": "execute_result"
    }
   ],
   "source": [
    "series2[1:3] ## start to end - 1"
   ]
  },
  {
   "cell_type": "code",
   "execution_count": 33,
   "id": "a9f00459",
   "metadata": {},
   "outputs": [
    {
     "data": {
      "text/plain": [
       "France     Peris\n",
       "USA           NY\n",
       "UK        London\n",
       "dtype: object"
      ]
     },
     "execution_count": 33,
     "metadata": {},
     "output_type": "execute_result"
    }
   ],
   "source": [
    "series2[\"France\":\"UK\"] ## for labeled indices last value is included"
   ]
  },
  {
   "cell_type": "code",
   "execution_count": 34,
   "id": "416c7901",
   "metadata": {},
   "outputs": [
    {
     "data": {
      "text/plain": [
       "UK          London\n",
       "USA             NY\n",
       "France       Peris\n",
       "India     NewDelhi\n",
       "dtype: object"
      ]
     },
     "execution_count": 34,
     "metadata": {},
     "output_type": "execute_result"
    }
   ],
   "source": [
    "series2[::-1]"
   ]
  },
  {
   "cell_type": "code",
   "execution_count": 36,
   "id": "6e9c5d67",
   "metadata": {},
   "outputs": [
    {
     "data": {
      "text/plain": [
       "India        NewDelhi\n",
       "France    New Capital\n",
       "USA       New Capital\n",
       "UK             London\n",
       "dtype: object"
      ]
     },
     "execution_count": 36,
     "metadata": {},
     "output_type": "execute_result"
    }
   ],
   "source": [
    "series2[1:3] = \"New Capital\"\n",
    "series2"
   ]
  },
  {
   "cell_type": "code",
   "execution_count": null,
   "id": "72812245",
   "metadata": {},
   "outputs": [],
   "source": []
  },
  {
   "cell_type": "code",
   "execution_count": null,
   "id": "13b6bf66",
   "metadata": {},
   "outputs": [],
   "source": []
  },
  {
   "cell_type": "code",
   "execution_count": null,
   "id": "1e5b3d8d",
   "metadata": {},
   "outputs": [],
   "source": []
  },
  {
   "cell_type": "markdown",
   "id": "3781b269",
   "metadata": {},
   "source": [
    "### Attributes of Series"
   ]
  },
  {
   "cell_type": "code",
   "execution_count": 37,
   "id": "2e1145c2",
   "metadata": {},
   "outputs": [
    {
     "data": {
      "text/plain": [
       "India     NewDelhi\n",
       "France       Peris\n",
       "USA             NY\n",
       "UK          London\n",
       "dtype: object"
      ]
     },
     "execution_count": 37,
     "metadata": {},
     "output_type": "execute_result"
    }
   ],
   "source": [
    "series3 = pd.Series(['NewDelhi', \"Peris\", \"NY\", \"London\"], index = [\"India\", \"France\", \"USA\", \"UK\"])\n",
    "series3"
   ]
  },
  {
   "cell_type": "code",
   "execution_count": 40,
   "id": "7d175ac7",
   "metadata": {},
   "outputs": [
    {
     "data": {
      "text/plain": [
       "India     NewDelhi\n",
       "France       Peris\n",
       "USA             NY\n",
       "UK          London\n",
       "Name: My series, dtype: object"
      ]
     },
     "execution_count": 40,
     "metadata": {},
     "output_type": "execute_result"
    }
   ],
   "source": [
    "series3.name = \"My series\"\n",
    "series3"
   ]
  },
  {
   "cell_type": "code",
   "execution_count": 43,
   "id": "365b4505",
   "metadata": {},
   "outputs": [
    {
     "data": {
      "text/plain": [
       "Index\n",
       "India     NewDelhi\n",
       "France       Peris\n",
       "USA             NY\n",
       "UK          London\n",
       "Name: My series, dtype: object"
      ]
     },
     "execution_count": 43,
     "metadata": {},
     "output_type": "execute_result"
    }
   ],
   "source": [
    "series3.index.name = \"Index\"\n",
    "series3"
   ]
  },
  {
   "cell_type": "code",
   "execution_count": 44,
   "id": "42557975",
   "metadata": {},
   "outputs": [
    {
     "data": {
      "text/plain": [
       "array(['NewDelhi', 'Peris', 'NY', 'London'], dtype=object)"
      ]
     },
     "execution_count": 44,
     "metadata": {},
     "output_type": "execute_result"
    }
   ],
   "source": [
    "## all values\n",
    "series3.values"
   ]
  },
  {
   "cell_type": "code",
   "execution_count": 45,
   "id": "ba04fc4b",
   "metadata": {},
   "outputs": [
    {
     "data": {
      "text/plain": [
       "4"
      ]
     },
     "execution_count": 45,
     "metadata": {},
     "output_type": "execute_result"
    }
   ],
   "source": [
    "## no of elements\n",
    "series3.size"
   ]
  },
  {
   "cell_type": "code",
   "execution_count": 47,
   "id": "2cdbe603",
   "metadata": {},
   "outputs": [
    {
     "data": {
      "text/plain": [
       "False"
      ]
     },
     "execution_count": 47,
     "metadata": {},
     "output_type": "execute_result"
    }
   ],
   "source": [
    "series3.empty"
   ]
  },
  {
   "cell_type": "code",
   "execution_count": null,
   "id": "6a8845da",
   "metadata": {},
   "outputs": [],
   "source": []
  },
  {
   "cell_type": "code",
   "execution_count": null,
   "id": "5195365e",
   "metadata": {},
   "outputs": [],
   "source": []
  },
  {
   "cell_type": "code",
   "execution_count": null,
   "id": "b820fc4e",
   "metadata": {},
   "outputs": [],
   "source": []
  },
  {
   "cell_type": "markdown",
   "id": "e8f2d063",
   "metadata": {},
   "source": [
    "### Methods of Series"
   ]
  },
  {
   "cell_type": "code",
   "execution_count": 50,
   "id": "c53d79cf",
   "metadata": {},
   "outputs": [
    {
     "data": {
      "text/plain": [
       "India     NewDelhi\n",
       "France       Peris\n",
       "USA             NY\n",
       "UK          London\n",
       "Japan        Tyoko\n",
       "China       Beging\n",
       "dtype: object"
      ]
     },
     "execution_count": 50,
     "metadata": {},
     "output_type": "execute_result"
    }
   ],
   "source": [
    "## top n elements, n=5, by default\n",
    "series4 = pd.Series(['NewDelhi', \"Peris\", \"NY\", \"London\", \"Tyoko\", \"Beging\"], \n",
    "                    index = [\"India\", \"France\", \"USA\", \"UK\", \"Japan\", \"China\"])\n",
    "series4.head(6)"
   ]
  },
  {
   "cell_type": "code",
   "execution_count": 52,
   "id": "3be682bb",
   "metadata": {},
   "outputs": [
    {
     "data": {
      "text/plain": [
       "UK       London\n",
       "Japan     Tyoko\n",
       "China    Beging\n",
       "dtype: object"
      ]
     },
     "execution_count": 52,
     "metadata": {},
     "output_type": "execute_result"
    }
   ],
   "source": [
    "series4.tail(3)"
   ]
  },
  {
   "cell_type": "code",
   "execution_count": 64,
   "id": "3e1a2c4c",
   "metadata": {},
   "outputs": [
    {
     "data": {
      "text/plain": [
       "India     NewDelhi\n",
       "France       Peris\n",
       "USA             NY\n",
       "UK          London\n",
       "Japan          nan\n",
       "China       Beging\n",
       "dtype: object"
      ]
     },
     "execution_count": 64,
     "metadata": {},
     "output_type": "execute_result"
    }
   ],
   "source": [
    "## top n elements, n=5, by default\n",
    "series5 = pd.Series(['NewDelhi', \"Peris\", \"NY\", \"London\", \"nan\", \"Beging\"], \n",
    "                    index = [\"India\", \"France\", \"USA\", \"UK\", \"Japan\", \"China\"])\n",
    "series5.head(6)"
   ]
  },
  {
   "cell_type": "code",
   "execution_count": 63,
   "id": "7cbd709f",
   "metadata": {},
   "outputs": [
    {
     "data": {
      "text/plain": [
       "6"
      ]
     },
     "execution_count": 63,
     "metadata": {},
     "output_type": "execute_result"
    }
   ],
   "source": [
    "series5.count() ## not nan values"
   ]
  },
  {
   "cell_type": "code",
   "execution_count": null,
   "id": "993f1ed0",
   "metadata": {},
   "outputs": [],
   "source": []
  },
  {
   "cell_type": "code",
   "execution_count": null,
   "id": "ec0b0c9c",
   "metadata": {},
   "outputs": [],
   "source": []
  },
  {
   "cell_type": "code",
   "execution_count": null,
   "id": "570b0bef",
   "metadata": {},
   "outputs": [],
   "source": []
  },
  {
   "cell_type": "code",
   "execution_count": null,
   "id": "de071388",
   "metadata": {},
   "outputs": [],
   "source": []
  },
  {
   "cell_type": "code",
   "execution_count": null,
   "id": "3ba559f4",
   "metadata": {},
   "outputs": [],
   "source": []
  },
  {
   "cell_type": "markdown",
   "id": "499e6ba7",
   "metadata": {},
   "source": [
    "### Mathematical Operations on Series"
   ]
  },
  {
   "cell_type": "code",
   "execution_count": 72,
   "id": "d093838c",
   "metadata": {},
   "outputs": [],
   "source": [
    "seriesA = pd.Series([1,2,3,4,5], index = ['a', 'b', 'c', 'd', 'e'])\n",
    "\n",
    "seriesB = pd.Series([10,20,-10,-50,100], index = ['z', 'y', 'a', 'c', 'e'])\n",
    "\n",
    "# seriesA = pd.Series([1,2,3,4,5, 10])\n",
    "# seriesB = pd.Series([10,20,-10,-50,100])"
   ]
  },
  {
   "cell_type": "code",
   "execution_count": 74,
   "id": "99538982",
   "metadata": {},
   "outputs": [
    {
     "data": {
      "text/plain": [
       "a     -9.0\n",
       "b      NaN\n",
       "c    -47.0\n",
       "d      NaN\n",
       "e    105.0\n",
       "y      NaN\n",
       "z      NaN\n",
       "dtype: float64"
      ]
     },
     "execution_count": 74,
     "metadata": {},
     "output_type": "execute_result"
    }
   ],
   "source": [
    "## addition\n",
    "seriesA + seriesB"
   ]
  },
  {
   "cell_type": "code",
   "execution_count": 75,
   "id": "6edeca87",
   "metadata": {},
   "outputs": [
    {
     "data": {
      "text/plain": [
       "a     -9.0\n",
       "b      7.0\n",
       "c    -47.0\n",
       "d      9.0\n",
       "e    105.0\n",
       "y     25.0\n",
       "z     15.0\n",
       "dtype: float64"
      ]
     },
     "execution_count": 75,
     "metadata": {},
     "output_type": "execute_result"
    }
   ],
   "source": [
    "seriesA.add(seriesB, fill_value = 5) ## nan values"
   ]
  },
  {
   "cell_type": "code",
   "execution_count": null,
   "id": "359a9df6",
   "metadata": {},
   "outputs": [],
   "source": []
  },
  {
   "cell_type": "code",
   "execution_count": null,
   "id": "9bcde318",
   "metadata": {},
   "outputs": [],
   "source": []
  },
  {
   "cell_type": "code",
   "execution_count": null,
   "id": "a787ae2e",
   "metadata": {},
   "outputs": [],
   "source": [
    "## Subtraction of two Series"
   ]
  },
  {
   "cell_type": "code",
   "execution_count": 76,
   "id": "c2444ee1",
   "metadata": {},
   "outputs": [],
   "source": [
    "seriesA = pd.Series([1,2,3,4,5], index = ['a', 'b', 'c', 'd', 'e'])\n",
    "seriesB = pd.Series([10,20,-10,-50,100], index = ['z', 'y', 'a', 'c', 'e'])"
   ]
  },
  {
   "cell_type": "code",
   "execution_count": 78,
   "id": "bc894936",
   "metadata": {},
   "outputs": [
    {
     "data": {
      "text/plain": [
       "a    11.0\n",
       "b     NaN\n",
       "c    53.0\n",
       "d     NaN\n",
       "e   -95.0\n",
       "y     NaN\n",
       "z     NaN\n",
       "dtype: float64"
      ]
     },
     "execution_count": 78,
     "metadata": {},
     "output_type": "execute_result"
    }
   ],
   "source": [
    "seriesA - seriesB"
   ]
  },
  {
   "cell_type": "code",
   "execution_count": 79,
   "id": "2036d1f5",
   "metadata": {},
   "outputs": [
    {
     "data": {
      "text/plain": [
       "a    11.0\n",
       "b    -3.0\n",
       "c    53.0\n",
       "d    -1.0\n",
       "e   -95.0\n",
       "y   -15.0\n",
       "z    -5.0\n",
       "dtype: float64"
      ]
     },
     "execution_count": 79,
     "metadata": {},
     "output_type": "execute_result"
    }
   ],
   "source": [
    "seriesA.sub(seriesB, fill_value = 5) ## nan values"
   ]
  },
  {
   "cell_type": "code",
   "execution_count": null,
   "id": "7b7ab670",
   "metadata": {},
   "outputs": [],
   "source": []
  },
  {
   "cell_type": "code",
   "execution_count": null,
   "id": "70d6597c",
   "metadata": {},
   "outputs": [],
   "source": []
  },
  {
   "cell_type": "code",
   "execution_count": null,
   "id": "cb557395",
   "metadata": {},
   "outputs": [],
   "source": [
    "# Multiplication of two Series"
   ]
  },
  {
   "cell_type": "code",
   "execution_count": 80,
   "id": "dee81b37",
   "metadata": {},
   "outputs": [
    {
     "data": {
      "text/plain": [
       "a    -10.0\n",
       "b      NaN\n",
       "c   -150.0\n",
       "d      NaN\n",
       "e    500.0\n",
       "y      NaN\n",
       "z      NaN\n",
       "dtype: float64"
      ]
     },
     "execution_count": 80,
     "metadata": {},
     "output_type": "execute_result"
    }
   ],
   "source": [
    "seriesA * seriesB"
   ]
  },
  {
   "cell_type": "code",
   "execution_count": 81,
   "id": "2fea5dc2",
   "metadata": {},
   "outputs": [
    {
     "data": {
      "text/plain": [
       "a    -10.0\n",
       "b      2.0\n",
       "c   -150.0\n",
       "d      4.0\n",
       "e    500.0\n",
       "y     20.0\n",
       "z     10.0\n",
       "dtype: float64"
      ]
     },
     "execution_count": 81,
     "metadata": {},
     "output_type": "execute_result"
    }
   ],
   "source": [
    "seriesA.mul(seriesB, fill_value = 1) ## nan values"
   ]
  },
  {
   "cell_type": "code",
   "execution_count": null,
   "id": "20cf0895",
   "metadata": {},
   "outputs": [],
   "source": []
  },
  {
   "cell_type": "code",
   "execution_count": null,
   "id": "ab9c7d3f",
   "metadata": {},
   "outputs": [],
   "source": [
    "#  Division of two Series"
   ]
  },
  {
   "cell_type": "code",
   "execution_count": 82,
   "id": "52fac78c",
   "metadata": {},
   "outputs": [
    {
     "data": {
      "text/plain": [
       "a   -0.10\n",
       "b     NaN\n",
       "c   -0.06\n",
       "d     NaN\n",
       "e    0.05\n",
       "y     NaN\n",
       "z     NaN\n",
       "dtype: float64"
      ]
     },
     "execution_count": 82,
     "metadata": {},
     "output_type": "execute_result"
    }
   ],
   "source": [
    "seriesA / seriesB"
   ]
  },
  {
   "cell_type": "code",
   "execution_count": 83,
   "id": "a4790880",
   "metadata": {},
   "outputs": [
    {
     "data": {
      "text/plain": [
       "a   -0.10\n",
       "b    2.00\n",
       "c   -0.06\n",
       "d    4.00\n",
       "e    0.05\n",
       "y    0.05\n",
       "z    0.10\n",
       "dtype: float64"
      ]
     },
     "execution_count": 83,
     "metadata": {},
     "output_type": "execute_result"
    }
   ],
   "source": [
    "seriesA.divide(seriesB, fill_value = 1) ## nan values"
   ]
  },
  {
   "cell_type": "code",
   "execution_count": null,
   "id": "a8a025b4",
   "metadata": {},
   "outputs": [],
   "source": []
  },
  {
   "cell_type": "code",
   "execution_count": null,
   "id": "9ee55a38",
   "metadata": {},
   "outputs": [],
   "source": []
  },
  {
   "cell_type": "code",
   "execution_count": null,
   "id": "8254e7bf",
   "metadata": {},
   "outputs": [],
   "source": []
  },
  {
   "cell_type": "code",
   "execution_count": null,
   "id": "2a322d11",
   "metadata": {},
   "outputs": [],
   "source": []
  },
  {
   "cell_type": "markdown",
   "id": "37913401",
   "metadata": {},
   "source": [
    "### DataFrame"
   ]
  },
  {
   "cell_type": "code",
   "execution_count": null,
   "id": "b965af9d",
   "metadata": {},
   "outputs": [],
   "source": [
    "## Example"
   ]
  },
  {
   "cell_type": "code",
   "execution_count": 84,
   "id": "db7940c7",
   "metadata": {},
   "outputs": [],
   "source": [
    "ResultSheet={\n",
    "'Arnab': pd.Series([90, 91, 97],\n",
    " index=['Maths','Science','Hindi']),\n",
    "'Ramit': pd.Series([92, 81, 96],\n",
    " index=['Maths','Science','Hindi']),\n",
    "'Samridhi': pd.Series([89, 91, 88],\n",
    " index=['Maths','Science','Hindi']),\n",
    "'Riya': pd.Series([81, 71, 67],\n",
    " index=['Maths','Science','Hindi']),\n",
    "'Mallika': pd.Series([94, 95, 99],\n",
    " index=['Maths','Science','Hindi'])}"
   ]
  },
  {
   "cell_type": "code",
   "execution_count": null,
   "id": "87493604",
   "metadata": {},
   "outputs": [],
   "source": []
  },
  {
   "cell_type": "code",
   "execution_count": 85,
   "id": "7c130e6f",
   "metadata": {},
   "outputs": [
    {
     "data": {
      "text/html": [
       "<div>\n",
       "<style scoped>\n",
       "    .dataframe tbody tr th:only-of-type {\n",
       "        vertical-align: middle;\n",
       "    }\n",
       "\n",
       "    .dataframe tbody tr th {\n",
       "        vertical-align: top;\n",
       "    }\n",
       "\n",
       "    .dataframe thead th {\n",
       "        text-align: right;\n",
       "    }\n",
       "</style>\n",
       "<table border=\"1\" class=\"dataframe\">\n",
       "  <thead>\n",
       "    <tr style=\"text-align: right;\">\n",
       "      <th></th>\n",
       "      <th>Arnab</th>\n",
       "      <th>Ramit</th>\n",
       "      <th>Samridhi</th>\n",
       "      <th>Riya</th>\n",
       "      <th>Mallika</th>\n",
       "    </tr>\n",
       "  </thead>\n",
       "  <tbody>\n",
       "    <tr>\n",
       "      <th>Maths</th>\n",
       "      <td>90</td>\n",
       "      <td>92</td>\n",
       "      <td>89</td>\n",
       "      <td>81</td>\n",
       "      <td>94</td>\n",
       "    </tr>\n",
       "    <tr>\n",
       "      <th>Science</th>\n",
       "      <td>91</td>\n",
       "      <td>81</td>\n",
       "      <td>91</td>\n",
       "      <td>71</td>\n",
       "      <td>95</td>\n",
       "    </tr>\n",
       "    <tr>\n",
       "      <th>Hindi</th>\n",
       "      <td>97</td>\n",
       "      <td>96</td>\n",
       "      <td>88</td>\n",
       "      <td>67</td>\n",
       "      <td>99</td>\n",
       "    </tr>\n",
       "  </tbody>\n",
       "</table>\n",
       "</div>"
      ],
      "text/plain": [
       "         Arnab  Ramit  Samridhi  Riya  Mallika\n",
       "Maths       90     92        89    81       94\n",
       "Science     91     81        91    71       95\n",
       "Hindi       97     96        88    67       99"
      ]
     },
     "execution_count": 85,
     "metadata": {},
     "output_type": "execute_result"
    }
   ],
   "source": [
    "df = pd.DataFrame(ResultSheet)\n",
    "df"
   ]
  },
  {
   "cell_type": "code",
   "execution_count": null,
   "id": "6fe47acb",
   "metadata": {},
   "outputs": [],
   "source": []
  },
  {
   "cell_type": "code",
   "execution_count": null,
   "id": "30a3b4de",
   "metadata": {},
   "outputs": [],
   "source": []
  },
  {
   "cell_type": "markdown",
   "id": "938cbb11",
   "metadata": {},
   "source": [
    "#### Creation of an empty DataFrame"
   ]
  },
  {
   "cell_type": "code",
   "execution_count": 90,
   "id": "45fc29b2",
   "metadata": {},
   "outputs": [
    {
     "name": "stdout",
     "output_type": "stream",
     "text": [
      "Empty DataFrame\n",
      "Columns: []\n",
      "Index: []\n"
     ]
    },
    {
     "data": {
      "text/plain": [
       "pandas.core.frame.DataFrame"
      ]
     },
     "execution_count": 90,
     "metadata": {},
     "output_type": "execute_result"
    }
   ],
   "source": [
    "import pandas as pd\n",
    "dFrameEmt = pd.DataFrame()\n",
    "print(dFrameEmt)\n",
    "type(dFrameEmt)"
   ]
  },
  {
   "cell_type": "code",
   "execution_count": null,
   "id": "f7424898",
   "metadata": {},
   "outputs": [],
   "source": []
  },
  {
   "cell_type": "markdown",
   "id": "b030a2eb",
   "metadata": {},
   "source": [
    "#### Creation of DataFrame from NumPy ndarrays"
   ]
  },
  {
   "cell_type": "code",
   "execution_count": 96,
   "id": "5f14c71a",
   "metadata": {},
   "outputs": [
    {
     "name": "stdout",
     "output_type": "stream",
     "text": [
      "     A    B    C     D\n",
      "0   10   20   30   NaN\n",
      "1  -10  -20  -30 -40.0\n",
      "2  100  200  300   NaN\n"
     ]
    }
   ],
   "source": [
    "\n",
    "import numpy as np\n",
    "array1 = np.array([10,20, 30])\n",
    "array2 = np.array([100,200, 300])\n",
    "array3 = np.array([-10,-20,-30, -40])\n",
    "\n",
    "# dFrame4 = pd.DataFrame(array1)\n",
    "# print(dFrame4)\n",
    "# dFrame4\n",
    "\n",
    "dFrame5 = pd.DataFrame([array1, array3, array2], columns=[ 'A', 'B', 'C', 'D'])\n",
    "print(dFrame5)"
   ]
  },
  {
   "cell_type": "code",
   "execution_count": null,
   "id": "0205d6ba",
   "metadata": {},
   "outputs": [],
   "source": []
  },
  {
   "cell_type": "markdown",
   "id": "c4b7b600",
   "metadata": {},
   "source": [
    "#### Creation of DataFrame from List of Dictionaries"
   ]
  },
  {
   "cell_type": "code",
   "execution_count": 97,
   "id": "a3a49e10",
   "metadata": {},
   "outputs": [
    {
     "name": "stdout",
     "output_type": "stream",
     "text": [
      "    a   b     c\n",
      "0  10  20   NaN\n",
      "1   5  10  20.0\n"
     ]
    }
   ],
   "source": [
    "\n",
    "listDict = [{'a':10, 'b':20}, {'a':5, 'b':10, 'c':20}]\n",
    "\n",
    "dFrameListDict = pd.DataFrame(listDict)\n",
    "print(dFrameListDict)"
   ]
  },
  {
   "cell_type": "code",
   "execution_count": null,
   "id": "eceb9789",
   "metadata": {},
   "outputs": [],
   "source": []
  },
  {
   "cell_type": "markdown",
   "id": "41a708c1",
   "metadata": {},
   "source": [
    "#### Creation of DataFrame from Dictionary of Lists"
   ]
  },
  {
   "cell_type": "code",
   "execution_count": 105,
   "id": "9c64a371",
   "metadata": {},
   "outputs": [
    {
     "name": "stdout",
     "output_type": "stream",
     "text": [
      "    State      VDF  GArea\n",
      "0   Assam  2797.00  78438\n",
      "1   Delhi     6.72   1483\n",
      "2  Kerala  1663.00  38852\n"
     ]
    }
   ],
   "source": [
    "\n",
    "dictForest = {'State': ['Assam', 'Delhi', 'Kerala'],\n",
    "             'GArea': [78438, 1483, 38852] ,\n",
    "             'VDF' : [2797, 6.72,1663]}\n",
    "\n",
    "# dFrameForest= pd.DataFrame(dictForest)\n",
    "\n",
    "dFrameForest = pd.DataFrame(dictForest, columns = [\"State\", \"VDF\", \"GArea\"])\n",
    "print(dFrameForest)"
   ]
  },
  {
   "cell_type": "code",
   "execution_count": null,
   "id": "d37e671d",
   "metadata": {},
   "outputs": [],
   "source": []
  },
  {
   "cell_type": "markdown",
   "id": "6f62d9b8",
   "metadata": {},
   "source": [
    "#### Creation of DataFrame from Series"
   ]
  },
  {
   "cell_type": "code",
   "execution_count": 101,
   "id": "389abe6f",
   "metadata": {},
   "outputs": [
    {
     "name": "stdout",
     "output_type": "stream",
     "text": [
      "      a    b     c    d      e     z     y\n",
      "0   1.0  2.0   3.0  4.0    5.0   NaN   NaN\n",
      "1 -10.0  NaN -50.0  NaN  100.0  10.0  20.0\n"
     ]
    }
   ],
   "source": [
    "\n",
    "seriesA = pd.Series([1,2,3,4,5], index = ['a', 'b', 'c', 'd', 'e'])\n",
    "seriesB = pd.Series ([1000,2000,-1000,-5000,1000], index = ['a', 'b', 'c', 'd', 'e'])\n",
    "seriesC = pd.Series([10,20,-10,-50,100], index = ['z', 'y', 'a', 'c', 'e'])\n",
    "\n",
    "dFrame6 = pd.DataFrame(seriesA)\n",
    "# print(dFrame6)\n",
    "dFrame7 = pd.DataFrame([seriesA, seriesC])\n",
    "print(dFrame7)    "
   ]
  },
  {
   "cell_type": "code",
   "execution_count": null,
   "id": "dcb26fe4",
   "metadata": {},
   "outputs": [],
   "source": []
  },
  {
   "cell_type": "code",
   "execution_count": null,
   "id": "3de9d8df",
   "metadata": {},
   "outputs": [],
   "source": []
  },
  {
   "cell_type": "markdown",
   "id": "69c4f882",
   "metadata": {},
   "source": [
    "#### Creation of DataFrame from Dictionary of Series"
   ]
  },
  {
   "cell_type": "code",
   "execution_count": 102,
   "id": "14c5bcb7",
   "metadata": {},
   "outputs": [],
   "source": [
    "\n",
    "ResultSheet={\n",
    "            'Arnab': pd.Series([90, 91, 97],\n",
    "             index=['Maths','Science','Hindi']),\n",
    "    \n",
    "            'Ramit': pd.Series([92, 81, 96],\n",
    "             index=['Maths','Science','Hindi']),\n",
    "    \n",
    "            'Samridhi': pd.Series([89, 91, 88],\n",
    "             index=['Maths','Science','Hindi']),\n",
    "    \n",
    "            'Riya': pd.Series([81, 71, 67],\n",
    "             index=['Maths','Science','Hindi']),\n",
    "    \n",
    "            'Mallika': pd.Series([94, 95, 99],\n",
    "             index=['Maths','Science','Hindi'])\n",
    "}"
   ]
  },
  {
   "cell_type": "code",
   "execution_count": 103,
   "id": "44d6b5a1",
   "metadata": {},
   "outputs": [
    {
     "data": {
      "text/html": [
       "<div>\n",
       "<style scoped>\n",
       "    .dataframe tbody tr th:only-of-type {\n",
       "        vertical-align: middle;\n",
       "    }\n",
       "\n",
       "    .dataframe tbody tr th {\n",
       "        vertical-align: top;\n",
       "    }\n",
       "\n",
       "    .dataframe thead th {\n",
       "        text-align: right;\n",
       "    }\n",
       "</style>\n",
       "<table border=\"1\" class=\"dataframe\">\n",
       "  <thead>\n",
       "    <tr style=\"text-align: right;\">\n",
       "      <th></th>\n",
       "      <th>Arnab</th>\n",
       "      <th>Ramit</th>\n",
       "      <th>Samridhi</th>\n",
       "      <th>Riya</th>\n",
       "      <th>Mallika</th>\n",
       "    </tr>\n",
       "  </thead>\n",
       "  <tbody>\n",
       "    <tr>\n",
       "      <th>Maths</th>\n",
       "      <td>90</td>\n",
       "      <td>92</td>\n",
       "      <td>89</td>\n",
       "      <td>81</td>\n",
       "      <td>94</td>\n",
       "    </tr>\n",
       "    <tr>\n",
       "      <th>Science</th>\n",
       "      <td>91</td>\n",
       "      <td>81</td>\n",
       "      <td>91</td>\n",
       "      <td>71</td>\n",
       "      <td>95</td>\n",
       "    </tr>\n",
       "    <tr>\n",
       "      <th>Hindi</th>\n",
       "      <td>97</td>\n",
       "      <td>96</td>\n",
       "      <td>88</td>\n",
       "      <td>67</td>\n",
       "      <td>99</td>\n",
       "    </tr>\n",
       "  </tbody>\n",
       "</table>\n",
       "</div>"
      ],
      "text/plain": [
       "         Arnab  Ramit  Samridhi  Riya  Mallika\n",
       "Maths       90     92        89    81       94\n",
       "Science     91     81        91    71       95\n",
       "Hindi       97     96        88    67       99"
      ]
     },
     "execution_count": 103,
     "metadata": {},
     "output_type": "execute_result"
    }
   ],
   "source": [
    "ResultDF = pd.DataFrame(ResultSheet)\n",
    "ResultDF"
   ]
  },
  {
   "cell_type": "code",
   "execution_count": null,
   "id": "1ff8ea7a",
   "metadata": {},
   "outputs": [],
   "source": []
  },
  {
   "cell_type": "code",
   "execution_count": null,
   "id": "26b2b030",
   "metadata": {},
   "outputs": [],
   "source": [
    "# Operations on rows and columns in DataFrames"
   ]
  },
  {
   "cell_type": "code",
   "execution_count": 114,
   "id": "3a2d5fa5",
   "metadata": {},
   "outputs": [
    {
     "data": {
      "text/html": [
       "<div>\n",
       "<style scoped>\n",
       "    .dataframe tbody tr th:only-of-type {\n",
       "        vertical-align: middle;\n",
       "    }\n",
       "\n",
       "    .dataframe tbody tr th {\n",
       "        vertical-align: top;\n",
       "    }\n",
       "\n",
       "    .dataframe thead th {\n",
       "        text-align: right;\n",
       "    }\n",
       "</style>\n",
       "<table border=\"1\" class=\"dataframe\">\n",
       "  <thead>\n",
       "    <tr style=\"text-align: right;\">\n",
       "      <th></th>\n",
       "      <th>Arnab</th>\n",
       "      <th>Ramit</th>\n",
       "      <th>Samridhi</th>\n",
       "      <th>Riya</th>\n",
       "      <th>Mallika</th>\n",
       "    </tr>\n",
       "  </thead>\n",
       "  <tbody>\n",
       "    <tr>\n",
       "      <th>Maths</th>\n",
       "      <td>90</td>\n",
       "      <td>92</td>\n",
       "      <td>89</td>\n",
       "      <td>81</td>\n",
       "      <td>94</td>\n",
       "    </tr>\n",
       "    <tr>\n",
       "      <th>Science</th>\n",
       "      <td>91</td>\n",
       "      <td>81</td>\n",
       "      <td>91</td>\n",
       "      <td>71</td>\n",
       "      <td>95</td>\n",
       "    </tr>\n",
       "    <tr>\n",
       "      <th>Hindi</th>\n",
       "      <td>97</td>\n",
       "      <td>96</td>\n",
       "      <td>88</td>\n",
       "      <td>67</td>\n",
       "      <td>99</td>\n",
       "    </tr>\n",
       "  </tbody>\n",
       "</table>\n",
       "</div>"
      ],
      "text/plain": [
       "         Arnab  Ramit  Samridhi  Riya  Mallika\n",
       "Maths       90     92        89    81       94\n",
       "Science     91     81        91    71       95\n",
       "Hindi       97     96        88    67       99"
      ]
     },
     "execution_count": 114,
     "metadata": {},
     "output_type": "execute_result"
    }
   ],
   "source": [
    "ResultSheet={\n",
    "            'Arnab': pd.Series([90, 91, 97],\n",
    "             index=['Maths','Science','Hindi']),\n",
    "    \n",
    "            'Ramit': pd.Series([92, 81, 96],\n",
    "             index=['Maths','Science','Hindi']),\n",
    "    \n",
    "            'Samridhi': pd.Series([89, 91, 88],\n",
    "             index=['Maths','Science','Hindi']),\n",
    "    \n",
    "            'Riya': pd.Series([81, 71, 67],\n",
    "             index=['Maths','Science','Hindi']),\n",
    "    \n",
    "            'Mallika': pd.Series([94, 95, 99],\n",
    "             index=['Maths','Science','Hindi'])\n",
    "}\n",
    "ResultDF = pd.DataFrame(ResultSheet)\n",
    "ResultDF"
   ]
  },
  {
   "cell_type": "code",
   "execution_count": 108,
   "id": "1d875c03",
   "metadata": {},
   "outputs": [
    {
     "data": {
      "text/html": [
       "<div>\n",
       "<style scoped>\n",
       "    .dataframe tbody tr th:only-of-type {\n",
       "        vertical-align: middle;\n",
       "    }\n",
       "\n",
       "    .dataframe tbody tr th {\n",
       "        vertical-align: top;\n",
       "    }\n",
       "\n",
       "    .dataframe thead th {\n",
       "        text-align: right;\n",
       "    }\n",
       "</style>\n",
       "<table border=\"1\" class=\"dataframe\">\n",
       "  <thead>\n",
       "    <tr style=\"text-align: right;\">\n",
       "      <th></th>\n",
       "      <th>Arnab</th>\n",
       "      <th>Ramit</th>\n",
       "      <th>Samridhi</th>\n",
       "      <th>Riya</th>\n",
       "      <th>Mallika</th>\n",
       "      <th>Preeti</th>\n",
       "    </tr>\n",
       "  </thead>\n",
       "  <tbody>\n",
       "    <tr>\n",
       "      <th>Maths</th>\n",
       "      <td>90</td>\n",
       "      <td>92</td>\n",
       "      <td>89</td>\n",
       "      <td>81</td>\n",
       "      <td>94</td>\n",
       "      <td>89</td>\n",
       "    </tr>\n",
       "    <tr>\n",
       "      <th>Science</th>\n",
       "      <td>91</td>\n",
       "      <td>81</td>\n",
       "      <td>91</td>\n",
       "      <td>71</td>\n",
       "      <td>95</td>\n",
       "      <td>78</td>\n",
       "    </tr>\n",
       "    <tr>\n",
       "      <th>Hindi</th>\n",
       "      <td>97</td>\n",
       "      <td>96</td>\n",
       "      <td>88</td>\n",
       "      <td>67</td>\n",
       "      <td>99</td>\n",
       "      <td>76</td>\n",
       "    </tr>\n",
       "  </tbody>\n",
       "</table>\n",
       "</div>"
      ],
      "text/plain": [
       "         Arnab  Ramit  Samridhi  Riya  Mallika  Preeti\n",
       "Maths       90     92        89    81       94      89\n",
       "Science     91     81        91    71       95      78\n",
       "Hindi       97     96        88    67       99      76"
      ]
     },
     "execution_count": 108,
     "metadata": {},
     "output_type": "execute_result"
    }
   ],
   "source": [
    "## Adding a new column \n",
    "ResultDF['Preeti'] = [89,78,76]\n",
    "ResultDF"
   ]
  },
  {
   "cell_type": "code",
   "execution_count": null,
   "id": "0d76f88f",
   "metadata": {},
   "outputs": [],
   "source": []
  },
  {
   "cell_type": "code",
   "execution_count": 110,
   "id": "78a59b3e",
   "metadata": {},
   "outputs": [
    {
     "data": {
      "text/html": [
       "<div>\n",
       "<style scoped>\n",
       "    .dataframe tbody tr th:only-of-type {\n",
       "        vertical-align: middle;\n",
       "    }\n",
       "\n",
       "    .dataframe tbody tr th {\n",
       "        vertical-align: top;\n",
       "    }\n",
       "\n",
       "    .dataframe thead th {\n",
       "        text-align: right;\n",
       "    }\n",
       "</style>\n",
       "<table border=\"1\" class=\"dataframe\">\n",
       "  <thead>\n",
       "    <tr style=\"text-align: right;\">\n",
       "      <th></th>\n",
       "      <th>Arnab</th>\n",
       "      <th>Ramit</th>\n",
       "      <th>Samridhi</th>\n",
       "      <th>Riya</th>\n",
       "      <th>Mallika</th>\n",
       "      <th>Preeti</th>\n",
       "    </tr>\n",
       "  </thead>\n",
       "  <tbody>\n",
       "    <tr>\n",
       "      <th>Maths</th>\n",
       "      <td>90</td>\n",
       "      <td>92</td>\n",
       "      <td>89</td>\n",
       "      <td>81</td>\n",
       "      <td>94</td>\n",
       "      <td>89</td>\n",
       "    </tr>\n",
       "    <tr>\n",
       "      <th>Science</th>\n",
       "      <td>91</td>\n",
       "      <td>81</td>\n",
       "      <td>91</td>\n",
       "      <td>71</td>\n",
       "      <td>95</td>\n",
       "      <td>78</td>\n",
       "    </tr>\n",
       "    <tr>\n",
       "      <th>Hindi</th>\n",
       "      <td>97</td>\n",
       "      <td>96</td>\n",
       "      <td>88</td>\n",
       "      <td>67</td>\n",
       "      <td>99</td>\n",
       "      <td>76</td>\n",
       "    </tr>\n",
       "    <tr>\n",
       "      <th>English</th>\n",
       "      <td>85</td>\n",
       "      <td>86</td>\n",
       "      <td>83</td>\n",
       "      <td>80</td>\n",
       "      <td>90</td>\n",
       "      <td>89</td>\n",
       "    </tr>\n",
       "  </tbody>\n",
       "</table>\n",
       "</div>"
      ],
      "text/plain": [
       "         Arnab  Ramit  Samridhi  Riya  Mallika  Preeti\n",
       "Maths       90     92        89    81       94      89\n",
       "Science     91     81        91    71       95      78\n",
       "Hindi       97     96        88    67       99      76\n",
       "English     85     86        83    80       90      89"
      ]
     },
     "execution_count": 110,
     "metadata": {},
     "output_type": "execute_result"
    }
   ],
   "source": [
    "# Adding a New Row to a DataFrame \n",
    "ResultDF.loc['English'] = [85, 86, 83, 80, 90, 89]\n",
    "ResultDF"
   ]
  },
  {
   "cell_type": "code",
   "execution_count": null,
   "id": "b0602cae",
   "metadata": {},
   "outputs": [],
   "source": []
  },
  {
   "cell_type": "code",
   "execution_count": 111,
   "id": "23e4dcd2",
   "metadata": {},
   "outputs": [
    {
     "data": {
      "text/html": [
       "<div>\n",
       "<style scoped>\n",
       "    .dataframe tbody tr th:only-of-type {\n",
       "        vertical-align: middle;\n",
       "    }\n",
       "\n",
       "    .dataframe tbody tr th {\n",
       "        vertical-align: top;\n",
       "    }\n",
       "\n",
       "    .dataframe thead th {\n",
       "        text-align: right;\n",
       "    }\n",
       "</style>\n",
       "<table border=\"1\" class=\"dataframe\">\n",
       "  <thead>\n",
       "    <tr style=\"text-align: right;\">\n",
       "      <th></th>\n",
       "      <th>Arnab</th>\n",
       "      <th>Ramit</th>\n",
       "      <th>Samridhi</th>\n",
       "      <th>Riya</th>\n",
       "      <th>Mallika</th>\n",
       "      <th>Preeti</th>\n",
       "    </tr>\n",
       "  </thead>\n",
       "  <tbody>\n",
       "    <tr>\n",
       "      <th>Maths</th>\n",
       "      <td>90</td>\n",
       "      <td>92</td>\n",
       "      <td>89</td>\n",
       "      <td>81</td>\n",
       "      <td>94</td>\n",
       "      <td>89</td>\n",
       "    </tr>\n",
       "    <tr>\n",
       "      <th>Science</th>\n",
       "      <td>91</td>\n",
       "      <td>81</td>\n",
       "      <td>91</td>\n",
       "      <td>71</td>\n",
       "      <td>95</td>\n",
       "      <td>78</td>\n",
       "    </tr>\n",
       "    <tr>\n",
       "      <th>Hindi</th>\n",
       "      <td>97</td>\n",
       "      <td>96</td>\n",
       "      <td>88</td>\n",
       "      <td>67</td>\n",
       "      <td>99</td>\n",
       "      <td>76</td>\n",
       "    </tr>\n",
       "    <tr>\n",
       "      <th>English</th>\n",
       "      <td>95</td>\n",
       "      <td>86</td>\n",
       "      <td>95</td>\n",
       "      <td>80</td>\n",
       "      <td>95</td>\n",
       "      <td>99</td>\n",
       "    </tr>\n",
       "  </tbody>\n",
       "</table>\n",
       "</div>"
      ],
      "text/plain": [
       "         Arnab  Ramit  Samridhi  Riya  Mallika  Preeti\n",
       "Maths       90     92        89    81       94      89\n",
       "Science     91     81        91    71       95      78\n",
       "Hindi       97     96        88    67       99      76\n",
       "English     95     86        95    80       95      99"
      ]
     },
     "execution_count": 111,
     "metadata": {},
     "output_type": "execute_result"
    }
   ],
   "source": [
    "## update\n",
    "ResultDF.loc['English'] = [95, 86, 95, 80, 95,99]\n",
    "ResultDF"
   ]
  },
  {
   "cell_type": "code",
   "execution_count": 115,
   "id": "fb278a8f",
   "metadata": {},
   "outputs": [
    {
     "data": {
      "text/html": [
       "<div>\n",
       "<style scoped>\n",
       "    .dataframe tbody tr th:only-of-type {\n",
       "        vertical-align: middle;\n",
       "    }\n",
       "\n",
       "    .dataframe tbody tr th {\n",
       "        vertical-align: top;\n",
       "    }\n",
       "\n",
       "    .dataframe thead th {\n",
       "        text-align: right;\n",
       "    }\n",
       "</style>\n",
       "<table border=\"1\" class=\"dataframe\">\n",
       "  <thead>\n",
       "    <tr style=\"text-align: right;\">\n",
       "      <th></th>\n",
       "      <th>Arnab</th>\n",
       "      <th>Ramit</th>\n",
       "      <th>Samridhi</th>\n",
       "      <th>Riya</th>\n",
       "      <th>Mallika</th>\n",
       "    </tr>\n",
       "  </thead>\n",
       "  <tbody>\n",
       "    <tr>\n",
       "      <th>Maths</th>\n",
       "      <td>90</td>\n",
       "      <td>92</td>\n",
       "      <td>89</td>\n",
       "      <td>81</td>\n",
       "      <td>94</td>\n",
       "    </tr>\n",
       "    <tr>\n",
       "      <th>Science</th>\n",
       "      <td>91</td>\n",
       "      <td>81</td>\n",
       "      <td>91</td>\n",
       "      <td>71</td>\n",
       "      <td>95</td>\n",
       "    </tr>\n",
       "    <tr>\n",
       "      <th>Hindi</th>\n",
       "      <td>97</td>\n",
       "      <td>96</td>\n",
       "      <td>88</td>\n",
       "      <td>67</td>\n",
       "      <td>99</td>\n",
       "    </tr>\n",
       "    <tr>\n",
       "      <th>English</th>\n",
       "      <td>99</td>\n",
       "      <td>99</td>\n",
       "      <td>99</td>\n",
       "      <td>99</td>\n",
       "      <td>99</td>\n",
       "    </tr>\n",
       "  </tbody>\n",
       "</table>\n",
       "</div>"
      ],
      "text/plain": [
       "         Arnab  Ramit  Samridhi  Riya  Mallika\n",
       "Maths       90     92        89    81       94\n",
       "Science     91     81        91    71       95\n",
       "Hindi       97     96        88    67       99\n",
       "English     99     99        99    99       99"
      ]
     },
     "execution_count": 115,
     "metadata": {},
     "output_type": "execute_result"
    }
   ],
   "source": [
    "## set value\n",
    "ResultDF.loc['English'] = 99\n",
    "ResultDF"
   ]
  },
  {
   "cell_type": "code",
   "execution_count": null,
   "id": "45b1363f",
   "metadata": {},
   "outputs": [],
   "source": []
  },
  {
   "cell_type": "code",
   "execution_count": 113,
   "id": "bdc1bebb",
   "metadata": {},
   "outputs": [
    {
     "name": "stdout",
     "output_type": "stream",
     "text": [
      "         Arnab  Ramit  Samridhi  Riya  Mallika  Preeti\n",
      "Maths        0      0         0     0        0       0\n",
      "Science      0      0         0     0        0       0\n",
      "Hindi        0      0         0     0        0       0\n",
      "English      0      0         0     0        0       0\n"
     ]
    }
   ],
   "source": [
    "## set all value\n",
    "ResultDF[:] = 0\n",
    "print(ResultDF)"
   ]
  },
  {
   "cell_type": "code",
   "execution_count": null,
   "id": "23d6d70b",
   "metadata": {},
   "outputs": [],
   "source": []
  },
  {
   "cell_type": "code",
   "execution_count": 116,
   "id": "9f057768",
   "metadata": {},
   "outputs": [
    {
     "data": {
      "text/html": [
       "<div>\n",
       "<style scoped>\n",
       "    .dataframe tbody tr th:only-of-type {\n",
       "        vertical-align: middle;\n",
       "    }\n",
       "\n",
       "    .dataframe tbody tr th {\n",
       "        vertical-align: top;\n",
       "    }\n",
       "\n",
       "    .dataframe thead th {\n",
       "        text-align: right;\n",
       "    }\n",
       "</style>\n",
       "<table border=\"1\" class=\"dataframe\">\n",
       "  <thead>\n",
       "    <tr style=\"text-align: right;\">\n",
       "      <th></th>\n",
       "      <th>Arnab</th>\n",
       "      <th>Ramit</th>\n",
       "      <th>Samridhi</th>\n",
       "      <th>Riya</th>\n",
       "      <th>Mallika</th>\n",
       "    </tr>\n",
       "  </thead>\n",
       "  <tbody>\n",
       "    <tr>\n",
       "      <th>Maths</th>\n",
       "      <td>90</td>\n",
       "      <td>92</td>\n",
       "      <td>89</td>\n",
       "      <td>81</td>\n",
       "      <td>94</td>\n",
       "    </tr>\n",
       "    <tr>\n",
       "      <th>Science</th>\n",
       "      <td>91</td>\n",
       "      <td>81</td>\n",
       "      <td>91</td>\n",
       "      <td>71</td>\n",
       "      <td>95</td>\n",
       "    </tr>\n",
       "    <tr>\n",
       "      <th>Hindi</th>\n",
       "      <td>97</td>\n",
       "      <td>96</td>\n",
       "      <td>88</td>\n",
       "      <td>67</td>\n",
       "      <td>99</td>\n",
       "    </tr>\n",
       "  </tbody>\n",
       "</table>\n",
       "</div>"
      ],
      "text/plain": [
       "         Arnab  Ramit  Samridhi  Riya  Mallika\n",
       "Maths       90     92        89    81       94\n",
       "Science     91     81        91    71       95\n",
       "Hindi       97     96        88    67       99"
      ]
     },
     "execution_count": 116,
     "metadata": {},
     "output_type": "execute_result"
    }
   ],
   "source": [
    "ResultSheet={\n",
    "            'Arnab': pd.Series([90, 91, 97],\n",
    "             index=['Maths','Science','Hindi']),\n",
    "    \n",
    "            'Ramit': pd.Series([92, 81, 96],\n",
    "             index=['Maths','Science','Hindi']),\n",
    "    \n",
    "            'Samridhi': pd.Series([89, 91, 88],\n",
    "             index=['Maths','Science','Hindi']),\n",
    "    \n",
    "            'Riya': pd.Series([81, 71, 67],\n",
    "             index=['Maths','Science','Hindi']),\n",
    "    \n",
    "            'Mallika': pd.Series([94, 95, 99],\n",
    "             index=['Maths','Science','Hindi'])\n",
    "}\n",
    "ResultDF = pd.DataFrame(ResultSheet)\n",
    "ResultDF"
   ]
  },
  {
   "cell_type": "code",
   "execution_count": 117,
   "id": "f06d5f46",
   "metadata": {},
   "outputs": [
    {
     "data": {
      "text/html": [
       "<div>\n",
       "<style scoped>\n",
       "    .dataframe tbody tr th:only-of-type {\n",
       "        vertical-align: middle;\n",
       "    }\n",
       "\n",
       "    .dataframe tbody tr th {\n",
       "        vertical-align: top;\n",
       "    }\n",
       "\n",
       "    .dataframe thead th {\n",
       "        text-align: right;\n",
       "    }\n",
       "</style>\n",
       "<table border=\"1\" class=\"dataframe\">\n",
       "  <thead>\n",
       "    <tr style=\"text-align: right;\">\n",
       "      <th></th>\n",
       "      <th>Arnab</th>\n",
       "      <th>Ramit</th>\n",
       "      <th>Samridhi</th>\n",
       "      <th>Riya</th>\n",
       "      <th>Mallika</th>\n",
       "    </tr>\n",
       "  </thead>\n",
       "  <tbody>\n",
       "    <tr>\n",
       "      <th>Maths</th>\n",
       "      <td>90</td>\n",
       "      <td>92</td>\n",
       "      <td>89</td>\n",
       "      <td>81</td>\n",
       "      <td>94</td>\n",
       "    </tr>\n",
       "    <tr>\n",
       "      <th>Hindi</th>\n",
       "      <td>97</td>\n",
       "      <td>96</td>\n",
       "      <td>88</td>\n",
       "      <td>67</td>\n",
       "      <td>99</td>\n",
       "    </tr>\n",
       "  </tbody>\n",
       "</table>\n",
       "</div>"
      ],
      "text/plain": [
       "       Arnab  Ramit  Samridhi  Riya  Mallika\n",
       "Maths     90     92        89    81       94\n",
       "Hindi     97     96        88    67       99"
      ]
     },
     "execution_count": 117,
     "metadata": {},
     "output_type": "execute_result"
    }
   ],
   "source": [
    "# Deleting Rows or Columns from a DataFrame, \n",
    "## row ->> axis = 0\n",
    "ResultDF = ResultDF.drop('Science', axis=0)\n",
    "ResultDF"
   ]
  },
  {
   "cell_type": "code",
   "execution_count": null,
   "id": "ed72d9f3",
   "metadata": {},
   "outputs": [],
   "source": []
  },
  {
   "cell_type": "code",
   "execution_count": 118,
   "id": "29e6778a",
   "metadata": {},
   "outputs": [
    {
     "data": {
      "text/html": [
       "<div>\n",
       "<style scoped>\n",
       "    .dataframe tbody tr th:only-of-type {\n",
       "        vertical-align: middle;\n",
       "    }\n",
       "\n",
       "    .dataframe tbody tr th {\n",
       "        vertical-align: top;\n",
       "    }\n",
       "\n",
       "    .dataframe thead th {\n",
       "        text-align: right;\n",
       "    }\n",
       "</style>\n",
       "<table border=\"1\" class=\"dataframe\">\n",
       "  <thead>\n",
       "    <tr style=\"text-align: right;\">\n",
       "      <th></th>\n",
       "      <th>Arnab</th>\n",
       "      <th>Mallika</th>\n",
       "    </tr>\n",
       "  </thead>\n",
       "  <tbody>\n",
       "    <tr>\n",
       "      <th>Maths</th>\n",
       "      <td>90</td>\n",
       "      <td>94</td>\n",
       "    </tr>\n",
       "    <tr>\n",
       "      <th>Hindi</th>\n",
       "      <td>97</td>\n",
       "      <td>99</td>\n",
       "    </tr>\n",
       "  </tbody>\n",
       "</table>\n",
       "</div>"
      ],
      "text/plain": [
       "       Arnab  Mallika\n",
       "Maths     90       94\n",
       "Hindi     97       99"
      ]
     },
     "execution_count": 118,
     "metadata": {},
     "output_type": "execute_result"
    }
   ],
   "source": [
    "## column -->> axis = 1\n",
    "ResultDF = ResultDF.drop(['Samridhi','Ramit','Riya'], axis=1)\n",
    "ResultDF"
   ]
  },
  {
   "cell_type": "code",
   "execution_count": null,
   "id": "d033eaee",
   "metadata": {},
   "outputs": [],
   "source": []
  },
  {
   "cell_type": "code",
   "execution_count": 121,
   "id": "24f2eaa1",
   "metadata": {},
   "outputs": [
    {
     "data": {
      "text/html": [
       "<div>\n",
       "<style scoped>\n",
       "    .dataframe tbody tr th:only-of-type {\n",
       "        vertical-align: middle;\n",
       "    }\n",
       "\n",
       "    .dataframe tbody tr th {\n",
       "        vertical-align: top;\n",
       "    }\n",
       "\n",
       "    .dataframe thead th {\n",
       "        text-align: right;\n",
       "    }\n",
       "</style>\n",
       "<table border=\"1\" class=\"dataframe\">\n",
       "  <thead>\n",
       "    <tr style=\"text-align: right;\">\n",
       "      <th></th>\n",
       "      <th>Arnab</th>\n",
       "      <th>Ramit</th>\n",
       "      <th>Samridhi</th>\n",
       "      <th>Riya</th>\n",
       "      <th>Mallika</th>\n",
       "    </tr>\n",
       "  </thead>\n",
       "  <tbody>\n",
       "    <tr>\n",
       "      <th>Maths</th>\n",
       "      <td>90</td>\n",
       "      <td>92</td>\n",
       "      <td>89</td>\n",
       "      <td>81</td>\n",
       "      <td>94</td>\n",
       "    </tr>\n",
       "    <tr>\n",
       "      <th>Science</th>\n",
       "      <td>91</td>\n",
       "      <td>81</td>\n",
       "      <td>91</td>\n",
       "      <td>71</td>\n",
       "      <td>95</td>\n",
       "    </tr>\n",
       "    <tr>\n",
       "      <th>Hindi</th>\n",
       "      <td>97</td>\n",
       "      <td>96</td>\n",
       "      <td>88</td>\n",
       "      <td>67</td>\n",
       "      <td>99</td>\n",
       "    </tr>\n",
       "  </tbody>\n",
       "</table>\n",
       "</div>"
      ],
      "text/plain": [
       "         Arnab  Ramit  Samridhi  Riya  Mallika\n",
       "Maths       90     92        89    81       94\n",
       "Science     91     81        91    71       95\n",
       "Hindi       97     96        88    67       99"
      ]
     },
     "execution_count": 121,
     "metadata": {},
     "output_type": "execute_result"
    }
   ],
   "source": [
    "ResultSheet={\n",
    "            'Arnab': pd.Series([90, 91, 97],\n",
    "             index=['Maths','Science','Hindi']),\n",
    "    \n",
    "            'Ramit': pd.Series([92, 81, 96],\n",
    "             index=['Maths','Science','Hindi']),\n",
    "    \n",
    "            'Samridhi': pd.Series([89, 91, 88],\n",
    "             index=['Maths','Science','Hindi']),\n",
    "    \n",
    "            'Riya': pd.Series([81, 71, 67],\n",
    "             index=['Maths','Science','Hindi']),\n",
    "    \n",
    "            'Mallika': pd.Series([94, 95, 99],\n",
    "             index=['Maths','Science','Hindi'])\n",
    "}\n",
    "ResultDF = pd.DataFrame(ResultSheet)\n",
    "ResultDF"
   ]
  },
  {
   "cell_type": "code",
   "execution_count": 122,
   "id": "a812c425",
   "metadata": {},
   "outputs": [
    {
     "data": {
      "text/html": [
       "<div>\n",
       "<style scoped>\n",
       "    .dataframe tbody tr th:only-of-type {\n",
       "        vertical-align: middle;\n",
       "    }\n",
       "\n",
       "    .dataframe tbody tr th {\n",
       "        vertical-align: top;\n",
       "    }\n",
       "\n",
       "    .dataframe thead th {\n",
       "        text-align: right;\n",
       "    }\n",
       "</style>\n",
       "<table border=\"1\" class=\"dataframe\">\n",
       "  <thead>\n",
       "    <tr style=\"text-align: right;\">\n",
       "      <th></th>\n",
       "      <th>Arnab</th>\n",
       "      <th>Ramit</th>\n",
       "      <th>Samridhi</th>\n",
       "      <th>Riya</th>\n",
       "      <th>Mallika</th>\n",
       "    </tr>\n",
       "  </thead>\n",
       "  <tbody>\n",
       "    <tr>\n",
       "      <th>Sub1</th>\n",
       "      <td>90</td>\n",
       "      <td>92</td>\n",
       "      <td>89</td>\n",
       "      <td>81</td>\n",
       "      <td>94</td>\n",
       "    </tr>\n",
       "    <tr>\n",
       "      <th>Sub2</th>\n",
       "      <td>91</td>\n",
       "      <td>81</td>\n",
       "      <td>91</td>\n",
       "      <td>71</td>\n",
       "      <td>95</td>\n",
       "    </tr>\n",
       "    <tr>\n",
       "      <th>Hindi</th>\n",
       "      <td>97</td>\n",
       "      <td>96</td>\n",
       "      <td>88</td>\n",
       "      <td>67</td>\n",
       "      <td>99</td>\n",
       "    </tr>\n",
       "  </tbody>\n",
       "</table>\n",
       "</div>"
      ],
      "text/plain": [
       "       Arnab  Ramit  Samridhi  Riya  Mallika\n",
       "Sub1      90     92        89    81       94\n",
       "Sub2      91     81        91    71       95\n",
       "Hindi     97     96        88    67       99"
      ]
     },
     "execution_count": 122,
     "metadata": {},
     "output_type": "execute_result"
    }
   ],
   "source": [
    "# Renaming Row Labels of a DataFrame\n",
    "ResultDF=ResultDF.rename({'Maths':'Sub1', 'Science':'Sub2','English':'Sub3'}, axis='index')\n",
    "ResultDF"
   ]
  },
  {
   "cell_type": "code",
   "execution_count": null,
   "id": "2d2f41c3",
   "metadata": {},
   "outputs": [],
   "source": []
  },
  {
   "cell_type": "code",
   "execution_count": 123,
   "id": "516f96b9",
   "metadata": {},
   "outputs": [
    {
     "data": {
      "text/html": [
       "<div>\n",
       "<style scoped>\n",
       "    .dataframe tbody tr th:only-of-type {\n",
       "        vertical-align: middle;\n",
       "    }\n",
       "\n",
       "    .dataframe tbody tr th {\n",
       "        vertical-align: top;\n",
       "    }\n",
       "\n",
       "    .dataframe thead th {\n",
       "        text-align: right;\n",
       "    }\n",
       "</style>\n",
       "<table border=\"1\" class=\"dataframe\">\n",
       "  <thead>\n",
       "    <tr style=\"text-align: right;\">\n",
       "      <th></th>\n",
       "      <th>Arnab</th>\n",
       "      <th>Ramit</th>\n",
       "      <th>Samridhi</th>\n",
       "      <th>Riya</th>\n",
       "      <th>Mallika</th>\n",
       "    </tr>\n",
       "  </thead>\n",
       "  <tbody>\n",
       "    <tr>\n",
       "      <th>Sub1</th>\n",
       "      <td>90</td>\n",
       "      <td>92</td>\n",
       "      <td>89</td>\n",
       "      <td>81</td>\n",
       "      <td>94</td>\n",
       "    </tr>\n",
       "    <tr>\n",
       "      <th>Sub2</th>\n",
       "      <td>91</td>\n",
       "      <td>81</td>\n",
       "      <td>91</td>\n",
       "      <td>71</td>\n",
       "      <td>95</td>\n",
       "    </tr>\n",
       "    <tr>\n",
       "      <th>Sub4</th>\n",
       "      <td>97</td>\n",
       "      <td>96</td>\n",
       "      <td>88</td>\n",
       "      <td>67</td>\n",
       "      <td>99</td>\n",
       "    </tr>\n",
       "  </tbody>\n",
       "</table>\n",
       "</div>"
      ],
      "text/plain": [
       "      Arnab  Ramit  Samridhi  Riya  Mallika\n",
       "Sub1     90     92        89    81       94\n",
       "Sub2     91     81        91    71       95\n",
       "Sub4     97     96        88    67       99"
      ]
     },
     "execution_count": 123,
     "metadata": {},
     "output_type": "execute_result"
    }
   ],
   "source": [
    "## if not specified, left as it is\n",
    "ResultDF=ResultDF.rename({'Maths':'Sub1','Science':'Sub2','Hindi':'Sub4'}, axis='index')\n",
    "ResultDF"
   ]
  },
  {
   "cell_type": "code",
   "execution_count": null,
   "id": "661d6506",
   "metadata": {},
   "outputs": [],
   "source": []
  },
  {
   "cell_type": "code",
   "execution_count": 124,
   "id": "14d03ecc",
   "metadata": {},
   "outputs": [
    {
     "data": {
      "text/html": [
       "<div>\n",
       "<style scoped>\n",
       "    .dataframe tbody tr th:only-of-type {\n",
       "        vertical-align: middle;\n",
       "    }\n",
       "\n",
       "    .dataframe tbody tr th {\n",
       "        vertical-align: top;\n",
       "    }\n",
       "\n",
       "    .dataframe thead th {\n",
       "        text-align: right;\n",
       "    }\n",
       "</style>\n",
       "<table border=\"1\" class=\"dataframe\">\n",
       "  <thead>\n",
       "    <tr style=\"text-align: right;\">\n",
       "      <th></th>\n",
       "      <th>Student1</th>\n",
       "      <th>Student2</th>\n",
       "      <th>Samridhi</th>\n",
       "      <th>Riya</th>\n",
       "      <th>Student4</th>\n",
       "    </tr>\n",
       "  </thead>\n",
       "  <tbody>\n",
       "    <tr>\n",
       "      <th>Sub1</th>\n",
       "      <td>90</td>\n",
       "      <td>92</td>\n",
       "      <td>89</td>\n",
       "      <td>81</td>\n",
       "      <td>94</td>\n",
       "    </tr>\n",
       "    <tr>\n",
       "      <th>Sub2</th>\n",
       "      <td>91</td>\n",
       "      <td>81</td>\n",
       "      <td>91</td>\n",
       "      <td>71</td>\n",
       "      <td>95</td>\n",
       "    </tr>\n",
       "    <tr>\n",
       "      <th>Sub4</th>\n",
       "      <td>97</td>\n",
       "      <td>96</td>\n",
       "      <td>88</td>\n",
       "      <td>67</td>\n",
       "      <td>99</td>\n",
       "    </tr>\n",
       "  </tbody>\n",
       "</table>\n",
       "</div>"
      ],
      "text/plain": [
       "      Student1  Student2  Samridhi  Riya  Student4\n",
       "Sub1        90        92        89    81        94\n",
       "Sub2        91        81        91    71        95\n",
       "Sub4        97        96        88    67        99"
      ]
     },
     "execution_count": 124,
     "metadata": {},
     "output_type": "execute_result"
    }
   ],
   "source": [
    "#  Renaming Column Labels of a DataFrame : \n",
    "ResultDF=ResultDF.rename({'Arnab':'Student1','Ramit':'Student2',' Samridhi':'Student3','Mallika':'Student4'},axis='columns')\n",
    "ResultDF"
   ]
  },
  {
   "cell_type": "code",
   "execution_count": null,
   "id": "d7ba521f",
   "metadata": {},
   "outputs": [],
   "source": []
  },
  {
   "cell_type": "markdown",
   "id": "5a7e56a5",
   "metadata": {},
   "source": [
    "### Accessing DataFrames Element through Indexing :"
   ]
  },
  {
   "cell_type": "code",
   "execution_count": 125,
   "id": "88c5468b",
   "metadata": {},
   "outputs": [
    {
     "data": {
      "text/html": [
       "<div>\n",
       "<style scoped>\n",
       "    .dataframe tbody tr th:only-of-type {\n",
       "        vertical-align: middle;\n",
       "    }\n",
       "\n",
       "    .dataframe tbody tr th {\n",
       "        vertical-align: top;\n",
       "    }\n",
       "\n",
       "    .dataframe thead th {\n",
       "        text-align: right;\n",
       "    }\n",
       "</style>\n",
       "<table border=\"1\" class=\"dataframe\">\n",
       "  <thead>\n",
       "    <tr style=\"text-align: right;\">\n",
       "      <th></th>\n",
       "      <th>Arnab</th>\n",
       "      <th>Ramit</th>\n",
       "      <th>Samridhi</th>\n",
       "      <th>Riya</th>\n",
       "      <th>Mallika</th>\n",
       "    </tr>\n",
       "  </thead>\n",
       "  <tbody>\n",
       "    <tr>\n",
       "      <th>Maths</th>\n",
       "      <td>90</td>\n",
       "      <td>92</td>\n",
       "      <td>89</td>\n",
       "      <td>81</td>\n",
       "      <td>94</td>\n",
       "    </tr>\n",
       "    <tr>\n",
       "      <th>Science</th>\n",
       "      <td>91</td>\n",
       "      <td>81</td>\n",
       "      <td>91</td>\n",
       "      <td>71</td>\n",
       "      <td>95</td>\n",
       "    </tr>\n",
       "    <tr>\n",
       "      <th>Hindi</th>\n",
       "      <td>97</td>\n",
       "      <td>96</td>\n",
       "      <td>88</td>\n",
       "      <td>67</td>\n",
       "      <td>99</td>\n",
       "    </tr>\n",
       "  </tbody>\n",
       "</table>\n",
       "</div>"
      ],
      "text/plain": [
       "         Arnab  Ramit  Samridhi  Riya  Mallika\n",
       "Maths       90     92        89    81       94\n",
       "Science     91     81        91    71       95\n",
       "Hindi       97     96        88    67       99"
      ]
     },
     "execution_count": 125,
     "metadata": {},
     "output_type": "execute_result"
    }
   ],
   "source": [
    "ResultSheet={\n",
    "            'Arnab': pd.Series([90, 91, 97],\n",
    "             index=['Maths','Science','Hindi']),\n",
    "    \n",
    "            'Ramit': pd.Series([92, 81, 96],\n",
    "             index=['Maths','Science','Hindi']),\n",
    "    \n",
    "            'Samridhi': pd.Series([89, 91, 88],\n",
    "             index=['Maths','Science','Hindi']),\n",
    "    \n",
    "            'Riya': pd.Series([81, 71, 67],\n",
    "             index=['Maths','Science','Hindi']),\n",
    "    \n",
    "            'Mallika': pd.Series([94, 95, 99],\n",
    "             index=['Maths','Science','Hindi'])\n",
    "}\n",
    "ResultDF = pd.DataFrame(ResultSheet)\n",
    "ResultDF"
   ]
  },
  {
   "cell_type": "code",
   "execution_count": 129,
   "id": "5f123c4b",
   "metadata": {},
   "outputs": [
    {
     "data": {
      "text/plain": [
       "Arnab       91\n",
       "Ramit       81\n",
       "Samridhi    91\n",
       "Riya        71\n",
       "Mallika     95\n",
       "Name: Science, dtype: int64"
      ]
     },
     "execution_count": 129,
     "metadata": {},
     "output_type": "execute_result"
    }
   ],
   "source": [
    "# Label Based Indexing : \n",
    "ResultDF.loc['Science']\n",
    "# print(type(ResultDF.loc['Science']))"
   ]
  },
  {
   "cell_type": "code",
   "execution_count": 130,
   "id": "80f82d91",
   "metadata": {},
   "outputs": [
    {
     "data": {
      "text/plain": [
       "Maths      90\n",
       "Science    91\n",
       "Hindi      97\n",
       "Name: Arnab, dtype: int64"
      ]
     },
     "execution_count": 130,
     "metadata": {},
     "output_type": "execute_result"
    }
   ],
   "source": [
    "# column as a Series\n",
    "ResultDF.loc[:,'Arnab']"
   ]
  },
  {
   "cell_type": "code",
   "execution_count": 131,
   "id": "66839591",
   "metadata": {},
   "outputs": [
    {
     "name": "stdout",
     "output_type": "stream",
     "text": [
      "<class 'pandas.core.series.Series'>\n"
     ]
    }
   ],
   "source": [
    "print(type(ResultDF.loc[:,'Arnab']))"
   ]
  },
  {
   "cell_type": "code",
   "execution_count": 132,
   "id": "a66eb1ae",
   "metadata": {},
   "outputs": [
    {
     "data": {
      "text/html": [
       "<div>\n",
       "<style scoped>\n",
       "    .dataframe tbody tr th:only-of-type {\n",
       "        vertical-align: middle;\n",
       "    }\n",
       "\n",
       "    .dataframe tbody tr th {\n",
       "        vertical-align: top;\n",
       "    }\n",
       "\n",
       "    .dataframe thead th {\n",
       "        text-align: right;\n",
       "    }\n",
       "</style>\n",
       "<table border=\"1\" class=\"dataframe\">\n",
       "  <thead>\n",
       "    <tr style=\"text-align: right;\">\n",
       "      <th></th>\n",
       "      <th>Arnab</th>\n",
       "      <th>Ramit</th>\n",
       "      <th>Samridhi</th>\n",
       "      <th>Riya</th>\n",
       "      <th>Mallika</th>\n",
       "    </tr>\n",
       "  </thead>\n",
       "  <tbody>\n",
       "    <tr>\n",
       "      <th>Science</th>\n",
       "      <td>91</td>\n",
       "      <td>81</td>\n",
       "      <td>91</td>\n",
       "      <td>71</td>\n",
       "      <td>95</td>\n",
       "    </tr>\n",
       "    <tr>\n",
       "      <th>Hindi</th>\n",
       "      <td>97</td>\n",
       "      <td>96</td>\n",
       "      <td>88</td>\n",
       "      <td>67</td>\n",
       "      <td>99</td>\n",
       "    </tr>\n",
       "  </tbody>\n",
       "</table>\n",
       "</div>"
      ],
      "text/plain": [
       "         Arnab  Ramit  Samridhi  Riya  Mallika\n",
       "Science     91     81        91    71       95\n",
       "Hindi       97     96        88    67       99"
      ]
     },
     "execution_count": 132,
     "metadata": {},
     "output_type": "execute_result"
    }
   ],
   "source": [
    "ResultDF.loc[['Science', 'Hindi']]"
   ]
  },
  {
   "cell_type": "code",
   "execution_count": 133,
   "id": "c2829e98",
   "metadata": {},
   "outputs": [
    {
     "data": {
      "text/html": [
       "<div>\n",
       "<style scoped>\n",
       "    .dataframe tbody tr th:only-of-type {\n",
       "        vertical-align: middle;\n",
       "    }\n",
       "\n",
       "    .dataframe tbody tr th {\n",
       "        vertical-align: top;\n",
       "    }\n",
       "\n",
       "    .dataframe thead th {\n",
       "        text-align: right;\n",
       "    }\n",
       "</style>\n",
       "<table border=\"1\" class=\"dataframe\">\n",
       "  <thead>\n",
       "    <tr style=\"text-align: right;\">\n",
       "      <th></th>\n",
       "      <th>Arnab</th>\n",
       "      <th>Ramit</th>\n",
       "      <th>Samridhi</th>\n",
       "    </tr>\n",
       "  </thead>\n",
       "  <tbody>\n",
       "    <tr>\n",
       "      <th>Maths</th>\n",
       "      <td>90</td>\n",
       "      <td>92</td>\n",
       "      <td>89</td>\n",
       "    </tr>\n",
       "    <tr>\n",
       "      <th>Science</th>\n",
       "      <td>91</td>\n",
       "      <td>81</td>\n",
       "      <td>91</td>\n",
       "    </tr>\n",
       "    <tr>\n",
       "      <th>Hindi</th>\n",
       "      <td>97</td>\n",
       "      <td>96</td>\n",
       "      <td>88</td>\n",
       "    </tr>\n",
       "  </tbody>\n",
       "</table>\n",
       "</div>"
      ],
      "text/plain": [
       "         Arnab  Ramit  Samridhi\n",
       "Maths       90     92        89\n",
       "Science     91     81        91\n",
       "Hindi       97     96        88"
      ]
     },
     "execution_count": 133,
     "metadata": {},
     "output_type": "execute_result"
    }
   ],
   "source": [
    "## column\n",
    "ResultDF[['Arnab','Ramit', 'Samridhi']]"
   ]
  },
  {
   "cell_type": "code",
   "execution_count": null,
   "id": "6e36015c",
   "metadata": {},
   "outputs": [],
   "source": []
  },
  {
   "cell_type": "code",
   "execution_count": 134,
   "id": "79b81285",
   "metadata": {},
   "outputs": [
    {
     "data": {
      "text/plain": [
       "Arnab       False\n",
       "Ramit        True\n",
       "Samridhi    False\n",
       "Riya        False\n",
       "Mallika      True\n",
       "Name: Maths, dtype: bool"
      ]
     },
     "execution_count": 134,
     "metadata": {},
     "output_type": "execute_result"
    }
   ],
   "source": [
    "## Boolean Indexing\n",
    "ResultDF.loc['Maths'] > 90"
   ]
  },
  {
   "cell_type": "code",
   "execution_count": null,
   "id": "8533657f",
   "metadata": {},
   "outputs": [],
   "source": []
  },
  {
   "cell_type": "markdown",
   "id": "256dd08f",
   "metadata": {},
   "source": [
    "### Accessing DataFrames Element through Slicing"
   ]
  },
  {
   "cell_type": "code",
   "execution_count": 136,
   "id": "f0beed1d",
   "metadata": {},
   "outputs": [
    {
     "data": {
      "text/html": [
       "<div>\n",
       "<style scoped>\n",
       "    .dataframe tbody tr th:only-of-type {\n",
       "        vertical-align: middle;\n",
       "    }\n",
       "\n",
       "    .dataframe tbody tr th {\n",
       "        vertical-align: top;\n",
       "    }\n",
       "\n",
       "    .dataframe thead th {\n",
       "        text-align: right;\n",
       "    }\n",
       "</style>\n",
       "<table border=\"1\" class=\"dataframe\">\n",
       "  <thead>\n",
       "    <tr style=\"text-align: right;\">\n",
       "      <th></th>\n",
       "      <th>Arnab</th>\n",
       "      <th>Ramit</th>\n",
       "      <th>Samridhi</th>\n",
       "      <th>Riya</th>\n",
       "      <th>Mallika</th>\n",
       "    </tr>\n",
       "  </thead>\n",
       "  <tbody>\n",
       "    <tr>\n",
       "      <th>Maths</th>\n",
       "      <td>90</td>\n",
       "      <td>92</td>\n",
       "      <td>89</td>\n",
       "      <td>81</td>\n",
       "      <td>94</td>\n",
       "    </tr>\n",
       "    <tr>\n",
       "      <th>Science</th>\n",
       "      <td>91</td>\n",
       "      <td>81</td>\n",
       "      <td>91</td>\n",
       "      <td>71</td>\n",
       "      <td>95</td>\n",
       "    </tr>\n",
       "    <tr>\n",
       "      <th>Hindi</th>\n",
       "      <td>97</td>\n",
       "      <td>96</td>\n",
       "      <td>88</td>\n",
       "      <td>67</td>\n",
       "      <td>99</td>\n",
       "    </tr>\n",
       "  </tbody>\n",
       "</table>\n",
       "</div>"
      ],
      "text/plain": [
       "         Arnab  Ramit  Samridhi  Riya  Mallika\n",
       "Maths       90     92        89    81       94\n",
       "Science     91     81        91    71       95\n",
       "Hindi       97     96        88    67       99"
      ]
     },
     "execution_count": 136,
     "metadata": {},
     "output_type": "execute_result"
    }
   ],
   "source": [
    "## slicing\n",
    "ResultDF.loc['Maths': 'Hindi']"
   ]
  },
  {
   "cell_type": "code",
   "execution_count": 137,
   "id": "f2c9bdd5",
   "metadata": {},
   "outputs": [
    {
     "data": {
      "text/plain": [
       "Maths      90\n",
       "Science    91\n",
       "Name: Arnab, dtype: int64"
      ]
     },
     "execution_count": 137,
     "metadata": {},
     "output_type": "execute_result"
    }
   ],
   "source": [
    "## from rows math and science for column \"Arnab\"\n",
    "ResultDF.loc['Maths': 'Science', 'Arnab']"
   ]
  },
  {
   "cell_type": "code",
   "execution_count": 138,
   "id": "600738bc",
   "metadata": {},
   "outputs": [
    {
     "data": {
      "text/html": [
       "<div>\n",
       "<style scoped>\n",
       "    .dataframe tbody tr th:only-of-type {\n",
       "        vertical-align: middle;\n",
       "    }\n",
       "\n",
       "    .dataframe tbody tr th {\n",
       "        vertical-align: top;\n",
       "    }\n",
       "\n",
       "    .dataframe thead th {\n",
       "        text-align: right;\n",
       "    }\n",
       "</style>\n",
       "<table border=\"1\" class=\"dataframe\">\n",
       "  <thead>\n",
       "    <tr style=\"text-align: right;\">\n",
       "      <th></th>\n",
       "      <th>Arnab</th>\n",
       "      <th>Ramit</th>\n",
       "      <th>Samridhi</th>\n",
       "    </tr>\n",
       "  </thead>\n",
       "  <tbody>\n",
       "    <tr>\n",
       "      <th>Maths</th>\n",
       "      <td>90</td>\n",
       "      <td>92</td>\n",
       "      <td>89</td>\n",
       "    </tr>\n",
       "    <tr>\n",
       "      <th>Science</th>\n",
       "      <td>91</td>\n",
       "      <td>81</td>\n",
       "      <td>91</td>\n",
       "    </tr>\n",
       "  </tbody>\n",
       "</table>\n",
       "</div>"
      ],
      "text/plain": [
       "         Arnab  Ramit  Samridhi\n",
       "Maths       90     92        89\n",
       "Science     91     81        91"
      ]
     },
     "execution_count": 138,
     "metadata": {},
     "output_type": "execute_result"
    }
   ],
   "source": [
    " ResultDF.loc['Maths': 'Science', 'Arnab':'Samridhi']"
   ]
  },
  {
   "cell_type": "code",
   "execution_count": 140,
   "id": "8c270a63",
   "metadata": {},
   "outputs": [
    {
     "data": {
      "text/html": [
       "<div>\n",
       "<style scoped>\n",
       "    .dataframe tbody tr th:only-of-type {\n",
       "        vertical-align: middle;\n",
       "    }\n",
       "\n",
       "    .dataframe tbody tr th {\n",
       "        vertical-align: top;\n",
       "    }\n",
       "\n",
       "    .dataframe thead th {\n",
       "        text-align: right;\n",
       "    }\n",
       "</style>\n",
       "<table border=\"1\" class=\"dataframe\">\n",
       "  <thead>\n",
       "    <tr style=\"text-align: right;\">\n",
       "      <th></th>\n",
       "      <th>Arnab</th>\n",
       "      <th>Samridhi</th>\n",
       "      <th>Riya</th>\n",
       "    </tr>\n",
       "  </thead>\n",
       "  <tbody>\n",
       "    <tr>\n",
       "      <th>Maths</th>\n",
       "      <td>90</td>\n",
       "      <td>89</td>\n",
       "      <td>81</td>\n",
       "    </tr>\n",
       "    <tr>\n",
       "      <th>Science</th>\n",
       "      <td>91</td>\n",
       "      <td>91</td>\n",
       "      <td>71</td>\n",
       "    </tr>\n",
       "  </tbody>\n",
       "</table>\n",
       "</div>"
      ],
      "text/plain": [
       "         Arnab  Samridhi  Riya\n",
       "Maths       90        89    81\n",
       "Science     91        91    71"
      ]
     },
     "execution_count": 140,
     "metadata": {},
     "output_type": "execute_result"
    }
   ],
   "source": [
    "ResultDF.loc['Maths': 'Science', ['Arnab','Samridhi', 'Riya']] \n"
   ]
  },
  {
   "cell_type": "code",
   "execution_count": null,
   "id": "4b2e1a34",
   "metadata": {},
   "outputs": [],
   "source": []
  },
  {
   "cell_type": "code",
   "execution_count": null,
   "id": "ec3f8fcf",
   "metadata": {},
   "outputs": [],
   "source": []
  },
  {
   "cell_type": "markdown",
   "id": "a6d0764e",
   "metadata": {},
   "source": [
    "### Filtering Rows in DataFrames : "
   ]
  },
  {
   "cell_type": "code",
   "execution_count": 141,
   "id": "736f28e0",
   "metadata": {},
   "outputs": [
    {
     "data": {
      "text/html": [
       "<div>\n",
       "<style scoped>\n",
       "    .dataframe tbody tr th:only-of-type {\n",
       "        vertical-align: middle;\n",
       "    }\n",
       "\n",
       "    .dataframe tbody tr th {\n",
       "        vertical-align: top;\n",
       "    }\n",
       "\n",
       "    .dataframe thead th {\n",
       "        text-align: right;\n",
       "    }\n",
       "</style>\n",
       "<table border=\"1\" class=\"dataframe\">\n",
       "  <thead>\n",
       "    <tr style=\"text-align: right;\">\n",
       "      <th></th>\n",
       "      <th>Arnab</th>\n",
       "      <th>Ramit</th>\n",
       "      <th>Samridhi</th>\n",
       "      <th>Riya</th>\n",
       "      <th>Mallika</th>\n",
       "    </tr>\n",
       "  </thead>\n",
       "  <tbody>\n",
       "    <tr>\n",
       "      <th>Maths</th>\n",
       "      <td>90</td>\n",
       "      <td>92</td>\n",
       "      <td>89</td>\n",
       "      <td>81</td>\n",
       "      <td>94</td>\n",
       "    </tr>\n",
       "    <tr>\n",
       "      <th>Hindi</th>\n",
       "      <td>97</td>\n",
       "      <td>96</td>\n",
       "      <td>88</td>\n",
       "      <td>67</td>\n",
       "      <td>99</td>\n",
       "    </tr>\n",
       "  </tbody>\n",
       "</table>\n",
       "</div>"
      ],
      "text/plain": [
       "       Arnab  Ramit  Samridhi  Riya  Mallika\n",
       "Maths     90     92        89    81       94\n",
       "Hindi     97     96        88    67       99"
      ]
     },
     "execution_count": 141,
     "metadata": {},
     "output_type": "execute_result"
    }
   ],
   "source": [
    "ResultDF.loc[[True, False, True]]"
   ]
  },
  {
   "cell_type": "code",
   "execution_count": 146,
   "id": "8b74bbb6",
   "metadata": {},
   "outputs": [
    {
     "data": {
      "text/html": [
       "<div>\n",
       "<style scoped>\n",
       "    .dataframe tbody tr th:only-of-type {\n",
       "        vertical-align: middle;\n",
       "    }\n",
       "\n",
       "    .dataframe tbody tr th {\n",
       "        vertical-align: top;\n",
       "    }\n",
       "\n",
       "    .dataframe thead th {\n",
       "        text-align: right;\n",
       "    }\n",
       "</style>\n",
       "<table border=\"1\" class=\"dataframe\">\n",
       "  <thead>\n",
       "    <tr style=\"text-align: right;\">\n",
       "      <th></th>\n",
       "      <th>Arnab</th>\n",
       "      <th>Ramit</th>\n",
       "      <th>Samridhi</th>\n",
       "      <th>Riya</th>\n",
       "      <th>Mallika</th>\n",
       "    </tr>\n",
       "  </thead>\n",
       "  <tbody>\n",
       "    <tr>\n",
       "      <th>Maths</th>\n",
       "      <td>90</td>\n",
       "      <td>92</td>\n",
       "      <td>89</td>\n",
       "      <td>81</td>\n",
       "      <td>94</td>\n",
       "    </tr>\n",
       "  </tbody>\n",
       "</table>\n",
       "</div>"
      ],
      "text/plain": [
       "       Arnab  Ramit  Samridhi  Riya  Mallika\n",
       "Maths     90     92        89    81       94"
      ]
     },
     "execution_count": 146,
     "metadata": {},
     "output_type": "execute_result"
    }
   ],
   "source": [
    "ResultDF[[True, False, False]]"
   ]
  },
  {
   "cell_type": "code",
   "execution_count": null,
   "id": "965060c1",
   "metadata": {},
   "outputs": [],
   "source": []
  },
  {
   "cell_type": "markdown",
   "id": "2aad6bac",
   "metadata": {},
   "source": [
    "### Joining, Merging and Concatenation of DataFrames"
   ]
  },
  {
   "cell_type": "code",
   "execution_count": null,
   "id": "ecf4bb2e",
   "metadata": {},
   "outputs": [],
   "source": [
    "# Joining"
   ]
  },
  {
   "cell_type": "code",
   "execution_count": 150,
   "id": "0377fbf7",
   "metadata": {},
   "outputs": [],
   "source": [
    "dFrame1=pd.DataFrame([[1, 2, 3], [4, 5], [6]], columns=['C1', 'C2', 'C3'], index=['R1', \n",
    "'R2', 'R3'])"
   ]
  },
  {
   "cell_type": "code",
   "execution_count": 151,
   "id": "8e4a4638",
   "metadata": {},
   "outputs": [],
   "source": [
    "dFrame2=pd.DataFrame([[10, 20], [30], [40, 50]], columns=['C2', 'C5'], index=['R4', 'R2', \n",
    "'R5'])"
   ]
  },
  {
   "cell_type": "code",
   "execution_count": 154,
   "id": "51037e19",
   "metadata": {},
   "outputs": [
    {
     "data": {
      "text/html": [
       "<div>\n",
       "<style scoped>\n",
       "    .dataframe tbody tr th:only-of-type {\n",
       "        vertical-align: middle;\n",
       "    }\n",
       "\n",
       "    .dataframe tbody tr th {\n",
       "        vertical-align: top;\n",
       "    }\n",
       "\n",
       "    .dataframe thead th {\n",
       "        text-align: right;\n",
       "    }\n",
       "</style>\n",
       "<table border=\"1\" class=\"dataframe\">\n",
       "  <thead>\n",
       "    <tr style=\"text-align: right;\">\n",
       "      <th></th>\n",
       "      <th>C1</th>\n",
       "      <th>C2</th>\n",
       "      <th>C3</th>\n",
       "    </tr>\n",
       "  </thead>\n",
       "  <tbody>\n",
       "    <tr>\n",
       "      <th>R1</th>\n",
       "      <td>1</td>\n",
       "      <td>2.0</td>\n",
       "      <td>3.0</td>\n",
       "    </tr>\n",
       "    <tr>\n",
       "      <th>R2</th>\n",
       "      <td>4</td>\n",
       "      <td>5.0</td>\n",
       "      <td>NaN</td>\n",
       "    </tr>\n",
       "    <tr>\n",
       "      <th>R3</th>\n",
       "      <td>6</td>\n",
       "      <td>NaN</td>\n",
       "      <td>NaN</td>\n",
       "    </tr>\n",
       "  </tbody>\n",
       "</table>\n",
       "</div>"
      ],
      "text/plain": [
       "    C1   C2   C3\n",
       "R1   1  2.0  3.0\n",
       "R2   4  5.0  NaN\n",
       "R3   6  NaN  NaN"
      ]
     },
     "execution_count": 154,
     "metadata": {},
     "output_type": "execute_result"
    }
   ],
   "source": [
    "dFrame1"
   ]
  },
  {
   "cell_type": "code",
   "execution_count": 155,
   "id": "4f85eb02",
   "metadata": {},
   "outputs": [
    {
     "data": {
      "text/html": [
       "<div>\n",
       "<style scoped>\n",
       "    .dataframe tbody tr th:only-of-type {\n",
       "        vertical-align: middle;\n",
       "    }\n",
       "\n",
       "    .dataframe tbody tr th {\n",
       "        vertical-align: top;\n",
       "    }\n",
       "\n",
       "    .dataframe thead th {\n",
       "        text-align: right;\n",
       "    }\n",
       "</style>\n",
       "<table border=\"1\" class=\"dataframe\">\n",
       "  <thead>\n",
       "    <tr style=\"text-align: right;\">\n",
       "      <th></th>\n",
       "      <th>C2</th>\n",
       "      <th>C5</th>\n",
       "    </tr>\n",
       "  </thead>\n",
       "  <tbody>\n",
       "    <tr>\n",
       "      <th>R4</th>\n",
       "      <td>10</td>\n",
       "      <td>20.0</td>\n",
       "    </tr>\n",
       "    <tr>\n",
       "      <th>R2</th>\n",
       "      <td>30</td>\n",
       "      <td>NaN</td>\n",
       "    </tr>\n",
       "    <tr>\n",
       "      <th>R5</th>\n",
       "      <td>40</td>\n",
       "      <td>50.0</td>\n",
       "    </tr>\n",
       "  </tbody>\n",
       "</table>\n",
       "</div>"
      ],
      "text/plain": [
       "    C2    C5\n",
       "R4  10  20.0\n",
       "R2  30   NaN\n",
       "R5  40  50.0"
      ]
     },
     "execution_count": 155,
     "metadata": {},
     "output_type": "execute_result"
    }
   ],
   "source": [
    "dFrame2"
   ]
  },
  {
   "cell_type": "code",
   "execution_count": 187,
   "id": "dc7b0160",
   "metadata": {},
   "outputs": [
    {
     "data": {
      "text/html": [
       "<div>\n",
       "<style scoped>\n",
       "    .dataframe tbody tr th:only-of-type {\n",
       "        vertical-align: middle;\n",
       "    }\n",
       "\n",
       "    .dataframe tbody tr th {\n",
       "        vertical-align: top;\n",
       "    }\n",
       "\n",
       "    .dataframe thead th {\n",
       "        text-align: right;\n",
       "    }\n",
       "</style>\n",
       "<table border=\"1\" class=\"dataframe\">\n",
       "  <thead>\n",
       "    <tr style=\"text-align: right;\">\n",
       "      <th></th>\n",
       "      <th>C1</th>\n",
       "      <th>C2</th>\n",
       "      <th>C3</th>\n",
       "      <th>C5</th>\n",
       "    </tr>\n",
       "  </thead>\n",
       "  <tbody>\n",
       "    <tr>\n",
       "      <th>R1</th>\n",
       "      <td>1.0</td>\n",
       "      <td>2.0</td>\n",
       "      <td>3.0</td>\n",
       "      <td>NaN</td>\n",
       "    </tr>\n",
       "    <tr>\n",
       "      <th>R2</th>\n",
       "      <td>4.0</td>\n",
       "      <td>5.0</td>\n",
       "      <td>NaN</td>\n",
       "      <td>NaN</td>\n",
       "    </tr>\n",
       "    <tr>\n",
       "      <th>R3</th>\n",
       "      <td>6.0</td>\n",
       "      <td>NaN</td>\n",
       "      <td>NaN</td>\n",
       "      <td>NaN</td>\n",
       "    </tr>\n",
       "    <tr>\n",
       "      <th>R4</th>\n",
       "      <td>NaN</td>\n",
       "      <td>10.0</td>\n",
       "      <td>NaN</td>\n",
       "      <td>20.0</td>\n",
       "    </tr>\n",
       "    <tr>\n",
       "      <th>R2</th>\n",
       "      <td>NaN</td>\n",
       "      <td>30.0</td>\n",
       "      <td>NaN</td>\n",
       "      <td>NaN</td>\n",
       "    </tr>\n",
       "    <tr>\n",
       "      <th>R5</th>\n",
       "      <td>NaN</td>\n",
       "      <td>40.0</td>\n",
       "      <td>NaN</td>\n",
       "      <td>50.0</td>\n",
       "    </tr>\n",
       "  </tbody>\n",
       "</table>\n",
       "</div>"
      ],
      "text/plain": [
       "     C1    C2   C3    C5\n",
       "R1  1.0   2.0  3.0   NaN\n",
       "R2  4.0   5.0  NaN   NaN\n",
       "R3  6.0   NaN  NaN   NaN\n",
       "R4  NaN  10.0  NaN  20.0\n",
       "R2  NaN  30.0  NaN   NaN\n",
       "R5  NaN  40.0  NaN  50.0"
      ]
     },
     "execution_count": 187,
     "metadata": {},
     "output_type": "execute_result"
    }
   ],
   "source": [
    "NewDf = pd.concat([dFrame1, dFrame2])\n",
    "NewDf"
   ]
  },
  {
   "cell_type": "code",
   "execution_count": null,
   "id": "c351004a",
   "metadata": {},
   "outputs": [],
   "source": []
  },
  {
   "cell_type": "code",
   "execution_count": 178,
   "id": "1022bd3d",
   "metadata": {},
   "outputs": [],
   "source": [
    "# Creating the first Dataframe using dictionary\n",
    "df1 = df = pd.DataFrame({\"a\":[1, 2, 3, 4],\n",
    "                         \"b\":[5, 6, 7, 8]})\n",
    "  \n",
    "# Creating the Second Dataframe using dictionary\n",
    "df2 = pd.DataFrame({\"a\":[1, 2, 3],\n",
    "                    \"b\":[5, 6, 7]})"
   ]
  },
  {
   "cell_type": "code",
   "execution_count": 180,
   "id": "f199dab8",
   "metadata": {},
   "outputs": [],
   "source": [
    "# https://stackoverflow.com/questions/75956209/dataframe-object-has-no-attribute-append\n",
    "# https://www.geeksforgeeks.org/python-pandas-dataframe-append/"
   ]
  },
  {
   "cell_type": "code",
   "execution_count": 183,
   "id": "d01f6e72",
   "metadata": {},
   "outputs": [
    {
     "data": {
      "text/html": [
       "<div>\n",
       "<style scoped>\n",
       "    .dataframe tbody tr th:only-of-type {\n",
       "        vertical-align: middle;\n",
       "    }\n",
       "\n",
       "    .dataframe tbody tr th {\n",
       "        vertical-align: top;\n",
       "    }\n",
       "\n",
       "    .dataframe thead th {\n",
       "        text-align: right;\n",
       "    }\n",
       "</style>\n",
       "<table border=\"1\" class=\"dataframe\">\n",
       "  <thead>\n",
       "    <tr style=\"text-align: right;\">\n",
       "      <th></th>\n",
       "      <th>a</th>\n",
       "      <th>b</th>\n",
       "    </tr>\n",
       "  </thead>\n",
       "  <tbody>\n",
       "    <tr>\n",
       "      <th>0</th>\n",
       "      <td>1</td>\n",
       "      <td>5</td>\n",
       "    </tr>\n",
       "    <tr>\n",
       "      <th>1</th>\n",
       "      <td>2</td>\n",
       "      <td>6</td>\n",
       "    </tr>\n",
       "    <tr>\n",
       "      <th>2</th>\n",
       "      <td>3</td>\n",
       "      <td>7</td>\n",
       "    </tr>\n",
       "    <tr>\n",
       "      <th>3</th>\n",
       "      <td>4</td>\n",
       "      <td>8</td>\n",
       "    </tr>\n",
       "    <tr>\n",
       "      <th>0</th>\n",
       "      <td>1</td>\n",
       "      <td>5</td>\n",
       "    </tr>\n",
       "    <tr>\n",
       "      <th>1</th>\n",
       "      <td>2</td>\n",
       "      <td>6</td>\n",
       "    </tr>\n",
       "    <tr>\n",
       "      <th>2</th>\n",
       "      <td>3</td>\n",
       "      <td>7</td>\n",
       "    </tr>\n",
       "  </tbody>\n",
       "</table>\n",
       "</div>"
      ],
      "text/plain": [
       "   a  b\n",
       "0  1  5\n",
       "1  2  6\n",
       "2  3  7\n",
       "3  4  8\n",
       "0  1  5\n",
       "1  2  6\n",
       "2  3  7"
      ]
     },
     "execution_count": 183,
     "metadata": {},
     "output_type": "execute_result"
    }
   ],
   "source": [
    "NewDf = pd.concat([df1, df2])\n",
    "NewDf"
   ]
  },
  {
   "cell_type": "code",
   "execution_count": null,
   "id": "3645b96f",
   "metadata": {},
   "outputs": [],
   "source": []
  },
  {
   "cell_type": "code",
   "execution_count": 184,
   "id": "cfa4d5cb",
   "metadata": {},
   "outputs": [
    {
     "data": {
      "text/html": [
       "<div>\n",
       "<style scoped>\n",
       "    .dataframe tbody tr th:only-of-type {\n",
       "        vertical-align: middle;\n",
       "    }\n",
       "\n",
       "    .dataframe tbody tr th {\n",
       "        vertical-align: top;\n",
       "    }\n",
       "\n",
       "    .dataframe thead th {\n",
       "        text-align: right;\n",
       "    }\n",
       "</style>\n",
       "<table border=\"1\" class=\"dataframe\">\n",
       "  <thead>\n",
       "    <tr style=\"text-align: right;\">\n",
       "      <th></th>\n",
       "      <th>C1</th>\n",
       "      <th>C2</th>\n",
       "      <th>C3</th>\n",
       "      <th>C5</th>\n",
       "    </tr>\n",
       "  </thead>\n",
       "  <tbody>\n",
       "    <tr>\n",
       "      <th>R1</th>\n",
       "      <td>1.0</td>\n",
       "      <td>2.0</td>\n",
       "      <td>3.0</td>\n",
       "      <td>NaN</td>\n",
       "    </tr>\n",
       "    <tr>\n",
       "      <th>R2</th>\n",
       "      <td>4.0</td>\n",
       "      <td>5.0</td>\n",
       "      <td>NaN</td>\n",
       "      <td>NaN</td>\n",
       "    </tr>\n",
       "    <tr>\n",
       "      <th>R3</th>\n",
       "      <td>6.0</td>\n",
       "      <td>NaN</td>\n",
       "      <td>NaN</td>\n",
       "      <td>NaN</td>\n",
       "    </tr>\n",
       "    <tr>\n",
       "      <th>R4</th>\n",
       "      <td>NaN</td>\n",
       "      <td>10.0</td>\n",
       "      <td>NaN</td>\n",
       "      <td>20.0</td>\n",
       "    </tr>\n",
       "    <tr>\n",
       "      <th>R2</th>\n",
       "      <td>NaN</td>\n",
       "      <td>30.0</td>\n",
       "      <td>NaN</td>\n",
       "      <td>NaN</td>\n",
       "    </tr>\n",
       "    <tr>\n",
       "      <th>R5</th>\n",
       "      <td>NaN</td>\n",
       "      <td>40.0</td>\n",
       "      <td>NaN</td>\n",
       "      <td>50.0</td>\n",
       "    </tr>\n",
       "  </tbody>\n",
       "</table>\n",
       "</div>"
      ],
      "text/plain": [
       "     C1    C2   C3    C5\n",
       "R1  1.0   2.0  3.0   NaN\n",
       "R2  4.0   5.0  NaN   NaN\n",
       "R3  6.0   NaN  NaN   NaN\n",
       "R4  NaN  10.0  NaN  20.0\n",
       "R2  NaN  30.0  NaN   NaN\n",
       "R5  NaN  40.0  NaN  50.0"
      ]
     },
     "execution_count": 184,
     "metadata": {},
     "output_type": "execute_result"
    }
   ],
   "source": [
    "# dFrame1.append(dFrame2)\n",
    "NewDf = pd.concat([dFrame1, dFrame2])\n",
    "NewDf"
   ]
  },
  {
   "cell_type": "code",
   "execution_count": null,
   "id": "82ec2e6d",
   "metadata": {},
   "outputs": [],
   "source": []
  },
  {
   "cell_type": "markdown",
   "id": "e18ba608",
   "metadata": {},
   "source": [
    "### Attributes of DataFrames : "
   ]
  },
  {
   "cell_type": "code",
   "execution_count": 161,
   "id": "9f5ca6c6",
   "metadata": {},
   "outputs": [
    {
     "data": {
      "text/html": [
       "<div>\n",
       "<style scoped>\n",
       "    .dataframe tbody tr th:only-of-type {\n",
       "        vertical-align: middle;\n",
       "    }\n",
       "\n",
       "    .dataframe tbody tr th {\n",
       "        vertical-align: top;\n",
       "    }\n",
       "\n",
       "    .dataframe thead th {\n",
       "        text-align: right;\n",
       "    }\n",
       "</style>\n",
       "<table border=\"1\" class=\"dataframe\">\n",
       "  <thead>\n",
       "    <tr style=\"text-align: right;\">\n",
       "      <th></th>\n",
       "      <th>Assam</th>\n",
       "      <th>Kerala</th>\n",
       "      <th>Delhi</th>\n",
       "    </tr>\n",
       "  </thead>\n",
       "  <tbody>\n",
       "    <tr>\n",
       "      <th>GeoArea</th>\n",
       "      <td>78438</td>\n",
       "      <td>38852</td>\n",
       "      <td>1483.00</td>\n",
       "    </tr>\n",
       "    <tr>\n",
       "      <th>VeryDense</th>\n",
       "      <td>2797</td>\n",
       "      <td>1663</td>\n",
       "      <td>6.72</td>\n",
       "    </tr>\n",
       "    <tr>\n",
       "      <th>ModeratelyDense</th>\n",
       "      <td>10192</td>\n",
       "      <td>9407</td>\n",
       "      <td>56.24</td>\n",
       "    </tr>\n",
       "    <tr>\n",
       "      <th>OpenForest</th>\n",
       "      <td>15116</td>\n",
       "      <td>9251</td>\n",
       "      <td>129.45</td>\n",
       "    </tr>\n",
       "  </tbody>\n",
       "</table>\n",
       "</div>"
      ],
      "text/plain": [
       "                 Assam  Kerala    Delhi\n",
       "GeoArea          78438   38852  1483.00\n",
       "VeryDense         2797    1663     6.72\n",
       "ModeratelyDense  10192    9407    56.24\n",
       "OpenForest       15116    9251   129.45"
      ]
     },
     "execution_count": 161,
     "metadata": {},
     "output_type": "execute_result"
    }
   ],
   "source": [
    "ForestArea = {\n",
    " 'Assam' :pd.Series([78438, 2797, \n",
    "10192, 15116], index = ['GeoArea', 'VeryDense', \n",
    "'ModeratelyDense', 'OpenForest']),\n",
    " 'Kerala' :pd.Series([ 38852, 1663, \n",
    "9407, 9251], index = ['GeoArea' ,'VeryDense', \n",
    "'ModeratelyDense', 'OpenForest']),\n",
    " 'Delhi' :pd.Series([1483, 6.72, 56.24, \n",
    "129.45], index = ['GeoArea', 'VeryDense', \n",
    "'ModeratelyDense', 'OpenForest'])}\n",
    "\n",
    "ForestAreaDF = pd.DataFrame(ForestArea)\n",
    "ForestAreaDF"
   ]
  },
  {
   "cell_type": "code",
   "execution_count": 160,
   "id": "b3411f25",
   "metadata": {},
   "outputs": [
    {
     "data": {
      "text/plain": [
       "Index(['GeoArea', 'VeryDense', 'ModeratelyDense', 'OpenForest'], dtype='object')"
      ]
     },
     "execution_count": 160,
     "metadata": {},
     "output_type": "execute_result"
    }
   ],
   "source": [
    "# to display row labels\n",
    "ForestAreaDF.index"
   ]
  },
  {
   "cell_type": "code",
   "execution_count": 162,
   "id": "cb94baec",
   "metadata": {},
   "outputs": [
    {
     "data": {
      "text/plain": [
       "Index(['Assam', 'Kerala', 'Delhi'], dtype='object')"
      ]
     },
     "execution_count": 162,
     "metadata": {},
     "output_type": "execute_result"
    }
   ],
   "source": [
    "# to display row labels\n",
    "ForestAreaDF.columns"
   ]
  },
  {
   "cell_type": "code",
   "execution_count": 163,
   "id": "583793e8",
   "metadata": {},
   "outputs": [
    {
     "data": {
      "text/plain": [
       "Assam       int64\n",
       "Kerala      int64\n",
       "Delhi     float64\n",
       "dtype: object"
      ]
     },
     "execution_count": 163,
     "metadata": {},
     "output_type": "execute_result"
    }
   ],
   "source": [
    "# to display data type of each column in the DataFrame\n",
    "ForestAreaDF.dtypes "
   ]
  },
  {
   "cell_type": "code",
   "execution_count": 165,
   "id": "b7bac96c",
   "metadata": {},
   "outputs": [
    {
     "data": {
      "text/plain": [
       "numpy.ndarray"
      ]
     },
     "execution_count": 165,
     "metadata": {},
     "output_type": "execute_result"
    }
   ],
   "source": [
    "# to display a NumPy ndarray having all the values in the DataFrame, without the axes labels\n",
    "ForestAreaDF.values \n",
    "type(ForestAreaDF.values)"
   ]
  },
  {
   "cell_type": "code",
   "execution_count": 166,
   "id": "b2b4e938",
   "metadata": {},
   "outputs": [
    {
     "data": {
      "text/plain": [
       "(4, 3)"
      ]
     },
     "execution_count": 166,
     "metadata": {},
     "output_type": "execute_result"
    }
   ],
   "source": [
    "# to display  dimensionality of the DataFrame\n",
    "ForestAreaDF.shape "
   ]
  },
  {
   "cell_type": "code",
   "execution_count": 167,
   "id": "a113c53b",
   "metadata": {},
   "outputs": [
    {
     "data": {
      "text/plain": [
       "12"
      ]
     },
     "execution_count": 167,
     "metadata": {},
     "output_type": "execute_result"
    }
   ],
   "source": [
    "ForestAreaDF.size "
   ]
  },
  {
   "cell_type": "code",
   "execution_count": 168,
   "id": "4643aa13",
   "metadata": {},
   "outputs": [
    {
     "data": {
      "text/html": [
       "<div>\n",
       "<style scoped>\n",
       "    .dataframe tbody tr th:only-of-type {\n",
       "        vertical-align: middle;\n",
       "    }\n",
       "\n",
       "    .dataframe tbody tr th {\n",
       "        vertical-align: top;\n",
       "    }\n",
       "\n",
       "    .dataframe thead th {\n",
       "        text-align: right;\n",
       "    }\n",
       "</style>\n",
       "<table border=\"1\" class=\"dataframe\">\n",
       "  <thead>\n",
       "    <tr style=\"text-align: right;\">\n",
       "      <th></th>\n",
       "      <th>GeoArea</th>\n",
       "      <th>VeryDense</th>\n",
       "      <th>ModeratelyDense</th>\n",
       "      <th>OpenForest</th>\n",
       "    </tr>\n",
       "  </thead>\n",
       "  <tbody>\n",
       "    <tr>\n",
       "      <th>Assam</th>\n",
       "      <td>78438.0</td>\n",
       "      <td>2797.00</td>\n",
       "      <td>10192.00</td>\n",
       "      <td>15116.00</td>\n",
       "    </tr>\n",
       "    <tr>\n",
       "      <th>Kerala</th>\n",
       "      <td>38852.0</td>\n",
       "      <td>1663.00</td>\n",
       "      <td>9407.00</td>\n",
       "      <td>9251.00</td>\n",
       "    </tr>\n",
       "    <tr>\n",
       "      <th>Delhi</th>\n",
       "      <td>1483.0</td>\n",
       "      <td>6.72</td>\n",
       "      <td>56.24</td>\n",
       "      <td>129.45</td>\n",
       "    </tr>\n",
       "  </tbody>\n",
       "</table>\n",
       "</div>"
      ],
      "text/plain": [
       "        GeoArea  VeryDense  ModeratelyDense  OpenForest\n",
       "Assam   78438.0    2797.00         10192.00    15116.00\n",
       "Kerala  38852.0    1663.00          9407.00     9251.00\n",
       "Delhi    1483.0       6.72            56.24      129.45"
      ]
     },
     "execution_count": 168,
     "metadata": {},
     "output_type": "execute_result"
    }
   ],
   "source": [
    "## trnspose\n",
    "ForestAreaDF.T"
   ]
  },
  {
   "cell_type": "code",
   "execution_count": 170,
   "id": "ae70f355",
   "metadata": {},
   "outputs": [
    {
     "data": {
      "text/html": [
       "<div>\n",
       "<style scoped>\n",
       "    .dataframe tbody tr th:only-of-type {\n",
       "        vertical-align: middle;\n",
       "    }\n",
       "\n",
       "    .dataframe tbody tr th {\n",
       "        vertical-align: top;\n",
       "    }\n",
       "\n",
       "    .dataframe thead th {\n",
       "        text-align: right;\n",
       "    }\n",
       "</style>\n",
       "<table border=\"1\" class=\"dataframe\">\n",
       "  <thead>\n",
       "    <tr style=\"text-align: right;\">\n",
       "      <th></th>\n",
       "      <th>Assam</th>\n",
       "      <th>Kerala</th>\n",
       "      <th>Delhi</th>\n",
       "    </tr>\n",
       "  </thead>\n",
       "  <tbody>\n",
       "    <tr>\n",
       "      <th>GeoArea</th>\n",
       "      <td>78438</td>\n",
       "      <td>38852</td>\n",
       "      <td>1483.00</td>\n",
       "    </tr>\n",
       "    <tr>\n",
       "      <th>VeryDense</th>\n",
       "      <td>2797</td>\n",
       "      <td>1663</td>\n",
       "      <td>6.72</td>\n",
       "    </tr>\n",
       "    <tr>\n",
       "      <th>ModeratelyDense</th>\n",
       "      <td>10192</td>\n",
       "      <td>9407</td>\n",
       "      <td>56.24</td>\n",
       "    </tr>\n",
       "    <tr>\n",
       "      <th>OpenForest</th>\n",
       "      <td>15116</td>\n",
       "      <td>9251</td>\n",
       "      <td>129.45</td>\n",
       "    </tr>\n",
       "  </tbody>\n",
       "</table>\n",
       "</div>"
      ],
      "text/plain": [
       "                 Assam  Kerala    Delhi\n",
       "GeoArea          78438   38852  1483.00\n",
       "VeryDense         2797    1663     6.72\n",
       "ModeratelyDense  10192    9407    56.24\n",
       "OpenForest       15116    9251   129.45"
      ]
     },
     "execution_count": 170,
     "metadata": {},
     "output_type": "execute_result"
    }
   ],
   "source": [
    "## last n rows\n",
    "ForestAreaDF.tail(5) "
   ]
  },
  {
   "cell_type": "code",
   "execution_count": 173,
   "id": "ddea8fdb",
   "metadata": {},
   "outputs": [
    {
     "data": {
      "text/html": [
       "<div>\n",
       "<style scoped>\n",
       "    .dataframe tbody tr th:only-of-type {\n",
       "        vertical-align: middle;\n",
       "    }\n",
       "\n",
       "    .dataframe tbody tr th {\n",
       "        vertical-align: top;\n",
       "    }\n",
       "\n",
       "    .dataframe thead th {\n",
       "        text-align: right;\n",
       "    }\n",
       "</style>\n",
       "<table border=\"1\" class=\"dataframe\">\n",
       "  <thead>\n",
       "    <tr style=\"text-align: right;\">\n",
       "      <th></th>\n",
       "      <th>Assam</th>\n",
       "      <th>Kerala</th>\n",
       "      <th>Delhi</th>\n",
       "    </tr>\n",
       "  </thead>\n",
       "  <tbody>\n",
       "    <tr>\n",
       "      <th>GeoArea</th>\n",
       "      <td>78438</td>\n",
       "      <td>38852</td>\n",
       "      <td>1483.00</td>\n",
       "    </tr>\n",
       "    <tr>\n",
       "      <th>VeryDense</th>\n",
       "      <td>2797</td>\n",
       "      <td>1663</td>\n",
       "      <td>6.72</td>\n",
       "    </tr>\n",
       "  </tbody>\n",
       "</table>\n",
       "</div>"
      ],
      "text/plain": [
       "           Assam  Kerala    Delhi\n",
       "GeoArea    78438   38852  1483.00\n",
       "VeryDense   2797    1663     6.72"
      ]
     },
     "execution_count": 173,
     "metadata": {},
     "output_type": "execute_result"
    }
   ],
   "source": [
    "## first n rows\n",
    "ForestAreaDF.head(2) "
   ]
  },
  {
   "cell_type": "code",
   "execution_count": 174,
   "id": "8f5f636f",
   "metadata": {},
   "outputs": [
    {
     "data": {
      "text/plain": [
       "False"
      ]
     },
     "execution_count": 174,
     "metadata": {},
     "output_type": "execute_result"
    }
   ],
   "source": [
    "ForestAreaDF.empty"
   ]
  },
  {
   "cell_type": "code",
   "execution_count": null,
   "id": "5099c78b",
   "metadata": {},
   "outputs": [],
   "source": []
  },
  {
   "cell_type": "code",
   "execution_count": null,
   "id": "06695414",
   "metadata": {},
   "outputs": [],
   "source": []
  },
  {
   "cell_type": "markdown",
   "id": "cfd8f431",
   "metadata": {},
   "source": [
    "### Importing and Exporting Data between CSV Files and DataFrames"
   ]
  },
  {
   "cell_type": "code",
   "execution_count": null,
   "id": "c77ed03d",
   "metadata": {},
   "outputs": [],
   "source": [
    "# Importing and Exporting Data between CSV nFiles and DataFrames"
   ]
  },
  {
   "cell_type": "code",
   "execution_count": 175,
   "id": "323e7974",
   "metadata": {},
   "outputs": [
    {
     "data": {
      "text/html": [
       "<div>\n",
       "<style scoped>\n",
       "    .dataframe tbody tr th:only-of-type {\n",
       "        vertical-align: middle;\n",
       "    }\n",
       "\n",
       "    .dataframe tbody tr th {\n",
       "        vertical-align: top;\n",
       "    }\n",
       "\n",
       "    .dataframe thead th {\n",
       "        text-align: right;\n",
       "    }\n",
       "</style>\n",
       "<table border=\"1\" class=\"dataframe\">\n",
       "  <thead>\n",
       "    <tr style=\"text-align: right;\">\n",
       "      <th></th>\n",
       "      <th>RollNo</th>\n",
       "      <th>Name</th>\n",
       "      <th>Eco</th>\n",
       "      <th>Maths</th>\n",
       "    </tr>\n",
       "  </thead>\n",
       "  <tbody>\n",
       "    <tr>\n",
       "      <th>0</th>\n",
       "      <td>1</td>\n",
       "      <td>Arnab</td>\n",
       "      <td>18</td>\n",
       "      <td>57</td>\n",
       "    </tr>\n",
       "    <tr>\n",
       "      <th>1</th>\n",
       "      <td>2</td>\n",
       "      <td>Kritika</td>\n",
       "      <td>23</td>\n",
       "      <td>45</td>\n",
       "    </tr>\n",
       "    <tr>\n",
       "      <th>2</th>\n",
       "      <td>3</td>\n",
       "      <td>Divyam</td>\n",
       "      <td>51</td>\n",
       "      <td>37</td>\n",
       "    </tr>\n",
       "    <tr>\n",
       "      <th>3</th>\n",
       "      <td>4</td>\n",
       "      <td>Vivaan</td>\n",
       "      <td>40</td>\n",
       "      <td>60</td>\n",
       "    </tr>\n",
       "    <tr>\n",
       "      <th>4</th>\n",
       "      <td>5</td>\n",
       "      <td>Aaroosh</td>\n",
       "      <td>18</td>\n",
       "      <td>27</td>\n",
       "    </tr>\n",
       "  </tbody>\n",
       "</table>\n",
       "</div>"
      ],
      "text/plain": [
       "   RollNo     Name  Eco  Maths\n",
       "0       1    Arnab   18     57\n",
       "1       2  Kritika   23     45\n",
       "2       3   Divyam   51     37\n",
       "3       4   Vivaan   40     60\n",
       "4       5  Aaroosh   18     27"
      ]
     },
     "execution_count": 175,
     "metadata": {},
     "output_type": "execute_result"
    }
   ],
   "source": [
    "marks = pd.read_csv(r\"C:\\Users\\atalb\\Documents\\Python training notebooks\\ResultData.csv\",sep =\",\", header=0)\n",
    "marks"
   ]
  },
  {
   "cell_type": "code",
   "execution_count": 177,
   "id": "0c0c4f3e",
   "metadata": {},
   "outputs": [],
   "source": [
    "marks.to_csv(path_or_buf=r\"C:\\Users\\atalb\\Documents\\Python training notebooks\\ResultData_output22.csv\", sep=',', index = False)"
   ]
  },
  {
   "cell_type": "code",
   "execution_count": null,
   "id": "1c8948f6",
   "metadata": {},
   "outputs": [],
   "source": []
  },
  {
   "cell_type": "code",
   "execution_count": null,
   "id": "24744547",
   "metadata": {},
   "outputs": [],
   "source": []
  },
  {
   "cell_type": "code",
   "execution_count": null,
   "id": "61679480",
   "metadata": {},
   "outputs": [],
   "source": []
  },
  {
   "cell_type": "code",
   "execution_count": null,
   "id": "4d3fcf32",
   "metadata": {},
   "outputs": [],
   "source": []
  },
  {
   "cell_type": "markdown",
   "id": "56362d0e",
   "metadata": {},
   "source": [
    "### Problem 1"
   ]
  },
  {
   "cell_type": "markdown",
   "id": "5b4494cb",
   "metadata": {},
   "source": [
    "Create the following Series and do the specified operations:\n",
    "    \n",
    "a) EngAlph, having 26 elements with the alphabets as values and default index values. \n",
    "\n",
    "b) Vowels, having 5 elements with index labels ‘a’, ‘e’, ‘i’, ‘o’ and ‘u’ and all the five values set to zero. \n",
    "Check if it is an empty series. \n",
    "\n",
    "c) Friends, from a dictionary having roll numbers of five of your friends as data and their first name as keys.\n",
    "\n",
    "d) MTseries, an empty Series. Check if it is an empty series.\n",
    "\n",
    "e) MonthDays, from a numpy array having the number of days in the 12 months of a year. The labels should be the \n",
    "month numbers from 1 to 12."
   ]
  },
  {
   "cell_type": "code",
   "execution_count": null,
   "id": "2128197b",
   "metadata": {},
   "outputs": [],
   "source": []
  },
  {
   "cell_type": "code",
   "execution_count": null,
   "id": "ac0ff34d",
   "metadata": {},
   "outputs": [],
   "source": []
  },
  {
   "cell_type": "markdown",
   "id": "e9e07737",
   "metadata": {},
   "source": [
    "### Problem 2"
   ]
  },
  {
   "cell_type": "markdown",
   "id": "6f286374",
   "metadata": {},
   "source": [
    "Create the following DataFrame Sales containing year wise sales figures for five sales persons in INR. Use the years \n",
    "as column labels, and sales person names as row labels\n",
    "\n",
    "\n",
    "        2014 2015 2016 2017\n",
    "        \n",
    "Madhu 100.5 12000 20000 50000\n",
    "\n",
    "Kusum 150.8 18000 50000 60000\n",
    "\n",
    "Kinshuk 200.9 22000 70000 70000\n",
    "\n",
    "Ankit 30000 30000 100000 80000\n",
    "\n",
    "Shruti 40000 45000 125000 90000"
   ]
  },
  {
   "cell_type": "code",
   "execution_count": null,
   "id": "0678b42e",
   "metadata": {},
   "outputs": [],
   "source": []
  },
  {
   "cell_type": "code",
   "execution_count": null,
   "id": "18966779",
   "metadata": {},
   "outputs": [],
   "source": []
  },
  {
   "cell_type": "markdown",
   "id": "5b5cc6b5",
   "metadata": {},
   "source": [
    "### Problem 3"
   ]
  },
  {
   "cell_type": "markdown",
   "id": "1a0c2692",
   "metadata": {},
   "source": [
    "Use the DataFrame created in Problem 2 above to do the following: \n",
    "    \n",
    "a) Display the row labels of Sales.\n",
    "\n",
    "b) Display the column labels of Sales.\n",
    "\n",
    "c) Display the data types of each column of Sales.\n",
    "\n",
    "d) Display the dimensions, shape, size and values of Sales.\n",
    "\n",
    "e) Display the last two rows of Sales.\n",
    "\n",
    "f) Display the first two columns of Sales."
   ]
  },
  {
   "cell_type": "code",
   "execution_count": null,
   "id": "46c75ba3",
   "metadata": {},
   "outputs": [],
   "source": []
  },
  {
   "cell_type": "code",
   "execution_count": null,
   "id": "7c0b5a8a",
   "metadata": {},
   "outputs": [],
   "source": []
  },
  {
   "cell_type": "code",
   "execution_count": null,
   "id": "298a49ef",
   "metadata": {},
   "outputs": [],
   "source": []
  }
 ],
 "metadata": {
  "kernelspec": {
   "display_name": "Python 3 (ipykernel)",
   "language": "python",
   "name": "python3"
  },
  "language_info": {
   "codemirror_mode": {
    "name": "ipython",
    "version": 3
   },
   "file_extension": ".py",
   "mimetype": "text/x-python",
   "name": "python",
   "nbconvert_exporter": "python",
   "pygments_lexer": "ipython3",
   "version": "3.11.1"
  }
 },
 "nbformat": 4,
 "nbformat_minor": 5
}
