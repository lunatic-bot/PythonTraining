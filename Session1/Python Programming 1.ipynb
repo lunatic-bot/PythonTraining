{
 "cells": [
  {
   "cell_type": "markdown",
   "id": "a52c21d1",
   "metadata": {},
   "source": [
    "# Intoduction to Python Programming"
   ]
  },
  {
   "cell_type": "code",
   "execution_count": null,
   "id": "4115dd94",
   "metadata": {},
   "outputs": [],
   "source": [
    "# install python --- \n",
    "# go to https://www.python.org/downloads/\n",
    "# download exe file for the python version you want\n",
    "# Install the python and add Python in Path variable\n",
    "\n",
    "\n",
    "# install notebook --\n",
    "# pip install jupyter\n",
    "# open notebook\n",
    "# python -m notebook"
   ]
  },
  {
   "cell_type": "code",
   "execution_count": 2,
   "id": "41fb32ec",
   "metadata": {},
   "outputs": [],
   "source": [
    "## random import example to show how cells work in Jupyter Notebook\n",
    "import math"
   ]
  },
  {
   "cell_type": "code",
   "execution_count": null,
   "id": "d2c9768b",
   "metadata": {},
   "outputs": [],
   "source": [
    "## variable initialization\n",
    "PI = 3.14"
   ]
  },
  {
   "cell_type": "code",
   "execution_count": 4,
   "id": "5bf31c11",
   "metadata": {},
   "outputs": [
    {
     "name": "stdout",
     "output_type": "stream",
     "text": [
      "Hello World!\n"
     ]
    }
   ],
   "source": [
    "## helllo world program\n",
    "someVariable = \"Hello World!\"\n",
    "## prints variable on output console\n",
    "print(someVariable)"
   ]
  },
  {
   "cell_type": "code",
   "execution_count": null,
   "id": "a82b1d65",
   "metadata": {},
   "outputs": [],
   "source": []
  }
 ],
 "metadata": {
  "kernelspec": {
   "display_name": "Python 3 (ipykernel)",
   "language": "python",
   "name": "python3"
  },
  "language_info": {
   "codemirror_mode": {
    "name": "ipython",
    "version": 3
   },
   "file_extension": ".py",
   "mimetype": "text/x-python",
   "name": "python",
   "nbconvert_exporter": "python",
   "pygments_lexer": "ipython3",
   "version": "3.11.1"
  }
 },
 "nbformat": 4,
 "nbformat_minor": 5
}
