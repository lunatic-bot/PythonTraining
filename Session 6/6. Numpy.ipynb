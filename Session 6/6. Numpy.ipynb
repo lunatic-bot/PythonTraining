{
 "cells": [
  {
   "cell_type": "markdown",
   "id": "cafd19dc",
   "metadata": {},
   "source": [
    "## Numpy"
   ]
  },
  {
   "cell_type": "code",
   "execution_count": 2,
   "id": "8d28ca43",
   "metadata": {},
   "outputs": [],
   "source": [
    "import numpy as np"
   ]
  },
  {
   "cell_type": "code",
   "execution_count": 4,
   "id": "d0fe016e",
   "metadata": {},
   "outputs": [
    {
     "name": "stdout",
     "output_type": "stream",
     "text": [
      "[10, 20, 30]\n"
     ]
    },
    {
     "data": {
      "text/plain": [
       "array([10, 20, 30])"
      ]
     },
     "execution_count": 4,
     "metadata": {},
     "output_type": "execute_result"
    }
   ],
   "source": [
    "#Create an array called array1 from the given list.\n",
    "lst = [10, 20, 30]\n",
    "print(lst)\n",
    "array1 = np.array(lst)\n",
    "array1"
   ]
  },
  {
   "cell_type": "code",
   "execution_count": 5,
   "id": "d1caae6d",
   "metadata": {},
   "outputs": [
    {
     "name": "stdout",
     "output_type": "stream",
     "text": [
      "<class 'numpy.ndarray'>\n"
     ]
    }
   ],
   "source": [
    "print(type(array1))"
   ]
  },
  {
   "cell_type": "code",
   "execution_count": 8,
   "id": "9b7cb17b",
   "metadata": {},
   "outputs": [
    {
     "data": {
      "text/plain": [
       "1"
      ]
     },
     "execution_count": 8,
     "metadata": {},
     "output_type": "execute_result"
    }
   ],
   "source": [
    "## dimention\n",
    "array1.ndim"
   ]
  },
  {
   "cell_type": "code",
   "execution_count": 11,
   "id": "ac7b3a03",
   "metadata": {},
   "outputs": [
    {
     "data": {
      "text/plain": [
       "(3,)"
      ]
     },
     "execution_count": 11,
     "metadata": {},
     "output_type": "execute_result"
    }
   ],
   "source": [
    "## shape\n",
    "array1.shape"
   ]
  },
  {
   "cell_type": "code",
   "execution_count": 14,
   "id": "cd04d55c",
   "metadata": {},
   "outputs": [
    {
     "data": {
      "text/plain": [
       "3"
      ]
     },
     "execution_count": 14,
     "metadata": {},
     "output_type": "execute_result"
    }
   ],
   "source": [
    "## size\n",
    "array1.size"
   ]
  },
  {
   "cell_type": "code",
   "execution_count": 16,
   "id": "3e9c6c95",
   "metadata": {},
   "outputs": [
    {
     "data": {
      "text/plain": [
       "dtype('int32')"
      ]
     },
     "execution_count": 16,
     "metadata": {},
     "output_type": "execute_result"
    }
   ],
   "source": [
    "## data type\n",
    "array1.dtype"
   ]
  },
  {
   "cell_type": "code",
   "execution_count": 18,
   "id": "36828c1d",
   "metadata": {},
   "outputs": [
    {
     "data": {
      "text/plain": [
       "4"
      ]
     },
     "execution_count": 18,
     "metadata": {},
     "output_type": "execute_result"
    }
   ],
   "source": [
    "## ietem size - size of each item 32bit => 32/8 = 4 byte\n",
    "array1.itemsize"
   ]
  },
  {
   "cell_type": "code",
   "execution_count": null,
   "id": "e72af632",
   "metadata": {},
   "outputs": [],
   "source": []
  },
  {
   "cell_type": "code",
   "execution_count": 6,
   "id": "34af172e",
   "metadata": {},
   "outputs": [
    {
     "data": {
      "text/plain": [
       "array([[1, 2, 4],\n",
       "       [4, 7, 2],\n",
       "       [9, 4, 7]])"
      ]
     },
     "execution_count": 6,
     "metadata": {},
     "output_type": "execute_result"
    }
   ],
   "source": [
    "array2 = np.array([[1,2,4], [4, 7, 2], [9, 4, 7]])\n",
    "array2"
   ]
  },
  {
   "cell_type": "code",
   "execution_count": 7,
   "id": "5784693b",
   "metadata": {},
   "outputs": [
    {
     "data": {
      "text/plain": [
       "numpy.ndarray"
      ]
     },
     "execution_count": 7,
     "metadata": {},
     "output_type": "execute_result"
    }
   ],
   "source": [
    "type(array2)"
   ]
  },
  {
   "cell_type": "code",
   "execution_count": 10,
   "id": "cd9bcaf5",
   "metadata": {},
   "outputs": [
    {
     "data": {
      "text/plain": [
       "2"
      ]
     },
     "execution_count": 10,
     "metadata": {},
     "output_type": "execute_result"
    }
   ],
   "source": [
    "## dimention\n",
    "array2.ndim"
   ]
  },
  {
   "cell_type": "code",
   "execution_count": 13,
   "id": "a98b0891",
   "metadata": {},
   "outputs": [
    {
     "data": {
      "text/plain": [
       "(3, 3)"
      ]
     },
     "execution_count": 13,
     "metadata": {},
     "output_type": "execute_result"
    }
   ],
   "source": [
    "## shape\n",
    "array2.shape"
   ]
  },
  {
   "cell_type": "code",
   "execution_count": 15,
   "id": "dc2a3351",
   "metadata": {},
   "outputs": [
    {
     "data": {
      "text/plain": [
       "9"
      ]
     },
     "execution_count": 15,
     "metadata": {},
     "output_type": "execute_result"
    }
   ],
   "source": [
    "## size\n",
    "array2.size"
   ]
  },
  {
   "cell_type": "code",
   "execution_count": 17,
   "id": "2f8cf982",
   "metadata": {},
   "outputs": [
    {
     "data": {
      "text/plain": [
       "dtype('int32')"
      ]
     },
     "execution_count": 17,
     "metadata": {},
     "output_type": "execute_result"
    }
   ],
   "source": [
    "## data type\n",
    "array2.dtype"
   ]
  },
  {
   "cell_type": "code",
   "execution_count": 19,
   "id": "32814544",
   "metadata": {},
   "outputs": [
    {
     "data": {
      "text/plain": [
       "4"
      ]
     },
     "execution_count": 19,
     "metadata": {},
     "output_type": "execute_result"
    }
   ],
   "source": [
    "## ietem size - size of each item 32bit => 32/8 = 4 byte\n",
    "array2.itemsize"
   ]
  },
  {
   "cell_type": "code",
   "execution_count": null,
   "id": "2f79cad0",
   "metadata": {},
   "outputs": [],
   "source": []
  },
  {
   "cell_type": "markdown",
   "id": "08e62357",
   "metadata": {},
   "source": [
    "### Note: In numpy array we can have strings, and python objects. but all values should be homogeneous(all of the same type)."
   ]
  },
  {
   "cell_type": "code",
   "execution_count": null,
   "id": "d73b9021",
   "metadata": {},
   "outputs": [],
   "source": []
  },
  {
   "cell_type": "code",
   "execution_count": 21,
   "id": "612a2c12",
   "metadata": {},
   "outputs": [
    {
     "data": {
      "text/plain": [
       "array([10., 20., 30.])"
      ]
     },
     "execution_count": 21,
     "metadata": {},
     "output_type": "execute_result"
    }
   ],
   "source": [
    "# 1. ## define with data type - \n",
    "array1 = np.array([10, 20, 30], dtype = float)\n",
    "array1"
   ]
  },
  {
   "cell_type": "code",
   "execution_count": 22,
   "id": "acb5e83e",
   "metadata": {},
   "outputs": [
    {
     "data": {
      "text/plain": [
       "dtype('float64')"
      ]
     },
     "execution_count": 22,
     "metadata": {},
     "output_type": "execute_result"
    }
   ],
   "source": [
    "array1.dtype"
   ]
  },
  {
   "cell_type": "code",
   "execution_count": 23,
   "id": "5e31411c",
   "metadata": {},
   "outputs": [
    {
     "data": {
      "text/plain": [
       "array([[0., 0., 0., 0.],\n",
       "       [0., 0., 0., 0.],\n",
       "       [0., 0., 0., 0.]])"
      ]
     },
     "execution_count": 23,
     "metadata": {},
     "output_type": "execute_result"
    }
   ],
   "source": [
    "# 2. with np.zeros, ## float data type\n",
    "array1 = np.zeros((3,4))\n",
    "array1"
   ]
  },
  {
   "cell_type": "code",
   "execution_count": 24,
   "id": "7e792a58",
   "metadata": {},
   "outputs": [
    {
     "data": {
      "text/plain": [
       "array([[1., 1., 1., 1.],\n",
       "       [1., 1., 1., 1.],\n",
       "       [1., 1., 1., 1.]])"
      ]
     },
     "execution_count": 24,
     "metadata": {},
     "output_type": "execute_result"
    }
   ],
   "source": [
    "# 3. with np.ones  ## float data type\n",
    "array1 = np.ones((3,4))\n",
    "array1"
   ]
  },
  {
   "cell_type": "code",
   "execution_count": 25,
   "id": "ec06a65a",
   "metadata": {},
   "outputs": [
    {
     "data": {
      "text/plain": [
       "array([0, 1, 2, 3, 4, 5])"
      ]
     },
     "execution_count": 25,
     "metadata": {},
     "output_type": "execute_result"
    }
   ],
   "source": [
    "# 4. with np.arange  ## float data type\n",
    "array1 = np.arange(6)\n",
    "array1"
   ]
  },
  {
   "cell_type": "code",
   "execution_count": 28,
   "id": "f18950c4",
   "metadata": {},
   "outputs": [
    {
     "data": {
      "text/plain": [
       "array([3, 4, 5, 6, 7, 8, 9])"
      ]
     },
     "execution_count": 28,
     "metadata": {},
     "output_type": "execute_result"
    }
   ],
   "source": [
    "array1 = np.arange(3, 10)\n",
    "array1"
   ]
  },
  {
   "cell_type": "code",
   "execution_count": null,
   "id": "88f095ca",
   "metadata": {},
   "outputs": [],
   "source": []
  },
  {
   "cell_type": "code",
   "execution_count": 29,
   "id": "fed07f1b",
   "metadata": {},
   "outputs": [
    {
     "data": {
      "text/plain": [
       "array([3, 4, 5, 6, 7, 8, 9])"
      ]
     },
     "execution_count": 29,
     "metadata": {},
     "output_type": "execute_result"
    }
   ],
   "source": [
    "## indexing \n",
    "array1 = np.arange(3, 10)\n",
    "array1"
   ]
  },
  {
   "cell_type": "code",
   "execution_count": 30,
   "id": "61bda98b",
   "metadata": {},
   "outputs": [
    {
     "data": {
      "text/plain": [
       "3"
      ]
     },
     "execution_count": 30,
     "metadata": {},
     "output_type": "execute_result"
    }
   ],
   "source": [
    "array1[0] ## similar to list "
   ]
  },
  {
   "cell_type": "code",
   "execution_count": 31,
   "id": "5d45c350",
   "metadata": {},
   "outputs": [
    {
     "data": {
      "text/plain": [
       "array([[1, 2, 4],\n",
       "       [4, 7, 2],\n",
       "       [9, 4, 7]])"
      ]
     },
     "execution_count": 31,
     "metadata": {},
     "output_type": "execute_result"
    }
   ],
   "source": [
    "array2 = np.array([[1,2,4], [4, 7, 2], [9, 4, 7]])\n",
    "array2"
   ]
  },
  {
   "cell_type": "code",
   "execution_count": 33,
   "id": "5b7b9451",
   "metadata": {},
   "outputs": [
    {
     "data": {
      "text/plain": [
       "2"
      ]
     },
     "execution_count": 33,
     "metadata": {},
     "output_type": "execute_result"
    }
   ],
   "source": [
    "array2[1, 2]  ## for 2d array"
   ]
  },
  {
   "cell_type": "code",
   "execution_count": 34,
   "id": "3ba228c0",
   "metadata": {},
   "outputs": [
    {
     "data": {
      "text/plain": [
       "array([6, 7])"
      ]
     },
     "execution_count": 34,
     "metadata": {},
     "output_type": "execute_result"
    }
   ],
   "source": [
    "## Slicing : form start ton end - 1 \n",
    "array1[3:5]"
   ]
  },
  {
   "cell_type": "code",
   "execution_count": 37,
   "id": "07de60d0",
   "metadata": {},
   "outputs": [
    {
     "data": {
      "text/plain": [
       "array([[ 1,  2,  4,  6,  3],\n",
       "       [ 4,  7,  2,  5,  0],\n",
       "       [ 9,  4,  7,  6, 10],\n",
       "       [ 1,  7,  2,  9,  5],\n",
       "       [ 4,  6,  2,  7,  9]])"
      ]
     },
     "execution_count": 37,
     "metadata": {},
     "output_type": "execute_result"
    }
   ],
   "source": [
    "array2 = np.array([[1,2,4, 6, 3], [4, 7, 2, 5, 0], [9, 4, 7, 6, 10], [1, 7, 2, 9, 5], [4, 6, 2, 7, 9]])\n",
    "array2\n"
   ]
  },
  {
   "cell_type": "code",
   "execution_count": 38,
   "id": "3ae53ff1",
   "metadata": {},
   "outputs": [
    {
     "data": {
      "text/plain": [
       "array([[ 2,  5,  0],\n",
       "       [ 7,  6, 10]])"
      ]
     },
     "execution_count": 38,
     "metadata": {},
     "output_type": "execute_result"
    }
   ],
   "source": [
    "array2[1:3, 2:5]"
   ]
  },
  {
   "cell_type": "code",
   "execution_count": 39,
   "id": "b589a47f",
   "metadata": {},
   "outputs": [
    {
     "data": {
      "text/plain": [
       "array([[11,  7],\n",
       "       [ 7, 11]])"
      ]
     },
     "execution_count": 39,
     "metadata": {},
     "output_type": "execute_result"
    }
   ],
   "source": [
    "array1 = np.array([[1,2], [4, 7]])\n",
    "array2 = np.array([[10,5], [3, 4]])\n",
    "array1 + array2"
   ]
  },
  {
   "cell_type": "code",
   "execution_count": null,
   "id": "bf0c1fc0",
   "metadata": {},
   "outputs": [],
   "source": [
    "## matrix multiplication\n",
    "# [[1, 2]  # [[10, 5]\n",
    "# [4, 7]] # [3, 4]]\n",
    "\n",
    "[\n",
    "    [1 x 10 + 2 x 3     1 x 5 + 2 x 4]\n",
    "    [4 x 10 + 7 x 3     4 x 5 + 7 x 4]\n",
    "]\n",
    "    "
   ]
  },
  {
   "cell_type": "code",
   "execution_count": 40,
   "id": "9cd31378",
   "metadata": {},
   "outputs": [
    {
     "data": {
      "text/plain": [
       "array([[16, 13],\n",
       "       [61, 48]])"
      ]
     },
     "execution_count": 40,
     "metadata": {},
     "output_type": "execute_result"
    }
   ],
   "source": [
    "array1 @ array2"
   ]
  },
  {
   "cell_type": "code",
   "execution_count": 41,
   "id": "199a6408",
   "metadata": {},
   "outputs": [
    {
     "data": {
      "text/plain": [
       "array([[  1,   8],\n",
       "       [ 64, 343]], dtype=int32)"
      ]
     },
     "execution_count": 41,
     "metadata": {},
     "output_type": "execute_result"
    }
   ],
   "source": [
    "array1 ** 3"
   ]
  },
  {
   "cell_type": "code",
   "execution_count": 42,
   "id": "145b8faa",
   "metadata": {},
   "outputs": [
    {
     "data": {
      "text/plain": [
       "array([[10.        ,  2.5       ],\n",
       "       [ 0.75      ,  0.57142857]])"
      ]
     },
     "execution_count": 42,
     "metadata": {},
     "output_type": "execute_result"
    }
   ],
   "source": [
    "array2/array1"
   ]
  },
  {
   "cell_type": "code",
   "execution_count": 43,
   "id": "3cca7d77",
   "metadata": {},
   "outputs": [
    {
     "data": {
      "text/plain": [
       "array([[0, 1],\n",
       "       [3, 4]])"
      ]
     },
     "execution_count": 43,
     "metadata": {},
     "output_type": "execute_result"
    }
   ],
   "source": [
    "array2 % array1"
   ]
  },
  {
   "cell_type": "code",
   "execution_count": 44,
   "id": "87398712",
   "metadata": {},
   "outputs": [
    {
     "data": {
      "text/plain": [
       "array([[ 1,  2,  4,  6,  3],\n",
       "       [ 4,  7,  2,  5,  0],\n",
       "       [ 9,  4,  7,  6, 10],\n",
       "       [ 1,  7,  2,  9,  5],\n",
       "       [ 4,  6,  2,  7,  9]])"
      ]
     },
     "execution_count": 44,
     "metadata": {},
     "output_type": "execute_result"
    }
   ],
   "source": [
    "array2 = np.array([[1,2,4, 6, 3], [4, 7, 2, 5, 0], [9, 4, 7, 6, 10], [1, 7, 2, 9, 5], [4, 6, 2, 7, 9]])\n",
    "array2"
   ]
  },
  {
   "cell_type": "code",
   "execution_count": 46,
   "id": "4ae0d300",
   "metadata": {},
   "outputs": [
    {
     "data": {
      "text/plain": [
       "array([[ 1,  4,  9,  1,  4],\n",
       "       [ 2,  7,  4,  7,  6],\n",
       "       [ 4,  2,  7,  2,  2],\n",
       "       [ 6,  5,  6,  9,  7],\n",
       "       [ 3,  0, 10,  5,  9]])"
      ]
     },
     "execution_count": 46,
     "metadata": {},
     "output_type": "execute_result"
    }
   ],
   "source": [
    "array2.transpose()  ## do not alter original array"
   ]
  },
  {
   "cell_type": "code",
   "execution_count": 47,
   "id": "60aa0ecc",
   "metadata": {},
   "outputs": [
    {
     "data": {
      "text/plain": [
       "array([[ 1,  2,  4,  6,  3],\n",
       "       [ 4,  7,  2,  5,  0],\n",
       "       [ 9,  4,  7,  6, 10],\n",
       "       [ 1,  7,  2,  9,  5],\n",
       "       [ 4,  6,  2,  7,  9]])"
      ]
     },
     "execution_count": 47,
     "metadata": {},
     "output_type": "execute_result"
    }
   ],
   "source": [
    "array2"
   ]
  },
  {
   "cell_type": "code",
   "execution_count": 54,
   "id": "b4ae9c66",
   "metadata": {},
   "outputs": [],
   "source": [
    "array1 = np.array([[5,2], [10, 7]])\n",
    "# array2 = np.array([[10,5], [3, 4]])\n",
    "array1.sort()"
   ]
  },
  {
   "cell_type": "code",
   "execution_count": 55,
   "id": "b9cc68c9",
   "metadata": {},
   "outputs": [
    {
     "data": {
      "text/plain": [
       "array([[ 2,  5],\n",
       "       [ 7, 10]])"
      ]
     },
     "execution_count": 55,
     "metadata": {},
     "output_type": "execute_result"
    }
   ],
   "source": [
    "array1"
   ]
  },
  {
   "cell_type": "code",
   "execution_count": null,
   "id": "707e94b3",
   "metadata": {},
   "outputs": [],
   "source": []
  },
  {
   "cell_type": "code",
   "execution_count": 56,
   "id": "7049802e",
   "metadata": {},
   "outputs": [
    {
     "data": {
      "text/plain": [
       "array([[ 1,  2,  4,  6,  3],\n",
       "       [ 4,  7,  2,  5,  0],\n",
       "       [ 9,  4,  7,  6, 10],\n",
       "       [ 1,  7,  2,  9,  5],\n",
       "       [ 4,  6,  2,  7,  9]])"
      ]
     },
     "execution_count": 56,
     "metadata": {},
     "output_type": "execute_result"
    }
   ],
   "source": [
    "array2 = np.array([[1,2,4, 6, 3], [4, 7, 2, 5, 0], [9, 4, 7, 6, 10], [1, 7, 2, 9, 5], [4, 6, 2, 7, 9]])\n",
    "array2"
   ]
  },
  {
   "cell_type": "code",
   "execution_count": 58,
   "id": "46b9b75d",
   "metadata": {},
   "outputs": [
    {
     "data": {
      "text/plain": [
       "array([[ 1,  2,  3,  4,  6],\n",
       "       [ 0,  2,  4,  5,  7],\n",
       "       [ 4,  6,  7,  9, 10],\n",
       "       [ 1,  2,  5,  7,  9],\n",
       "       [ 2,  4,  6,  7,  9]])"
      ]
     },
     "execution_count": 58,
     "metadata": {},
     "output_type": "execute_result"
    }
   ],
   "source": [
    "## sort\n",
    "array2.sort(axis = 1) ## row\n",
    "array2"
   ]
  },
  {
   "cell_type": "code",
   "execution_count": 59,
   "id": "a89b5175",
   "metadata": {},
   "outputs": [
    {
     "data": {
      "text/plain": [
       "array([[ 0,  2,  3,  4,  6],\n",
       "       [ 1,  2,  4,  5,  7],\n",
       "       [ 1,  2,  5,  7,  9],\n",
       "       [ 2,  4,  6,  7,  9],\n",
       "       [ 4,  6,  7,  9, 10]])"
      ]
     },
     "execution_count": 59,
     "metadata": {},
     "output_type": "execute_result"
    }
   ],
   "source": [
    "array2.sort(axis = 0) ## columns\n",
    "array2"
   ]
  },
  {
   "cell_type": "code",
   "execution_count": null,
   "id": "d414382f",
   "metadata": {},
   "outputs": [],
   "source": []
  },
  {
   "cell_type": "code",
   "execution_count": 64,
   "id": "b7efd6d8",
   "metadata": {},
   "outputs": [],
   "source": [
    "##concatenate\n",
    "array1 = np.array([[5, 2, 0], [10, 7, 10]])\n",
    "array2 = np.array([[10,5], [3, 4]])"
   ]
  },
  {
   "cell_type": "code",
   "execution_count": 65,
   "id": "79b6c360",
   "metadata": {},
   "outputs": [
    {
     "data": {
      "text/plain": [
       "array([[ 5,  2,  0, 10,  5],\n",
       "       [10,  7, 10,  3,  4]])"
      ]
     },
     "execution_count": 65,
     "metadata": {},
     "output_type": "execute_result"
    }
   ],
   "source": [
    "\n",
    "np.concatenate((array1, array2), axis = 1) ## axis 1 means row"
   ]
  },
  {
   "cell_type": "code",
   "execution_count": null,
   "id": "69997483",
   "metadata": {},
   "outputs": [],
   "source": []
  },
  {
   "cell_type": "code",
   "execution_count": 77,
   "id": "b1aca534",
   "metadata": {},
   "outputs": [
    {
     "data": {
      "text/plain": [
       "array([ 3,  4,  5,  6,  7,  8,  9, 10, 11, 12, 13, 14, 15, 16, 17])"
      ]
     },
     "execution_count": 77,
     "metadata": {},
     "output_type": "execute_result"
    }
   ],
   "source": [
    "array1 = np.arange(3, 18)\n",
    "array1"
   ]
  },
  {
   "cell_type": "code",
   "execution_count": 78,
   "id": "0baf34bb",
   "metadata": {},
   "outputs": [
    {
     "data": {
      "text/plain": [
       "array([[ 3,  4,  5,  6,  7],\n",
       "       [ 8,  9, 10, 11, 12],\n",
       "       [13, 14, 15, 16, 17]])"
      ]
     },
     "execution_count": 78,
     "metadata": {},
     "output_type": "execute_result"
    }
   ],
   "source": [
    "## reshape\n",
    "array1.reshape(3, 5)"
   ]
  },
  {
   "cell_type": "code",
   "execution_count": 73,
   "id": "ab95d368",
   "metadata": {},
   "outputs": [
    {
     "data": {
      "text/plain": [
       "array([[ 3,  4,  5],\n",
       "       [ 6,  7,  8],\n",
       "       [ 9, 10, 11],\n",
       "       [12, 13, 14],\n",
       "       [15, 16, 17]])"
      ]
     },
     "execution_count": 73,
     "metadata": {},
     "output_type": "execute_result"
    }
   ],
   "source": [
    "array1.reshape(5, 3)"
   ]
  },
  {
   "cell_type": "code",
   "execution_count": 80,
   "id": "5bc5a8a8",
   "metadata": {},
   "outputs": [
    {
     "data": {
      "text/plain": [
       "array([[ 1,  2,  4,  6,  3],\n",
       "       [ 4,  7,  2,  5,  0],\n",
       "       [ 9,  4,  7,  6, 10],\n",
       "       [ 1,  7,  2,  9,  5]])"
      ]
     },
     "execution_count": 80,
     "metadata": {},
     "output_type": "execute_result"
    }
   ],
   "source": [
    "## reshape\n",
    "array2 = np.array([[1,2,4, 6, 3], [4, 7, 2, 5, 0], [9, 4, 7, 6, 10], [1, 7, 2, 9, 5]])\n",
    "array2"
   ]
  },
  {
   "cell_type": "code",
   "execution_count": 81,
   "id": "5e36de39",
   "metadata": {},
   "outputs": [
    {
     "data": {
      "text/plain": [
       "array([[ 1,  2,  4,  6],\n",
       "       [ 3,  4,  7,  2],\n",
       "       [ 5,  0,  9,  4],\n",
       "       [ 7,  6, 10,  1],\n",
       "       [ 7,  2,  9,  5]])"
      ]
     },
     "execution_count": 81,
     "metadata": {},
     "output_type": "execute_result"
    }
   ],
   "source": [
    "array2.reshape(5, 4)"
   ]
  },
  {
   "cell_type": "code",
   "execution_count": null,
   "id": "ddad2b95",
   "metadata": {},
   "outputs": [],
   "source": []
  },
  {
   "cell_type": "code",
   "execution_count": 83,
   "id": "a1460e0f",
   "metadata": {},
   "outputs": [
    {
     "data": {
      "text/plain": [
       "array([[ 1,  2,  4,  6,  3],\n",
       "       [ 4,  7,  2,  5,  0],\n",
       "       [ 9,  4,  7,  6, 10],\n",
       "       [ 1,  7,  2,  9,  5],\n",
       "       [ 4,  6,  2,  7,  9]])"
      ]
     },
     "execution_count": 83,
     "metadata": {},
     "output_type": "execute_result"
    }
   ],
   "source": [
    "## split\n",
    "array2 = np.array([[1,2,4, 6, 3], [4, 7, 2, 5, 0], [9, 4, 7, 6, 10], [1, 7, 2, 9, 5], [4, 6, 2, 7, 9]])\n",
    "array2"
   ]
  },
  {
   "cell_type": "code",
   "execution_count": 84,
   "id": "783088ef",
   "metadata": {},
   "outputs": [],
   "source": [
    "first, second, third = np.split(array2, [1, 3])"
   ]
  },
  {
   "cell_type": "code",
   "execution_count": 85,
   "id": "421d1fc8",
   "metadata": {},
   "outputs": [
    {
     "data": {
      "text/plain": [
       "array([[1, 2, 4, 6, 3]])"
      ]
     },
     "execution_count": 85,
     "metadata": {},
     "output_type": "execute_result"
    }
   ],
   "source": [
    "first"
   ]
  },
  {
   "cell_type": "code",
   "execution_count": 86,
   "id": "e6d467af",
   "metadata": {},
   "outputs": [
    {
     "data": {
      "text/plain": [
       "array([[ 4,  7,  2,  5,  0],\n",
       "       [ 9,  4,  7,  6, 10]])"
      ]
     },
     "execution_count": 86,
     "metadata": {},
     "output_type": "execute_result"
    }
   ],
   "source": [
    "second"
   ]
  },
  {
   "cell_type": "code",
   "execution_count": 87,
   "id": "8f8a0f76",
   "metadata": {},
   "outputs": [
    {
     "data": {
      "text/plain": [
       "array([[1, 7, 2, 9, 5],\n",
       "       [4, 6, 2, 7, 9]])"
      ]
     },
     "execution_count": 87,
     "metadata": {},
     "output_type": "execute_result"
    }
   ],
   "source": [
    "third"
   ]
  },
  {
   "cell_type": "code",
   "execution_count": null,
   "id": "527030d9",
   "metadata": {},
   "outputs": [],
   "source": []
  },
  {
   "cell_type": "code",
   "execution_count": 88,
   "id": "7907f885",
   "metadata": {},
   "outputs": [
    {
     "data": {
      "text/plain": [
       "6.0"
      ]
     },
     "execution_count": 88,
     "metadata": {},
     "output_type": "execute_result"
    }
   ],
   "source": [
    "## mean\n",
    "array1 = np.array([[5,2], [10, 7]])\n",
    "array1.mean()"
   ]
  },
  {
   "cell_type": "code",
   "execution_count": 90,
   "id": "d70c7651",
   "metadata": {},
   "outputs": [
    {
     "data": {
      "text/plain": [
       "2.9154759474226504"
      ]
     },
     "execution_count": 90,
     "metadata": {},
     "output_type": "execute_result"
    }
   ],
   "source": [
    "## standard deviation\n",
    "array1 = np.array([[5,2], [10, 7]])\n",
    "array1.std()"
   ]
  },
  {
   "cell_type": "code",
   "execution_count": null,
   "id": "8decb0eb",
   "metadata": {},
   "outputs": [],
   "source": []
  },
  {
   "cell_type": "code",
   "execution_count": null,
   "id": "35227c99",
   "metadata": {},
   "outputs": [],
   "source": []
  },
  {
   "cell_type": "code",
   "execution_count": 91,
   "id": "54f8a4bd",
   "metadata": {},
   "outputs": [
    {
     "data": {
      "text/plain": [
       "array([[ 1, 36, 18, 57],\n",
       "       [ 2, 22, 23, 45],\n",
       "       [ 3, 43, 51, 37],\n",
       "       [ 4, 41, 40, 60],\n",
       "       [ 5, 13, 18, 37]])"
      ]
     },
     "execution_count": 91,
     "metadata": {},
     "output_type": "execute_result"
    }
   ],
   "source": [
    "## read array from a file,\n",
    "studentdata = np.loadtxt(r'C:\\Users\\atalb\\Documents\\Python training notebooks/marksheet.txt', skiprows=1, delimiter=',', dtype = int)\n",
    "studentdata"
   ]
  },
  {
   "cell_type": "code",
   "execution_count": 96,
   "id": "d0fde86a",
   "metadata": {},
   "outputs": [
    {
     "data": {
      "text/plain": [
       "array([[ 1., 36., 18., 57.],\n",
       "       [ 2., nan, 23., 45.],\n",
       "       [ 3., 43., 51., nan],\n",
       "       [ 4., 41., 40., 60.],\n",
       "       [ 5., 13., 18., 27.]])"
      ]
     },
     "execution_count": 96,
     "metadata": {},
     "output_type": "execute_result"
    }
   ],
   "source": [
    "## read array from a file, replace no value to nan \n",
    "studentdata = np.genfromtxt(r'C:\\Users\\atalb\\Documents\\Python training notebooks/marksheet_missing.txt', skip_header = 1, delimiter=',')\n",
    "studentdata"
   ]
  },
  {
   "cell_type": "code",
   "execution_count": 98,
   "id": "fb8a22c0",
   "metadata": {},
   "outputs": [],
   "source": [
    "## save array to a file\n",
    "np.savetxt(r'C:\\Users\\atalb\\Documents\\Python training notebooks/save.txt', array2, delimiter=',', fmt='%i')"
   ]
  },
  {
   "cell_type": "code",
   "execution_count": null,
   "id": "87b60bf3",
   "metadata": {},
   "outputs": [],
   "source": []
  },
  {
   "cell_type": "markdown",
   "id": "b94c7da4",
   "metadata": {},
   "source": [
    "#### Note: In numpy array we can have strings, and python objects. but all values should be homogeneous(all of the same type)."
   ]
  },
  {
   "cell_type": "code",
   "execution_count": 103,
   "id": "bbbb4921",
   "metadata": {},
   "outputs": [
    {
     "data": {
      "text/plain": [
       "array(['a', 'e', 'i', 'o', 'u'], dtype='<U1')"
      ]
     },
     "execution_count": 103,
     "metadata": {},
     "output_type": "execute_result"
    }
   ],
   "source": [
    "\n",
    "arr = np.array(['a', 'e', 'i', 'o', 'u'])\n",
    "arr"
   ]
  },
  {
   "cell_type": "code",
   "execution_count": null,
   "id": "59f947b2",
   "metadata": {},
   "outputs": [],
   "source": []
  },
  {
   "cell_type": "markdown",
   "id": "5eb5c836",
   "metadata": {},
   "source": [
    "## Problem 1"
   ]
  },
  {
   "cell_type": "markdown",
   "id": "9d69cc00",
   "metadata": {},
   "source": [
    "4. Create the following NumPy arrays:\n",
    "\n",
    "a) A 1-D array called zeros having 10 elements and \n",
    "all the elements are set to zero.\n",
    "\n",
    "b) A 1-D array called vowels having the elements ‘a’, \n",
    "‘e’, ‘i’, ‘o’ and ‘u’.\n",
    "\n",
    "c) A 2-D array called ones having 2 rows and 5 \n",
    "columns and all the elements are set to 1 and \n",
    "dtype as int.\n",
    "\n",
    "d) Use nested Python lists to create a 2-D array called \n",
    "myarray1 having 3 rows and 3 columns and store \n",
    "the following data:\n",
    " 2.7, -2, -19\n",
    " 0, 3.4, 99.9\n",
    " 10.6, 0, 13\n",
    " \n",
    "e) A 2-D array called myarray2 using arange() \n",
    "having 3 rows and 5 columns with start value = 4, \n",
    "step size 4 and dtype as float."
   ]
  },
  {
   "cell_type": "code",
   "execution_count": null,
   "id": "4909f7dc",
   "metadata": {},
   "outputs": [],
   "source": []
  },
  {
   "cell_type": "code",
   "execution_count": null,
   "id": "385a8a23",
   "metadata": {},
   "outputs": [],
   "source": []
  },
  {
   "cell_type": "code",
   "execution_count": null,
   "id": "f56c272e",
   "metadata": {},
   "outputs": [],
   "source": []
  }
 ],
 "metadata": {
  "kernelspec": {
   "display_name": "Python 3 (ipykernel)",
   "language": "python",
   "name": "python3"
  },
  "language_info": {
   "codemirror_mode": {
    "name": "ipython",
    "version": 3
   },
   "file_extension": ".py",
   "mimetype": "text/x-python",
   "name": "python",
   "nbconvert_exporter": "python",
   "pygments_lexer": "ipython3",
   "version": "3.11.1"
  }
 },
 "nbformat": 4,
 "nbformat_minor": 5
}
